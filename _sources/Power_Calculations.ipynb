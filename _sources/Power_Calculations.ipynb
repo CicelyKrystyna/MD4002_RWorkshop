{
  "nbformat": 4,
  "nbformat_minor": 0,
  "metadata": {
    "colab": {
      "provenance": []
    },
    "kernelspec": {
      "name": "ir",
      "display_name": "R"
    },
    "language_info": {
      "name": "R"
    }
  },
  "cells": [
    {
      "cell_type": "markdown",
      "source": [
        "# What are Power Calculations"
      ],
      "metadata": {
        "id": "MJw3giiDNvqp"
      }
    },
    {
      "cell_type": "markdown",
      "source": [],
      "metadata": {
        "id": "3-1nfhWDN5c0"
      }
    },
    {
      "cell_type": "markdown",
      "source": [
        "# Power Calculations in GPower\n",
        "\n"
      ],
      "metadata": {
        "id": "a_dbK-GS735s"
      }
    },
    {
      "cell_type": "markdown",
      "source": [],
      "metadata": {
        "id": "-y4MnA868VvX"
      }
    },
    {
      "cell_type": "markdown",
      "source": [
        "# Power Calculations in R"
      ],
      "metadata": {
        "id": "37SKKQWoEtrS"
      }
    }
  ]
}