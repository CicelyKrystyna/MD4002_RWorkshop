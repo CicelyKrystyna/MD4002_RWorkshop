{
  "nbformat": 4,
  "nbformat_minor": 0,
  "metadata": {
    "colab": {
      "provenance": []
    },
    "kernelspec": {
      "name": "ir",
      "display_name": "R"
    },
    "language_info": {
      "name": "R"
    }
  },
  "cells": [
    {
      "cell_type": "markdown",
      "source": [
        "# What is an ANOVA"
      ],
      "metadata": {
        "id": "MJw3giiDNvqp"
      }
    },
    {
      "cell_type": "markdown",
      "source": [],
      "metadata": {
        "id": "3-1nfhWDN5c0"
      }
    },
    {
      "cell_type": "markdown",
      "source": [
        "# ANOVA in R\n",
        "\n"
      ],
      "metadata": {
        "id": "a_dbK-GS735s"
      }
    },
    {
      "cell_type": "markdown",
      "source": [],
      "metadata": {
        "id": "-y4MnA868VvX"
      }
    }
  ]
}