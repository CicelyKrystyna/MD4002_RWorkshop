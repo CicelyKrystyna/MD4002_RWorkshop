{
 "cells": [
  {
   "cell_type": "markdown",
   "id": "c3b4d7aa-2f7c-4b24-92f2-9dd3cbb12509",
   "metadata": {
    "id": "c3b4d7aa-2f7c-4b24-92f2-9dd3cbb12509"
   },
   "source": [
    "# R Set-up"
   ]
  },
  {
   "cell_type": "markdown",
   "id": "7afccdaf-4b29-491d-9bf4-a18d9b5cd476",
   "metadata": {
    "id": "7afccdaf-4b29-491d-9bf4-a18d9b5cd476"
   },
   "source": [
    "There are a few things you need to do every time you open R:\n",
    "\n",
    "* Install/Load packages\n",
    "* Read in (import) data files\n"
   ]
  },
  {
   "cell_type": "markdown",
   "id": "WyOSqtDFdAld",
   "metadata": {
    "id": "WyOSqtDFdAld"
   },
   "source": [
    "## Install/Load Packages\n",
    "\n"
   ]
  },
  {
   "cell_type": "markdown",
   "id": "vAEc4IexdqI2",
   "metadata": {
    "id": "vAEc4IexdqI2"
   },
   "source": [
    "We **install** packages in R once. We **load** packages we are going to use everytime we open/start R. We recommended that you write the installation/load code at the top of your code script. This makes it easy to see what packages you used at a glance.\n",
    "\n",
    "```{note}\n",
    "`#` is used to indicate a comment in R. This is a line which R will skip over and not try to run as code.\n",
    "```"
   ]
  },
  {
   "cell_type": "code",
   "execution_count": 4,
   "id": "e69cddb8-6899-47cf-bf50-e6389dd432d4",
   "metadata": {
    "id": "e69cddb8-6899-47cf-bf50-e6389dd432d4"
   },
   "outputs": [],
   "source": [
    "# Install your packages (first use only)\n",
    "# install.packages(\"tidyverse\")\n",
    "# install.packages(\"janitor\")\n",
    "# install.packages(\"gtsummary\")\n",
    "\n",
    "# Load your packages\n",
    "library(tidyverse)\n",
    "library(janitor)\n",
    "library(gtsummary)"
   ]
  },
  {
   "cell_type": "markdown",
   "id": "cc9199be-a7d2-4964-a7a8-799df3736a70",
   "metadata": {
    "id": "cc9199be-a7d2-4964-a7a8-799df3736a70"
   },
   "source": [
    "## Load in your Data\n",
    "\n"
   ]
  },
  {
   "cell_type": "markdown",
   "id": "r1eXAaxoixKQ",
   "metadata": {
    "id": "r1eXAaxoixKQ"
   },
   "source": [
    "There are a variety of different ways to read data into R, since there are a variety of different ways to save and store data. One of the more common ways to save data is as a CSV (comma delimited file).\n",
    "\n",
    "```{note}\n",
    "You will need to know which directory (folder) you're working in when working with R and point correctly to the file sleep.csv.\n",
    "```"
   ]
  },
  {
   "cell_type": "code",
   "execution_count": null,
   "id": "56252157-ede8-4117-af38-2908388b8a17",
   "metadata": {
    "id": "56252157-ede8-4117-af38-2908388b8a17"
   },
   "outputs": [],
   "source": [
    "# Read in your data and assign this to a data frame called sleep\n",
    "sleep <- read_csv(\"sleep.csv\")"
   ]
  },
  {
   "cell_type": "markdown",
   "id": "bcc5ee1b-c23a-4add-9bcf-e7b908460972",
   "metadata": {
    "id": "bcc5ee1b-c23a-4add-9bcf-e7b908460972"
   },
   "source": [
    "Notice the message R prints out. It indicates the delimiter (,), the type of each column, and the row and column count.\n",
    "\n",
    "```{note}\n",
    "R automatically saves the first row from the .csv file as column names.\n",
    "```"
   ]
  }
 ],
 "metadata": {
  "colab": {
   "provenance": [],
   "toc_visible": true
  },
  "kernelspec": {
   "display_name": "R",
   "language": "R",
   "name": "ir"
  },
  "language_info": {
   "codemirror_mode": "r",
   "file_extension": ".r",
   "mimetype": "text/x-r-source",
   "name": "R",
   "pygments_lexer": "r",
   "version": "4.4.2"
  }
 },
 "nbformat": 4,
 "nbformat_minor": 5
}
