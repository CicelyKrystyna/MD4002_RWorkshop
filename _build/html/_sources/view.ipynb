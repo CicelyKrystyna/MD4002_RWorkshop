{
 "cells": [
  {
   "cell_type": "markdown",
   "id": "7d5e6c0c-3c15-474e-8669-5051d891fb6e",
   "metadata": {},
   "source": [
    "# Data Workflow"
   ]
  },
  {
   "cell_type": "markdown",
   "id": "df433e83-40db-4c6b-9635-f8e4458606db",
   "metadata": {
    "id": "df433e83-40db-4c6b-9635-f8e4458606db"
   },
   "source": [
    "## Scenario"
   ]
  },
  {
   "cell_type": "markdown",
   "id": "4e5b191a-9371-4622-8e54-89ae927d3297",
   "metadata": {
    "id": "4e5b191a-9371-4622-8e54-89ae927d3297"
   },
   "source": [
    "We are a part of a research team conducting a study that aims to understand if there is an association between the average number of hours an individual sleeps each night and the development of hypertension in adults aged 40 years or older. The research team believes that the following factors could obscure such an association, and as such should be adjusted for:\n",
    "\n",
    "* Average daily alcohol consumption `[alcohol_day]`\n",
    "* Regular use of marijuana `[regular_marij]`\n",
    "* Is participant currently a smoker `[smoke_now]`\n",
    "* Is participant regularly physically active `[phys_active]`\n",
    "* BMI Group (underweight, healthy, overweight, obese) `[bmi]`\n",
    "\n",
    "To answer this research question, we will use the US National Health and Nutrition Examination Survey (NHANES) provided within the data file sleep.csv.\n",
    "\n",
    "```{note}\n",
    "The statistical methods for survey data are beyond the scope of this R workshop, as such we will treat this data as if it was collected from randomly selected individuals.\n",
    "```"
   ]
  },
  {
   "cell_type": "markdown",
   "id": "c3b4d7aa-2f7c-4b24-92f2-9dd3cbb12509",
   "metadata": {
    "id": "c3b4d7aa-2f7c-4b24-92f2-9dd3cbb12509"
   },
   "source": [
    "# R Set-up"
   ]
  },
  {
   "cell_type": "markdown",
   "id": "7afccdaf-4b29-491d-9bf4-a18d9b5cd476",
   "metadata": {
    "id": "7afccdaf-4b29-491d-9bf4-a18d9b5cd476"
   },
   "source": [
    "There are a few things you need to do every time you open R:\n",
    "\n",
    "* Install/Load packages\n",
    "* Read in data (import data into R)\n"
   ]
  },
  {
   "cell_type": "markdown",
   "id": "WyOSqtDFdAld",
   "metadata": {
    "id": "WyOSqtDFdAld"
   },
   "source": [
    "## Install/Load Packages\n",
    "\n"
   ]
  },
  {
   "cell_type": "markdown",
   "id": "vAEc4IexdqI2",
   "metadata": {
    "id": "vAEc4IexdqI2"
   },
   "source": [
    "We **install** packages in R once. We **load** packages we are going to use everytime we open/start R. We recommended that you write the installation/load code at the top of your code script. This makes it easy to see what packages you used at a glance.\n",
    "\n",
    "```{note}\n",
    "`#` is used to indicate a comment in R. This is a line which R will skip over and not try to run as code.\n",
    "```"
   ]
  },
  {
   "cell_type": "code",
   "execution_count": 4,
   "id": "e69cddb8-6899-47cf-bf50-e6389dd432d4",
   "metadata": {
    "collapsed": true,
    "id": "e69cddb8-6899-47cf-bf50-e6389dd432d4",
    "jupyter": {
     "outputs_hidden": true
    }
   },
   "outputs": [],
   "source": [
    "# Install your packages (first use only)\n",
    "# install.packages(\"tidyverse\")\n",
    "# install.packages(\"janitor\")\n",
    "# install.packages(\"gtsummary\")\n",
    "\n",
    "# Load your packages\n",
    "library(tidyverse)\n",
    "library(janitor)\n",
    "library(gtsummary)"
   ]
  },
  {
   "cell_type": "markdown",
   "id": "cc9199be-a7d2-4964-a7a8-799df3736a70",
   "metadata": {
    "id": "cc9199be-a7d2-4964-a7a8-799df3736a70"
   },
   "source": [
    "## Load in your Data\n",
    "\n"
   ]
  },
  {
   "cell_type": "markdown",
   "id": "r1eXAaxoixKQ",
   "metadata": {
    "id": "r1eXAaxoixKQ"
   },
   "source": [
    "There are a variety of different ways to read data into R, since there are a variety of different ways to save and store data. One of the more common ways to save data is as a CSV (comma delimited file).\n",
    "\n",
    "```{note}\n",
    "You will need to know which directory (folder) you're working in when working with R and point correctly to the file sleep.csv.\n",
    "```"
   ]
  },
  {
   "cell_type": "code",
   "execution_count": null,
   "id": "56252157-ede8-4117-af38-2908388b8a17",
   "metadata": {
    "id": "56252157-ede8-4117-af38-2908388b8a17"
   },
   "outputs": [],
   "source": [
    "# Read in your data and assign this to a data frame called sleep\n",
    "sleep <- read_csv(\"sleep.csv\")"
   ]
  },
  {
   "cell_type": "markdown",
   "id": "bcc5ee1b-c23a-4add-9bcf-e7b908460972",
   "metadata": {
    "id": "bcc5ee1b-c23a-4add-9bcf-e7b908460972"
   },
   "source": [
    "Notice the message R prints out. It indicates the delimiter (,), the type of each column, and the row and column count.\n",
    "\n",
    "```{note}\n",
    "R automatically saves the first row from the .csv file as column names.\n",
    "```"
   ]
  },
  {
   "cell_type": "markdown",
   "id": "e001c5bd-eb99-4b77-a76b-09d74baa4de2",
   "metadata": {
    "id": "e001c5bd-eb99-4b77-a76b-09d74baa4de2"
   },
   "source": [
    "# Data Wrangling"
   ]
  },
  {
   "cell_type": "markdown",
   "id": "415b3990-2a50-43aa-bf71-9738cecbc49b",
   "metadata": {
    "id": "415b3990-2a50-43aa-bf71-9738cecbc49b"
   },
   "source": [
    "## Viewing your data"
   ]
  },
  {
   "cell_type": "markdown",
   "id": "61c65cda-0692-43f7-8988-8cd6e194d1a1",
   "metadata": {
    "id": "61c65cda-0692-43f7-8988-8cd6e194d1a1"
   },
   "source": [
    "It is generally **good practice** to look at your data to scan for things that might need fixing, for example:\n",
    "\n",
    "* Text in numerical cells (e.g. “six” vs 6)\n",
    "* Odd characters (e.g. >, <, /, etc.)\n",
    "* Varied Date formats (e.g 01/16/2024, 16-1-24, Jan 16 2024, etc.)\n",
    "* Coded variables (e.g. 99 = Missing)\n",
    "* Typos (e.g. ys, yse)\n",
    "* Variable capitalization or abbreviations (e.g. Yes, Y, yes)\n",
    "* Misaligned variable types\n",
    "\n",
    "However, it is **bad practice** to look at your data for patterns or to see what research questions you should ask and test.\n",
    "\n",
    "There are a couple of different ways you can look at your data:\n",
    "\n",
    "* Glimpse provides information on each column, it's name, type and the first few entries:\n"
   ]
  },
  {
   "cell_type": "code",
   "execution_count": null,
   "id": "n4avggPAfiCi",
   "metadata": {
    "id": "n4avggPAfiCi"
   },
   "outputs": [],
   "source": [
    "glimpse(sleep)"
   ]
  },
  {
   "cell_type": "markdown",
   "id": "WO44uinWgWFe",
   "metadata": {
    "id": "WO44uinWgWFe"
   },
   "source": [
    "* Head (Tail) shows the first (last) *n* rows:"
   ]
  },
  {
   "cell_type": "code",
   "execution_count": null,
   "id": "HtdGx982gimB",
   "metadata": {
    "id": "HtdGx982gimB"
   },
   "outputs": [],
   "source": [
    "head(sleep, n=2)\n",
    "tail(sleep, n=3)"
   ]
  },
  {
   "cell_type": "markdown",
   "id": "BXfTyD4-guq9",
   "metadata": {
    "id": "BXfTyD4-guq9"
   },
   "source": [
    "* View which will work in R Studio will open the whole data file in a separate panel. To do this either type `View(sleep)` or click on `sleep` in the environment panel of R Studio."
   ]
  },
  {
   "cell_type": "markdown",
   "id": "HZnFB_aGhNPM",
   "metadata": {
    "id": "HZnFB_aGhNPM"
   },
   "source": [
    "## Data Cleaning and Preparation"
   ]
  },
  {
   "cell_type": "markdown",
   "id": "nk070xd3iBvP",
   "metadata": {
    "id": "nk070xd3iBvP"
   },
   "source": [
    "### Clean Column Names"
   ]
  },
  {
   "cell_type": "markdown",
   "id": "35fca2f4-2c18-42b6-899d-d80c03f8acd0",
   "metadata": {
    "id": "35fca2f4-2c18-42b6-899d-d80c03f8acd0"
   },
   "source": [
    "A good first step is to clean column names, in case there are any odd symbols or mixed cases. The quickest way to do this is with the clean_names function from the `janitor` package."
   ]
  },
  {
   "cell_type": "code",
   "execution_count": null,
   "id": "c31648a2-1f2b-44da-b86e-aa296a414b9b",
   "metadata": {
    "id": "c31648a2-1f2b-44da-b86e-aa296a414b9b"
   },
   "outputs": [],
   "source": [
    "# Fix column names reassigning this to the data frame sleep\n",
    "sleep <- clean_names(sleep)"
   ]
  },
  {
   "cell_type": "markdown",
   "id": "LIFCZsGciIXV",
   "metadata": {
    "id": "LIFCZsGciIXV"
   },
   "source": [
    "### Trimming Data"
   ]
  },
  {
   "cell_type": "markdown",
   "id": "G84TcL9NhxL8",
   "metadata": {
    "id": "G84TcL9NhxL8"
   },
   "source": [
    "It is often practical to trim your data set down to only the\n",
    "necessary columns (variables). We can easily do this using the select function. We will keep only the variables mentioned in the Scenario.\n",
    "\n",
    "*Note: it is best practise to preserve the original data frame so when we trim we assign this to a new data frame.*"
   ]
  },
  {
   "cell_type": "code",
   "execution_count": null,
   "id": "d0efd14a-cb31-49c9-8f54-d4dbab0d0dd3",
   "metadata": {
    "id": "d0efd14a-cb31-49c9-8f54-d4dbab0d0dd3"
   },
   "outputs": [],
   "source": [
    "# Trim sleep to select columns only and assign this to a new data frame sleep_trim\n",
    "sleep_trim <- sleep %>%\n",
    "  select(id,\n",
    "    gender,\n",
    "    age,\n",
    "    hypertension,\n",
    "    sleep_hrs_night,\n",
    "    phys_active,\n",
    "    smoke_now,\n",
    "    alcohol_day,\n",
    "    regular_marij,\n",
    "    bmi)"
   ]
  }
 ],
 "metadata": {
  "colab": {
   "provenance": [],
   "toc_visible": true
  },
  "kernelspec": {
   "display_name": "R",
   "language": "R",
   "name": "ir"
  },
  "language_info": {
   "codemirror_mode": "r",
   "file_extension": ".r",
   "mimetype": "text/x-r-source",
   "name": "R",
   "pygments_lexer": "r",
   "version": "4.4.2"
  }
 },
 "nbformat": 4,
 "nbformat_minor": 5
}
