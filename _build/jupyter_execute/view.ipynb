{
 "cells": [
  {
   "cell_type": "markdown",
   "id": "7d5e6c0c-3c15-474e-8669-5051d891fb6e",
   "metadata": {},
   "source": [
    "# Data Workflow"
   ]
  },
  {
   "cell_type": "markdown",
   "id": "df433e83-40db-4c6b-9635-f8e4458606db",
   "metadata": {
    "id": "df433e83-40db-4c6b-9635-f8e4458606db"
   },
   "source": [
    "## Scenario"
   ]
  },
  {
   "cell_type": "markdown",
   "id": "4e5b191a-9371-4622-8e54-89ae927d3297",
   "metadata": {
    "id": "4e5b191a-9371-4622-8e54-89ae927d3297"
   },
   "source": [
    "We are a part of a research team conducting a study that aims to understand if there is an association between the average number of hours an individual sleeps each night and the development of hypertension in adults aged 40 years or older. The research team believes that the following factors could obscure such an association, and as such should be adjusted for:\n",
    "\n",
    "* Average daily alcohol consumption `[alcohol_day]`\n",
    "* Regular use of marijuana `[regular_marij]`\n",
    "* Is participant currently a smoker `[smoke_now]`\n",
    "* Is participant regularly physically active `[phys_active]`\n",
    "* BMI Group (underweight, healthy, overweight, obese) `[bmi]`\n",
    "\n",
    "To answer this research question, we will use the US National Health and Nutrition Examination Survey (NHANES) provided within the data file sleep.csv.\n",
    "\n",
    "```{note}\n",
    "The statistical methods for survey data are beyond the scope of this R workshop, as such we will treat this data as if it was collected from randomly selected individuals.\n",
    "```"
   ]
  },
  {
   "cell_type": "markdown",
   "id": "c3b4d7aa-2f7c-4b24-92f2-9dd3cbb12509",
   "metadata": {
    "id": "c3b4d7aa-2f7c-4b24-92f2-9dd3cbb12509"
   },
   "source": [
    "# R Set-up"
   ]
  },
  {
   "cell_type": "markdown",
   "id": "7afccdaf-4b29-491d-9bf4-a18d9b5cd476",
   "metadata": {
    "id": "7afccdaf-4b29-491d-9bf4-a18d9b5cd476"
   },
   "source": [
    "There are a few things you need to do every time you open R:\n",
    "\n",
    "* Install/Load packages\n",
    "* Read in data (import data into R)\n"
   ]
  },
  {
   "cell_type": "markdown",
   "id": "WyOSqtDFdAld",
   "metadata": {
    "id": "WyOSqtDFdAld"
   },
   "source": [
    "## Install/Load Packages\n",
    "\n"
   ]
  },
  {
   "cell_type": "markdown",
   "id": "vAEc4IexdqI2",
   "metadata": {
    "id": "vAEc4IexdqI2"
   },
   "source": [
    "We **install** packages in R once. We **load** packages we are going to use everytime we open/start R. We recommended that you write the installation/load code at the top of your code script. This makes it easy to see what packages you used at a glance.\n",
    "\n",
    "```{note}\n",
    "`#` is used to indicate a comment in R. This is a line which R will skip over and not try to run as code.\n",
    "```"
   ]
  },
  {
   "cell_type": "code",
   "execution_count": 1,
   "id": "e69cddb8-6899-47cf-bf50-e6389dd432d4",
   "metadata": {
    "collapsed": true,
    "id": "e69cddb8-6899-47cf-bf50-e6389dd432d4",
    "jupyter": {
     "outputs_hidden": true
    }
   },
   "outputs": [
    {
     "name": "stderr",
     "output_type": "stream",
     "text": [
      "── \u001b[1mAttaching core tidyverse packages\u001b[22m ───────────────────────────────────────────────────────────── tidyverse 2.0.0 ──\n",
      "\u001b[32m✔\u001b[39m \u001b[34mdplyr    \u001b[39m 1.1.4     \u001b[32m✔\u001b[39m \u001b[34mreadr    \u001b[39m 2.1.5\n",
      "\u001b[32m✔\u001b[39m \u001b[34mforcats  \u001b[39m 1.0.0     \u001b[32m✔\u001b[39m \u001b[34mstringr  \u001b[39m 1.5.1\n",
      "\u001b[32m✔\u001b[39m \u001b[34mggplot2  \u001b[39m 3.5.1     \u001b[32m✔\u001b[39m \u001b[34mtibble   \u001b[39m 3.2.1\n",
      "\u001b[32m✔\u001b[39m \u001b[34mlubridate\u001b[39m 1.9.4     \u001b[32m✔\u001b[39m \u001b[34mtidyr    \u001b[39m 1.3.1\n",
      "\u001b[32m✔\u001b[39m \u001b[34mpurrr    \u001b[39m 1.0.4     \n"
     ]
    },
    {
     "name": "stderr",
     "output_type": "stream",
     "text": [
      "── \u001b[1mConflicts\u001b[22m ─────────────────────────────────────────────────────────────────────────────── tidyverse_conflicts() ──\n",
      "\u001b[31m✖\u001b[39m \u001b[34mdplyr\u001b[39m::\u001b[32mfilter()\u001b[39m masks \u001b[34mstats\u001b[39m::filter()\n",
      "\u001b[31m✖\u001b[39m \u001b[34mdplyr\u001b[39m::\u001b[32mlag()\u001b[39m    masks \u001b[34mstats\u001b[39m::lag()\n",
      "\u001b[36mℹ\u001b[39m Use the conflicted package (\u001b[3m\u001b[34m<http://conflicted.r-lib.org/>\u001b[39m\u001b[23m) to force all conflicts to become errors\n"
     ]
    },
    {
     "name": "stderr",
     "output_type": "stream",
     "text": [
      "\n",
      "Attaching package: ‘janitor’\n",
      "\n",
      "\n"
     ]
    },
    {
     "name": "stderr",
     "output_type": "stream",
     "text": [
      "The following objects are masked from ‘package:stats’:\n",
      "\n",
      "    chisq.test, fisher.test\n",
      "\n",
      "\n"
     ]
    }
   ],
   "source": [
    "# Install your packages (first use only)\n",
    "# install.packages(\"tidyverse\")\n",
    "# install.packages(\"janitor\")\n",
    "# install.packages(\"gtsummary\")\n",
    "\n",
    "# Load your packages\n",
    "library(tidyverse)\n",
    "library(janitor)\n",
    "library(gtsummary)"
   ]
  },
  {
   "cell_type": "markdown",
   "id": "cc9199be-a7d2-4964-a7a8-799df3736a70",
   "metadata": {
    "id": "cc9199be-a7d2-4964-a7a8-799df3736a70"
   },
   "source": [
    "## Load in your Data\n",
    "\n"
   ]
  },
  {
   "cell_type": "markdown",
   "id": "r1eXAaxoixKQ",
   "metadata": {
    "id": "r1eXAaxoixKQ"
   },
   "source": [
    "There are a variety of different ways to read data into R, since there are a variety of different ways to save and store data. One of the more common ways to save data is as a CSV (comma delimited file).\n",
    "\n",
    "```{note}\n",
    "You will need to know which directory (folder) you're working in when working with R and point correctly to the file sleep.csv.\n",
    "```"
   ]
  },
  {
   "cell_type": "code",
   "execution_count": 2,
   "id": "56252157-ede8-4117-af38-2908388b8a17",
   "metadata": {
    "id": "56252157-ede8-4117-af38-2908388b8a17"
   },
   "outputs": [
    {
     "name": "stderr",
     "output_type": "stream",
     "text": [
      "\u001b[1mRows: \u001b[22m\u001b[34m4778\u001b[39m \u001b[1mColumns: \u001b[22m\u001b[34m26\u001b[39m\n"
     ]
    },
    {
     "name": "stderr",
     "output_type": "stream",
     "text": [
      "\u001b[36m──\u001b[39m \u001b[1mColumn specification\u001b[22m \u001b[36m─────────────────────────────────────────────────────────────────────────────────────────────\u001b[39m\n",
      "\u001b[1mDelimiter:\u001b[22m \",\"\n",
      "\u001b[31mchr\u001b[39m (14): gender, race1, education, MaritalStatus, hh income, home own, work...\n",
      "\u001b[32mdbl\u001b[39m (12): ID, age, age (months), poverty, weight, height, pulse, bp_dia_ave,...\n"
     ]
    },
    {
     "name": "stderr",
     "output_type": "stream",
     "text": [
      "\n",
      "\u001b[36mℹ\u001b[39m Use `spec()` to retrieve the full column specification for this data.\n",
      "\u001b[36mℹ\u001b[39m Specify the column types or set `show_col_types = FALSE` to quiet this message.\n"
     ]
    }
   ],
   "source": [
    "# Read in your data and assign this to a data frame called sleep\n",
    "sleep <- read_csv(\"sleep.csv\")"
   ]
  },
  {
   "cell_type": "markdown",
   "id": "bcc5ee1b-c23a-4add-9bcf-e7b908460972",
   "metadata": {
    "id": "bcc5ee1b-c23a-4add-9bcf-e7b908460972"
   },
   "source": [
    "Notice the message R prints out. It indicates the delimiter (,), the type of each column, and the row and column count.\n",
    "\n",
    "```{note}\n",
    "R automatically saves the first row from the .csv file as column names.\n",
    "```"
   ]
  },
  {
   "cell_type": "markdown",
   "id": "e001c5bd-eb99-4b77-a76b-09d74baa4de2",
   "metadata": {
    "id": "e001c5bd-eb99-4b77-a76b-09d74baa4de2"
   },
   "source": [
    "# Data Wrangling"
   ]
  },
  {
   "cell_type": "markdown",
   "id": "415b3990-2a50-43aa-bf71-9738cecbc49b",
   "metadata": {
    "id": "415b3990-2a50-43aa-bf71-9738cecbc49b"
   },
   "source": [
    "## Viewing your data"
   ]
  },
  {
   "cell_type": "markdown",
   "id": "61c65cda-0692-43f7-8988-8cd6e194d1a1",
   "metadata": {
    "id": "61c65cda-0692-43f7-8988-8cd6e194d1a1"
   },
   "source": [
    "It is generally **good practice** to look at your data to scan for things that might need fixing, for example:\n",
    "\n",
    "* Text in numerical cells (e.g. “six” vs 6)\n",
    "* Odd characters (e.g. >, <, /, etc.)\n",
    "* Varied Date formats (e.g 01/16/2024, 16-1-24, Jan 16 2024, etc.)\n",
    "* Coded variables (e.g. 99 = Missing)\n",
    "* Typos (e.g. ys, yse)\n",
    "* Variable capitalization or abbreviations (e.g. Yes, Y, yes)\n",
    "* Misaligned variable types\n",
    "\n",
    "However, it is **bad practice** to look at your data for patterns or to see what research questions you should ask and test.\n",
    "\n",
    "There are a couple of different ways you can look at your data:\n",
    "\n",
    "* Glimpse provides information on each column, it's name, type and the first few entries:\n"
   ]
  },
  {
   "cell_type": "code",
   "execution_count": 3,
   "id": "n4avggPAfiCi",
   "metadata": {
    "id": "n4avggPAfiCi"
   },
   "outputs": [
    {
     "name": "stdout",
     "output_type": "stream",
     "text": [
      "Rows: 4,778\n",
      "Columns: 26\n",
      "$ ID              \u001b[3m\u001b[90m<dbl>\u001b[39m\u001b[23m 54978, 62686, 60371, 59023, 53330, 67222, 61194, 69925…\n",
      "$ gender          \u001b[3m\u001b[90m<chr>\u001b[39m\u001b[23m \"Female\", \"Female\", \"Female\", \"Female\", \"Male\", \"Femal…\n",
      "$ age             \u001b[3m\u001b[90m<dbl>\u001b[39m\u001b[23m 80.15551, 80.50146, 80.82286, 80.26906, 80.69757, 80.8…\n",
      "$ `age (months)`  \u001b[3m\u001b[90m<dbl>\u001b[39m\u001b[23m 961.8661, 966.0175, 969.8743, 963.2287, 968.3709, 970.…\n",
      "$ race1           \u001b[3m\u001b[90m<chr>\u001b[39m\u001b[23m \"Black\", \"White\", \"White\", \"White\", \"White\", \"White\", …\n",
      "$ education       \u001b[3m\u001b[90m<chr>\u001b[39m\u001b[23m \"9 - 11th Grade\", \"High School\", \"Some College\", \"9 - …\n",
      "$ MaritalStatus   \u001b[3m\u001b[90m<chr>\u001b[39m\u001b[23m \"Widowed\", \"Widowed\", \"Separated\", \"Married\", \"Married…\n",
      "$ `hh income`     \u001b[3m\u001b[90m<chr>\u001b[39m\u001b[23m \"20000-24999\", \"35000-44999\", \u001b[31mNA\u001b[39m, \"15000-19999\", \"2000…\n",
      "$ poverty         \u001b[3m\u001b[90m<dbl>\u001b[39m\u001b[23m 1.07, 2.31, \u001b[31mNA\u001b[39m, 1.21, 1.37, 1.15, 0.42, 1.30, 1.29, 5.…\n",
      "$ `home own`      \u001b[3m\u001b[90m<chr>\u001b[39m\u001b[23m \"Own\", \"Own\", \"Own\", \"Own\", \"Own\", \"Own\", \"Own\", \"Own\"…\n",
      "$ work            \u001b[3m\u001b[90m<chr>\u001b[39m\u001b[23m \"NotWorking\", \"NotWorking\", \"NotWorking\", \"NotWorking\"…\n",
      "$ weight          \u001b[3m\u001b[90m<dbl>\u001b[39m\u001b[23m 120.5, 100.0, 95.9, 91.8, 113.0, 87.2, 86.5, 80.9, 81.…\n",
      "$ height          \u001b[3m\u001b[90m<dbl>\u001b[39m\u001b[23m 166.6, 160.7, 157.9, 155.9, 176.8, 156.4, 156.3, 151.3…\n",
      "$ pulse           \u001b[3m\u001b[90m<dbl>\u001b[39m\u001b[23m 62, 82, 60, 80, 64, 92, 90, 62, 56, 60, 70, 72, 66, 60…\n",
      "$ bp_dia_ave      \u001b[3m\u001b[90m<dbl>\u001b[39m\u001b[23m 61, 74, 28, 61, 78, 71, 51, 62, 59, 57, 67, 87, 40, 56…\n",
      "$ bp_sys_ave      \u001b[3m\u001b[90m<dbl>\u001b[39m\u001b[23m 127, 156, 150, 130, 156, 126, 119, 136, 143, 168, 136,…\n",
      "$ diabetes        \u001b[3m\u001b[90m<chr>\u001b[39m\u001b[23m \"Yes\", \"Yes\", \"Yes\", \"No\", \"No\", \"No\", \"No\", \"No\", \"No…\n",
      "$ n_pregnancies   \u001b[3m\u001b[90m<dbl>\u001b[39m\u001b[23m 9, 2, 5, 2, \u001b[31mNA\u001b[39m, 1, \u001b[31mNA\u001b[39m, \u001b[31mNA\u001b[39m, 10, \u001b[31mNA\u001b[39m, \u001b[31mNA\u001b[39m, \u001b[31mNA\u001b[39m, 3, \u001b[31mNA\u001b[39m, \u001b[31mNA\u001b[39m, …\n",
      "$ sleep_hrs_night \u001b[3m\u001b[90m<dbl>\u001b[39m\u001b[23m 7.156727, 6.199555, 9.941897, 7.892662, 5.752325, 8.55…\n",
      "$ sleep_trouble   \u001b[3m\u001b[90m<chr>\u001b[39m\u001b[23m \"No\", \"No\", \"No\", \"No\", \"No\", \"Yes\", \"No\", \"No\", \"No\",…\n",
      "$ phys_active     \u001b[3m\u001b[90m<chr>\u001b[39m\u001b[23m \"No\", \"No\", \"No\", \"No\", \"No\", \"No\", \"No\", \"No\", \"No\", …\n",
      "$ smoke_now       \u001b[3m\u001b[90m<chr>\u001b[39m\u001b[23m \"No\", \"No\", \"No\", \"Yes\", \"No\", \"No\", \"No\", \"No\", \"No\",…\n",
      "$ alcohol_day     \u001b[3m\u001b[90m<chr>\u001b[39m\u001b[23m \"3\", \"2\", \"4\", \"1\", \"1\", \"1\", \"1\", \"2\", \"1\", \"2\", \"2\",…\n",
      "$ regular_marij   \u001b[3m\u001b[90m<chr>\u001b[39m\u001b[23m \"No\", \"No\", \"No\", \"No\", \"Yes\", \"Yes\", \"No\", \"Yes\", \"Ye…\n",
      "$ hypertension    \u001b[3m\u001b[90m<chr>\u001b[39m\u001b[23m \"No Hypertension\", \"No Hypertension\", \"No Hypertension…\n",
      "$ BMI             \u001b[3m\u001b[90m<dbl>\u001b[39m\u001b[23m 43.41, 38.70, 38.46, 37.77, 36.15, 35.60, 35.41, 35.30…\n"
     ]
    }
   ],
   "source": [
    "glimpse(sleep)"
   ]
  },
  {
   "cell_type": "markdown",
   "id": "WO44uinWgWFe",
   "metadata": {
    "id": "WO44uinWgWFe"
   },
   "source": [
    "* Head (Tail) shows the first (last) *n* rows:"
   ]
  },
  {
   "cell_type": "code",
   "execution_count": 4,
   "id": "HtdGx982gimB",
   "metadata": {
    "id": "HtdGx982gimB"
   },
   "outputs": [
    {
     "data": {
      "text/html": [
       "<table class=\"dataframe\">\n",
       "<caption>A tibble: 2 × 26</caption>\n",
       "<thead>\n",
       "\t<tr><th scope=col>ID</th><th scope=col>gender</th><th scope=col>age</th><th scope=col>age (months)</th><th scope=col>race1</th><th scope=col>education</th><th scope=col>MaritalStatus</th><th scope=col>hh income</th><th scope=col>poverty</th><th scope=col>home own</th><th scope=col>⋯</th><th scope=col>diabetes</th><th scope=col>n_pregnancies</th><th scope=col>sleep_hrs_night</th><th scope=col>sleep_trouble</th><th scope=col>phys_active</th><th scope=col>smoke_now</th><th scope=col>alcohol_day</th><th scope=col>regular_marij</th><th scope=col>hypertension</th><th scope=col>BMI</th></tr>\n",
       "\t<tr><th scope=col>&lt;dbl&gt;</th><th scope=col>&lt;chr&gt;</th><th scope=col>&lt;dbl&gt;</th><th scope=col>&lt;dbl&gt;</th><th scope=col>&lt;chr&gt;</th><th scope=col>&lt;chr&gt;</th><th scope=col>&lt;chr&gt;</th><th scope=col>&lt;chr&gt;</th><th scope=col>&lt;dbl&gt;</th><th scope=col>&lt;chr&gt;</th><th scope=col>⋯</th><th scope=col>&lt;chr&gt;</th><th scope=col>&lt;dbl&gt;</th><th scope=col>&lt;dbl&gt;</th><th scope=col>&lt;chr&gt;</th><th scope=col>&lt;chr&gt;</th><th scope=col>&lt;chr&gt;</th><th scope=col>&lt;chr&gt;</th><th scope=col>&lt;chr&gt;</th><th scope=col>&lt;chr&gt;</th><th scope=col>&lt;dbl&gt;</th></tr>\n",
       "</thead>\n",
       "<tbody>\n",
       "\t<tr><td>54978</td><td>Female</td><td>80.15551</td><td>961.8661</td><td>Black</td><td>9 - 11th Grade</td><td>Widowed</td><td>20000-24999</td><td>1.07</td><td>Own</td><td>⋯</td><td>Yes</td><td>9</td><td>7.156727</td><td>No</td><td>No</td><td>No</td><td>3</td><td>No</td><td>No Hypertension</td><td>43.41</td></tr>\n",
       "\t<tr><td>62686</td><td>Female</td><td>80.50146</td><td>966.0175</td><td>White</td><td>High School   </td><td>Widowed</td><td>35000-44999</td><td>2.31</td><td>Own</td><td>⋯</td><td>Yes</td><td>2</td><td>6.199555</td><td>No</td><td>No</td><td>No</td><td>2</td><td>No</td><td>No Hypertension</td><td>38.70</td></tr>\n",
       "</tbody>\n",
       "</table>\n"
      ],
      "text/latex": [
       "A tibble: 2 × 26\n",
       "\\begin{tabular}{lllllllllllllllllllll}\n",
       " ID & gender & age & age (months) & race1 & education & MaritalStatus & hh income & poverty & home own & ⋯ & diabetes & n\\_pregnancies & sleep\\_hrs\\_night & sleep\\_trouble & phys\\_active & smoke\\_now & alcohol\\_day & regular\\_marij & hypertension & BMI\\\\\n",
       " <dbl> & <chr> & <dbl> & <dbl> & <chr> & <chr> & <chr> & <chr> & <dbl> & <chr> & ⋯ & <chr> & <dbl> & <dbl> & <chr> & <chr> & <chr> & <chr> & <chr> & <chr> & <dbl>\\\\\n",
       "\\hline\n",
       "\t 54978 & Female & 80.15551 & 961.8661 & Black & 9 - 11th Grade & Widowed & 20000-24999 & 1.07 & Own & ⋯ & Yes & 9 & 7.156727 & No & No & No & 3 & No & No Hypertension & 43.41\\\\\n",
       "\t 62686 & Female & 80.50146 & 966.0175 & White & High School    & Widowed & 35000-44999 & 2.31 & Own & ⋯ & Yes & 2 & 6.199555 & No & No & No & 2 & No & No Hypertension & 38.70\\\\\n",
       "\\end{tabular}\n"
      ],
      "text/markdown": [
       "\n",
       "A tibble: 2 × 26\n",
       "\n",
       "| ID &lt;dbl&gt; | gender &lt;chr&gt; | age &lt;dbl&gt; | age (months) &lt;dbl&gt; | race1 &lt;chr&gt; | education &lt;chr&gt; | MaritalStatus &lt;chr&gt; | hh income &lt;chr&gt; | poverty &lt;dbl&gt; | home own &lt;chr&gt; | ⋯ ⋯ | diabetes &lt;chr&gt; | n_pregnancies &lt;dbl&gt; | sleep_hrs_night &lt;dbl&gt; | sleep_trouble &lt;chr&gt; | phys_active &lt;chr&gt; | smoke_now &lt;chr&gt; | alcohol_day &lt;chr&gt; | regular_marij &lt;chr&gt; | hypertension &lt;chr&gt; | BMI &lt;dbl&gt; |\n",
       "|---|---|---|---|---|---|---|---|---|---|---|---|---|---|---|---|---|---|---|---|---|\n",
       "| 54978 | Female | 80.15551 | 961.8661 | Black | 9 - 11th Grade | Widowed | 20000-24999 | 1.07 | Own | ⋯ | Yes | 9 | 7.156727 | No | No | No | 3 | No | No Hypertension | 43.41 |\n",
       "| 62686 | Female | 80.50146 | 966.0175 | White | High School    | Widowed | 35000-44999 | 2.31 | Own | ⋯ | Yes | 2 | 6.199555 | No | No | No | 2 | No | No Hypertension | 38.70 |\n",
       "\n"
      ],
      "text/plain": [
       "  ID    gender age      age (months) race1 education      MaritalStatus\n",
       "1 54978 Female 80.15551 961.8661     Black 9 - 11th Grade Widowed      \n",
       "2 62686 Female 80.50146 966.0175     White High School    Widowed      \n",
       "  hh income   poverty home own ⋯ diabetes n_pregnancies sleep_hrs_night\n",
       "1 20000-24999 1.07    Own      ⋯ Yes      9             7.156727       \n",
       "2 35000-44999 2.31    Own      ⋯ Yes      2             6.199555       \n",
       "  sleep_trouble phys_active smoke_now alcohol_day regular_marij hypertension   \n",
       "1 No            No          No        3           No            No Hypertension\n",
       "2 No            No          No        2           No            No Hypertension\n",
       "  BMI  \n",
       "1 43.41\n",
       "2 38.70"
      ]
     },
     "metadata": {},
     "output_type": "display_data"
    },
    {
     "data": {
      "text/html": [
       "<table class=\"dataframe\">\n",
       "<caption>A tibble: 3 × 26</caption>\n",
       "<thead>\n",
       "\t<tr><th scope=col>ID</th><th scope=col>gender</th><th scope=col>age</th><th scope=col>age (months)</th><th scope=col>race1</th><th scope=col>education</th><th scope=col>MaritalStatus</th><th scope=col>hh income</th><th scope=col>poverty</th><th scope=col>home own</th><th scope=col>⋯</th><th scope=col>diabetes</th><th scope=col>n_pregnancies</th><th scope=col>sleep_hrs_night</th><th scope=col>sleep_trouble</th><th scope=col>phys_active</th><th scope=col>smoke_now</th><th scope=col>alcohol_day</th><th scope=col>regular_marij</th><th scope=col>hypertension</th><th scope=col>BMI</th></tr>\n",
       "\t<tr><th scope=col>&lt;dbl&gt;</th><th scope=col>&lt;chr&gt;</th><th scope=col>&lt;dbl&gt;</th><th scope=col>&lt;dbl&gt;</th><th scope=col>&lt;chr&gt;</th><th scope=col>&lt;chr&gt;</th><th scope=col>&lt;chr&gt;</th><th scope=col>&lt;chr&gt;</th><th scope=col>&lt;dbl&gt;</th><th scope=col>&lt;chr&gt;</th><th scope=col>⋯</th><th scope=col>&lt;chr&gt;</th><th scope=col>&lt;dbl&gt;</th><th scope=col>&lt;dbl&gt;</th><th scope=col>&lt;chr&gt;</th><th scope=col>&lt;chr&gt;</th><th scope=col>&lt;chr&gt;</th><th scope=col>&lt;chr&gt;</th><th scope=col>&lt;chr&gt;</th><th scope=col>&lt;chr&gt;</th><th scope=col>&lt;dbl&gt;</th></tr>\n",
       "</thead>\n",
       "<tbody>\n",
       "\t<tr><td>66117</td><td>Female</td><td>16.92910</td><td>203.1492</td><td>White</td><td>NA</td><td>NA</td><td>more 99999 </td><td>5.00</td><td>Own  </td><td>⋯</td><td>No</td><td>NA</td><td>6.122093</td><td>Yes</td><td>Yes</td><td>No </td><td>2</td><td>No</td><td>No Hypertension</td><td>18.30</td></tr>\n",
       "\t<tr><td>65627</td><td>Male  </td><td>16.57579</td><td>198.9095</td><td>Black</td><td>NA</td><td>NA</td><td>5000-9999  </td><td>0.30</td><td>Other</td><td>⋯</td><td>No</td><td>NA</td><td>6.410928</td><td>No </td><td>No </td><td>No </td><td>2</td><td>No</td><td>No Hypertension</td><td>18.00</td></tr>\n",
       "\t<tr><td>57464</td><td>Male  </td><td>16.40998</td><td>196.9198</td><td>Black</td><td>NA</td><td>NA</td><td>10000-14999</td><td>0.77</td><td>Rent </td><td>⋯</td><td>No</td><td>NA</td><td>6.311987</td><td>No </td><td>No </td><td>Yes</td><td>1</td><td>No</td><td>No Hypertension</td><td>17.09</td></tr>\n",
       "</tbody>\n",
       "</table>\n"
      ],
      "text/latex": [
       "A tibble: 3 × 26\n",
       "\\begin{tabular}{lllllllllllllllllllll}\n",
       " ID & gender & age & age (months) & race1 & education & MaritalStatus & hh income & poverty & home own & ⋯ & diabetes & n\\_pregnancies & sleep\\_hrs\\_night & sleep\\_trouble & phys\\_active & smoke\\_now & alcohol\\_day & regular\\_marij & hypertension & BMI\\\\\n",
       " <dbl> & <chr> & <dbl> & <dbl> & <chr> & <chr> & <chr> & <chr> & <dbl> & <chr> & ⋯ & <chr> & <dbl> & <dbl> & <chr> & <chr> & <chr> & <chr> & <chr> & <chr> & <dbl>\\\\\n",
       "\\hline\n",
       "\t 66117 & Female & 16.92910 & 203.1492 & White & NA & NA & more 99999  & 5.00 & Own   & ⋯ & No & NA & 6.122093 & Yes & Yes & No  & 2 & No & No Hypertension & 18.30\\\\\n",
       "\t 65627 & Male   & 16.57579 & 198.9095 & Black & NA & NA & 5000-9999   & 0.30 & Other & ⋯ & No & NA & 6.410928 & No  & No  & No  & 2 & No & No Hypertension & 18.00\\\\\n",
       "\t 57464 & Male   & 16.40998 & 196.9198 & Black & NA & NA & 10000-14999 & 0.77 & Rent  & ⋯ & No & NA & 6.311987 & No  & No  & Yes & 1 & No & No Hypertension & 17.09\\\\\n",
       "\\end{tabular}\n"
      ],
      "text/markdown": [
       "\n",
       "A tibble: 3 × 26\n",
       "\n",
       "| ID &lt;dbl&gt; | gender &lt;chr&gt; | age &lt;dbl&gt; | age (months) &lt;dbl&gt; | race1 &lt;chr&gt; | education &lt;chr&gt; | MaritalStatus &lt;chr&gt; | hh income &lt;chr&gt; | poverty &lt;dbl&gt; | home own &lt;chr&gt; | ⋯ ⋯ | diabetes &lt;chr&gt; | n_pregnancies &lt;dbl&gt; | sleep_hrs_night &lt;dbl&gt; | sleep_trouble &lt;chr&gt; | phys_active &lt;chr&gt; | smoke_now &lt;chr&gt; | alcohol_day &lt;chr&gt; | regular_marij &lt;chr&gt; | hypertension &lt;chr&gt; | BMI &lt;dbl&gt; |\n",
       "|---|---|---|---|---|---|---|---|---|---|---|---|---|---|---|---|---|---|---|---|---|\n",
       "| 66117 | Female | 16.92910 | 203.1492 | White | NA | NA | more 99999  | 5.00 | Own   | ⋯ | No | NA | 6.122093 | Yes | Yes | No  | 2 | No | No Hypertension | 18.30 |\n",
       "| 65627 | Male   | 16.57579 | 198.9095 | Black | NA | NA | 5000-9999   | 0.30 | Other | ⋯ | No | NA | 6.410928 | No  | No  | No  | 2 | No | No Hypertension | 18.00 |\n",
       "| 57464 | Male   | 16.40998 | 196.9198 | Black | NA | NA | 10000-14999 | 0.77 | Rent  | ⋯ | No | NA | 6.311987 | No  | No  | Yes | 1 | No | No Hypertension | 17.09 |\n",
       "\n"
      ],
      "text/plain": [
       "  ID    gender age      age (months) race1 education MaritalStatus hh income  \n",
       "1 66117 Female 16.92910 203.1492     White NA        NA            more 99999 \n",
       "2 65627 Male   16.57579 198.9095     Black NA        NA            5000-9999  \n",
       "3 57464 Male   16.40998 196.9198     Black NA        NA            10000-14999\n",
       "  poverty home own ⋯ diabetes n_pregnancies sleep_hrs_night sleep_trouble\n",
       "1 5.00    Own      ⋯ No       NA            6.122093        Yes          \n",
       "2 0.30    Other    ⋯ No       NA            6.410928        No           \n",
       "3 0.77    Rent     ⋯ No       NA            6.311987        No           \n",
       "  phys_active smoke_now alcohol_day regular_marij hypertension    BMI  \n",
       "1 Yes         No        2           No            No Hypertension 18.30\n",
       "2 No          No        2           No            No Hypertension 18.00\n",
       "3 No          Yes       1           No            No Hypertension 17.09"
      ]
     },
     "metadata": {},
     "output_type": "display_data"
    }
   ],
   "source": [
    "head(sleep, n=2)\n",
    "tail(sleep, n=3)"
   ]
  },
  {
   "cell_type": "markdown",
   "id": "BXfTyD4-guq9",
   "metadata": {
    "id": "BXfTyD4-guq9"
   },
   "source": [
    "* View which will work in R Studio will open the whole data file in a separate panel. To do this either type `View(sleep)` or click on `sleep` in the environment panel of R Studio."
   ]
  },
  {
   "cell_type": "markdown",
   "id": "HZnFB_aGhNPM",
   "metadata": {
    "id": "HZnFB_aGhNPM"
   },
   "source": [
    "## Data Cleaning and Preparation"
   ]
  },
  {
   "cell_type": "markdown",
   "id": "nk070xd3iBvP",
   "metadata": {
    "id": "nk070xd3iBvP"
   },
   "source": [
    "### Clean Column Names"
   ]
  },
  {
   "cell_type": "markdown",
   "id": "35fca2f4-2c18-42b6-899d-d80c03f8acd0",
   "metadata": {
    "id": "35fca2f4-2c18-42b6-899d-d80c03f8acd0"
   },
   "source": [
    "A good first step is to clean column names, in case there are any odd symbols or mixed cases. The quickest way to do this is with the clean_names function from the `janitor` package."
   ]
  },
  {
   "cell_type": "code",
   "execution_count": 5,
   "id": "c31648a2-1f2b-44da-b86e-aa296a414b9b",
   "metadata": {
    "id": "c31648a2-1f2b-44da-b86e-aa296a414b9b"
   },
   "outputs": [],
   "source": [
    "# Fix column names reassigning this to the data frame sleep\n",
    "sleep <- clean_names(sleep)"
   ]
  },
  {
   "cell_type": "markdown",
   "id": "LIFCZsGciIXV",
   "metadata": {
    "id": "LIFCZsGciIXV"
   },
   "source": [
    "### Trimming Data"
   ]
  },
  {
   "cell_type": "markdown",
   "id": "G84TcL9NhxL8",
   "metadata": {
    "id": "G84TcL9NhxL8"
   },
   "source": [
    "It is often practical to trim your data set down to only the\n",
    "necessary columns (variables). We can easily do this using the select function. We will keep only the variables mentioned in the Scenario.\n",
    "\n",
    "*Note: it is best practise to preserve the original data frame so when we trim we assign this to a new data frame.*"
   ]
  },
  {
   "cell_type": "code",
   "execution_count": 6,
   "id": "d0efd14a-cb31-49c9-8f54-d4dbab0d0dd3",
   "metadata": {
    "id": "d0efd14a-cb31-49c9-8f54-d4dbab0d0dd3"
   },
   "outputs": [],
   "source": [
    "# Trim sleep to select columns only and assign this to a new data frame sleep_trim\n",
    "sleep_trim <- sleep %>%\n",
    "  select(id,\n",
    "    gender,\n",
    "    age,\n",
    "    hypertension,\n",
    "    sleep_hrs_night,\n",
    "    phys_active,\n",
    "    smoke_now,\n",
    "    alcohol_day,\n",
    "    regular_marij,\n",
    "    bmi)"
   ]
  }
 ],
 "metadata": {
  "colab": {
   "provenance": [],
   "toc_visible": true
  },
  "kernelspec": {
   "display_name": "R",
   "language": "R",
   "name": "ir"
  },
  "language_info": {
   "codemirror_mode": "r",
   "file_extension": ".r",
   "mimetype": "text/x-r-source",
   "name": "R",
   "pygments_lexer": "r",
   "version": "4.4.2"
  }
 },
 "nbformat": 4,
 "nbformat_minor": 5
}