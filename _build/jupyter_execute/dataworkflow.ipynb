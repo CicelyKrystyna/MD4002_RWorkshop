{
 "cells": [
  {
   "cell_type": "markdown",
   "id": "050ee430-68fa-4f4b-ae7b-1f5051c05dc0",
   "metadata": {
    "id": "050ee430-68fa-4f4b-ae7b-1f5051c05dc0",
    "jp-MarkdownHeadingCollapsed": true
   },
   "source": [
    "# Data Workflow"
   ]
  },
  {
   "cell_type": "markdown",
   "id": "ec2ad8fa-bc9d-4252-abaf-544aeb293958",
   "metadata": {
    "id": "ec2ad8fa-bc9d-4252-abaf-544aeb293958",
    "jp-MarkdownHeadingCollapsed": true
   },
   "source": [
    "The main workflow for any data analysis project involves the following:\n",
    "\n",
    "* R Set-up (loading relevant packages and data)\n",
    "* Data Wrangling (cleaning and preparation)\n",
    "* Visualisations (tables and graphs)\n",
    "* Analysis (modelling or other technical analysis)\n",
    "* Assumption checking\n",
    "\n",
    "```{note}\n",
    "Note: Advanced statistical analysis is beyond the scope of this workshop.\n",
    "```"
   ]
  },
  {
   "cell_type": "markdown",
   "id": "df433e83-40db-4c6b-9635-f8e4458606db",
   "metadata": {
    "id": "df433e83-40db-4c6b-9635-f8e4458606db"
   },
   "source": [
    "## Scenario"
   ]
  },
  {
   "cell_type": "markdown",
   "id": "4e5b191a-9371-4622-8e54-89ae927d3297",
   "metadata": {
    "id": "4e5b191a-9371-4622-8e54-89ae927d3297"
   },
   "source": [
    "We are a part of a research team conducting a study that aims to understand if there is an association between the average number of hours an individual sleeps each night and the development of hypertension in adults aged 40 years or older. The research team believes that the following factors could obscure such an association, and as such should be adjusted for:\n",
    "\n",
    "* Average daily alcohol consumption `[alcohol_day]`\n",
    "* Regular use of marijuana `[regular_marij]`\n",
    "* Is participant currently a smoker `[smoke_now]`\n",
    "* Is participant regularly physically active `[phys_active]`\n",
    "* BMI Group (underweight, healthy, overweight, obese) `[bmi]`\n",
    "\n",
    "To answer this research question, we will use the US National Health and Nutrition Examination Survey (NHANES) provided within the data file `sleep.csv.`\n",
    "\n",
    "\n",
    "```{note}\n",
    "Note: The statistical methods for survey data are beyond the scope of this R workshop.\n",
    "      As such we will treat this data as if it was collected from randomly selected individuals.\n",
    "```"
   ]
  },
  {
   "cell_type": "markdown",
   "id": "c3b4d7aa-2f7c-4b24-92f2-9dd3cbb12509",
   "metadata": {
    "id": "c3b4d7aa-2f7c-4b24-92f2-9dd3cbb12509"
   },
   "source": [
    "# R Set-up"
   ]
  },
  {
   "cell_type": "markdown",
   "id": "7afccdaf-4b29-491d-9bf4-a18d9b5cd476",
   "metadata": {
    "id": "7afccdaf-4b29-491d-9bf4-a18d9b5cd476"
   },
   "source": [
    "There are a few things you need to do every time you open R:\n",
    "\n",
    "* Install/Load packages\n",
    "* Read in data (import data into R)\n"
   ]
  },
  {
   "cell_type": "markdown",
   "id": "WyOSqtDFdAld",
   "metadata": {
    "id": "WyOSqtDFdAld"
   },
   "source": [
    "## Install/Load Packages\n",
    "\n"
   ]
  },
  {
   "cell_type": "markdown",
   "id": "vAEc4IexdqI2",
   "metadata": {
    "id": "vAEc4IexdqI2"
   },
   "source": [
    "We **install** packages in R once. We **load** packages we are going to use everytime we open/start R. We recommended that you write the installation/load code at the top of your code script. This makes it easy to see what packages you used at a glance.\n",
    "\n",
    "```{tip}\n",
    "Tip: # is used to indicate a comment in R.\n",
    "    This is a line which R will skip over and not try to run as code.\n",
    "    The best codes are well commented.\n",
    "```"
   ]
  },
  {
   "cell_type": "code",
   "execution_count": 1,
   "id": "e69cddb8-6899-47cf-bf50-e6389dd432d4",
   "metadata": {
    "collapsed": true,
    "id": "e69cddb8-6899-47cf-bf50-e6389dd432d4"
   },
   "outputs": [
    {
     "name": "stderr",
     "output_type": "stream",
     "text": [
      "── \u001b[1mAttaching core tidyverse packages\u001b[22m ───────────────────────────────────────────────────────────── tidyverse 2.0.0 ──\n",
      "\u001b[32m✔\u001b[39m \u001b[34mdplyr    \u001b[39m 1.1.4     \u001b[32m✔\u001b[39m \u001b[34mreadr    \u001b[39m 2.1.5\n",
      "\u001b[32m✔\u001b[39m \u001b[34mforcats  \u001b[39m 1.0.0     \u001b[32m✔\u001b[39m \u001b[34mstringr  \u001b[39m 1.5.1\n",
      "\u001b[32m✔\u001b[39m \u001b[34mggplot2  \u001b[39m 3.5.1     \u001b[32m✔\u001b[39m \u001b[34mtibble   \u001b[39m 3.2.1\n",
      "\u001b[32m✔\u001b[39m \u001b[34mlubridate\u001b[39m 1.9.4     \u001b[32m✔\u001b[39m \u001b[34mtidyr    \u001b[39m 1.3.1\n",
      "\u001b[32m✔\u001b[39m \u001b[34mpurrr    \u001b[39m 1.0.4     \n"
     ]
    },
    {
     "name": "stderr",
     "output_type": "stream",
     "text": [
      "── \u001b[1mConflicts\u001b[22m ─────────────────────────────────────────────────────────────────────────────── tidyverse_conflicts() ──\n",
      "\u001b[31m✖\u001b[39m \u001b[34mdplyr\u001b[39m::\u001b[32mfilter()\u001b[39m masks \u001b[34mstats\u001b[39m::filter()\n",
      "\u001b[31m✖\u001b[39m \u001b[34mdplyr\u001b[39m::\u001b[32mlag()\u001b[39m    masks \u001b[34mstats\u001b[39m::lag()\n",
      "\u001b[36mℹ\u001b[39m Use the conflicted package (\u001b[3m\u001b[34m<http://conflicted.r-lib.org/>\u001b[39m\u001b[23m) to force all conflicts to become errors\n"
     ]
    },
    {
     "name": "stderr",
     "output_type": "stream",
     "text": [
      "\n",
      "Attaching package: ‘janitor’\n",
      "\n",
      "\n"
     ]
    },
    {
     "name": "stderr",
     "output_type": "stream",
     "text": [
      "The following objects are masked from ‘package:stats’:\n",
      "\n",
      "    chisq.test, fisher.test\n",
      "\n",
      "\n"
     ]
    }
   ],
   "source": [
    "# Install your packages (first use only)\n",
    "# install.packages(\"tidyverse\")\n",
    "# install.packages(\"janitor\")\n",
    "# install.packages(\"gtsummary\")\n",
    "\n",
    "# Load your packages (everytime you restart R)\n",
    "library(tidyverse)\n",
    "library(janitor)\n",
    "library(gtsummary)"
   ]
  },
  {
   "cell_type": "markdown",
   "id": "cc9199be-a7d2-4964-a7a8-799df3736a70",
   "metadata": {
    "id": "cc9199be-a7d2-4964-a7a8-799df3736a70"
   },
   "source": [
    "## Load in your Data\n",
    "\n"
   ]
  },
  {
   "cell_type": "markdown",
   "id": "r1eXAaxoixKQ",
   "metadata": {
    "id": "r1eXAaxoixKQ"
   },
   "source": [
    "There are a variety of different ways to read data into R, since there are a variety of different ways to save and store data. One of the more common ways to save data is as a CSV (comma delimited file).\n",
    "\n",
    "```{tip}\n",
    "Tip: you will need to know which directory (folder) you're working in and point correctly to the file sleep.csv.\n",
    "     See [Path Setting](pathsetting.md) for additional information.\n",
    "```"
   ]
  },
  {
   "cell_type": "code",
   "execution_count": 2,
   "id": "56252157-ede8-4117-af38-2908388b8a17",
   "metadata": {
    "id": "56252157-ede8-4117-af38-2908388b8a17"
   },
   "outputs": [
    {
     "name": "stderr",
     "output_type": "stream",
     "text": [
      "\u001b[1mRows: \u001b[22m\u001b[34m4778\u001b[39m \u001b[1mColumns: \u001b[22m\u001b[34m26\u001b[39m\n"
     ]
    },
    {
     "name": "stderr",
     "output_type": "stream",
     "text": [
      "\u001b[36m──\u001b[39m \u001b[1mColumn specification\u001b[22m \u001b[36m─────────────────────────────────────────────────────────────────────────────────────────────\u001b[39m\n",
      "\u001b[1mDelimiter:\u001b[22m \",\"\n",
      "\u001b[31mchr\u001b[39m (14): gender, race1, education, MaritalStatus, hh income, home own, work...\n",
      "\u001b[32mdbl\u001b[39m (12): ID, age, age (months), poverty, weight, height, pulse, bp_dia_ave,...\n"
     ]
    },
    {
     "name": "stderr",
     "output_type": "stream",
     "text": [
      "\n",
      "\u001b[36mℹ\u001b[39m Use `spec()` to retrieve the full column specification for this data.\n",
      "\u001b[36mℹ\u001b[39m Specify the column types or set `show_col_types = FALSE` to quiet this message.\n"
     ]
    }
   ],
   "source": [
    "# Read in your data and assign this to a dataframe called sleep\n",
    "# A dataframe is the object R uses to store data sets\n",
    "sleep <- read_csv(\"sleep.csv\")"
   ]
  },
  {
   "cell_type": "markdown",
   "id": "bcc5ee1b-c23a-4add-9bcf-e7b908460972",
   "metadata": {
    "id": "bcc5ee1b-c23a-4add-9bcf-e7b908460972"
   },
   "source": [
    "Notice the message R prints out. It indicates the delimiter (,), the type of each column, and the row and column count.\n",
    "\n",
    "```{note}\n",
    "Note: R automatically saves the first row from the .csv file as column names.\n",
    "```"
   ]
  },
  {
   "cell_type": "markdown",
   "id": "e001c5bd-eb99-4b77-a76b-09d74baa4de2",
   "metadata": {
    "id": "e001c5bd-eb99-4b77-a76b-09d74baa4de2"
   },
   "source": [
    "# Data Wrangling"
   ]
  },
  {
   "cell_type": "markdown",
   "id": "415b3990-2a50-43aa-bf71-9738cecbc49b",
   "metadata": {
    "id": "415b3990-2a50-43aa-bf71-9738cecbc49b"
   },
   "source": [
    "## Viewing your data"
   ]
  },
  {
   "cell_type": "markdown",
   "id": "61c65cda-0692-43f7-8988-8cd6e194d1a1",
   "metadata": {
    "id": "61c65cda-0692-43f7-8988-8cd6e194d1a1"
   },
   "source": [
    "It is generally **good practice** to look at your data to scan for things that might need fixing, for example:\n",
    "\n",
    "* Text in numerical cells (e.g. “six” vs 6)\n",
    "* Odd characters (e.g. >, <, /, etc.)\n",
    "* Varied Date formats (e.g 01/16/2024, 16-1-24, Jan 16 2024, etc.)\n",
    "* Coded variables (e.g. 99 = Missing)\n",
    "* Typos (e.g. ys, yse)\n",
    "* Variable capitalization or abbreviations (e.g. Yes, Y, yes)\n",
    "* Misaligned/counterintuertive variable types\n",
    "\n",
    "However, it is **bad practice** to look at your data for patterns or to see what research questions you should ask and test.\n",
    "\n",
    "There are a couple of different ways you can look at your data:\n"
   ]
  },
  {
   "cell_type": "code",
   "execution_count": 3,
   "id": "n4avggPAfiCi",
   "metadata": {
    "id": "n4avggPAfiCi"
   },
   "outputs": [
    {
     "name": "stdout",
     "output_type": "stream",
     "text": [
      "Rows: 4,778\n",
      "Columns: 26\n",
      "$ ID              \u001b[3m\u001b[90m<dbl>\u001b[39m\u001b[23m 54978, 62686, 60371, 59023, 53330, 67222, 61194, 69925…\n",
      "$ gender          \u001b[3m\u001b[90m<chr>\u001b[39m\u001b[23m \"Female\", \"Female\", \"Female\", \"Female\", \"Male\", \"Femal…\n",
      "$ age             \u001b[3m\u001b[90m<dbl>\u001b[39m\u001b[23m 80.15551, 80.50146, 80.82286, 80.26906, 80.69757, 80.8…\n",
      "$ `age (months)`  \u001b[3m\u001b[90m<dbl>\u001b[39m\u001b[23m 961.8661, 966.0175, 969.8743, 963.2287, 968.3709, 970.…\n",
      "$ race1           \u001b[3m\u001b[90m<chr>\u001b[39m\u001b[23m \"Black\", \"White\", \"White\", \"White\", \"White\", \"White\", …\n",
      "$ education       \u001b[3m\u001b[90m<chr>\u001b[39m\u001b[23m \"9 - 11th Grade\", \"High School\", \"Some College\", \"9 - …\n",
      "$ MaritalStatus   \u001b[3m\u001b[90m<chr>\u001b[39m\u001b[23m \"Widowed\", \"Widowed\", \"Separated\", \"Married\", \"Married…\n",
      "$ `hh income`     \u001b[3m\u001b[90m<chr>\u001b[39m\u001b[23m \"20000-24999\", \"35000-44999\", \u001b[31mNA\u001b[39m, \"15000-19999\", \"2000…\n",
      "$ poverty         \u001b[3m\u001b[90m<dbl>\u001b[39m\u001b[23m 1.07, 2.31, \u001b[31mNA\u001b[39m, 1.21, 1.37, 1.15, 0.42, 1.30, 1.29, 5.…\n",
      "$ `home own`      \u001b[3m\u001b[90m<chr>\u001b[39m\u001b[23m \"Own\", \"Own\", \"Own\", \"Own\", \"Own\", \"Own\", \"Own\", \"Own\"…\n",
      "$ work            \u001b[3m\u001b[90m<chr>\u001b[39m\u001b[23m \"NotWorking\", \"NotWorking\", \"NotWorking\", \"NotWorking\"…\n",
      "$ weight          \u001b[3m\u001b[90m<dbl>\u001b[39m\u001b[23m 120.5, 100.0, 95.9, 91.8, 113.0, 87.2, 86.5, 80.9, 81.…\n",
      "$ height          \u001b[3m\u001b[90m<dbl>\u001b[39m\u001b[23m 166.6, 160.7, 157.9, 155.9, 176.8, 156.4, 156.3, 151.3…\n",
      "$ pulse           \u001b[3m\u001b[90m<dbl>\u001b[39m\u001b[23m 62, 82, 60, 80, 64, 92, 90, 62, 56, 60, 70, 72, 66, 60…\n",
      "$ bp_dia_ave      \u001b[3m\u001b[90m<dbl>\u001b[39m\u001b[23m 61, 74, 28, 61, 78, 71, 51, 62, 59, 57, 67, 87, 40, 56…\n",
      "$ bp_sys_ave      \u001b[3m\u001b[90m<dbl>\u001b[39m\u001b[23m 127, 156, 150, 130, 156, 126, 119, 136, 143, 168, 136,…\n",
      "$ diabetes        \u001b[3m\u001b[90m<chr>\u001b[39m\u001b[23m \"Yes\", \"Yes\", \"Yes\", \"No\", \"No\", \"No\", \"No\", \"No\", \"No…\n",
      "$ n_pregnancies   \u001b[3m\u001b[90m<dbl>\u001b[39m\u001b[23m 9, 2, 5, 2, \u001b[31mNA\u001b[39m, 1, \u001b[31mNA\u001b[39m, \u001b[31mNA\u001b[39m, 10, \u001b[31mNA\u001b[39m, \u001b[31mNA\u001b[39m, \u001b[31mNA\u001b[39m, 3, \u001b[31mNA\u001b[39m, \u001b[31mNA\u001b[39m, …\n",
      "$ sleep_hrs_night \u001b[3m\u001b[90m<dbl>\u001b[39m\u001b[23m 7.156727, 6.199555, 9.941897, 7.892662, 5.752325, 8.55…\n",
      "$ sleep_trouble   \u001b[3m\u001b[90m<chr>\u001b[39m\u001b[23m \"No\", \"No\", \"No\", \"No\", \"No\", \"Yes\", \"No\", \"No\", \"No\",…\n",
      "$ phys_active     \u001b[3m\u001b[90m<chr>\u001b[39m\u001b[23m \"No\", \"No\", \"No\", \"No\", \"No\", \"No\", \"No\", \"No\", \"No\", …\n",
      "$ smoke_now       \u001b[3m\u001b[90m<chr>\u001b[39m\u001b[23m \"No\", \"No\", \"No\", \"Yes\", \"No\", \"No\", \"No\", \"No\", \"No\",…\n",
      "$ alcohol_day     \u001b[3m\u001b[90m<chr>\u001b[39m\u001b[23m \"3\", \"2\", \"4\", \"1\", \"1\", \"1\", \"1\", \"2\", \"1\", \"2\", \"2\",…\n",
      "$ regular_marij   \u001b[3m\u001b[90m<chr>\u001b[39m\u001b[23m \"No\", \"No\", \"No\", \"No\", \"Yes\", \"Yes\", \"No\", \"Yes\", \"Ye…\n",
      "$ hypertension    \u001b[3m\u001b[90m<chr>\u001b[39m\u001b[23m \"No Hypertension\", \"No Hypertension\", \"No Hypertension…\n",
      "$ BMI             \u001b[3m\u001b[90m<dbl>\u001b[39m\u001b[23m 43.41, 38.70, 38.46, 37.77, 36.15, 35.60, 35.41, 35.30…\n"
     ]
    }
   ],
   "source": [
    "# glimpse provides information on each column, it's name, type and the first few entries:\n",
    "glimpse(sleep)"
   ]
  },
  {
   "cell_type": "code",
   "execution_count": 4,
   "id": "HtdGx982gimB",
   "metadata": {
    "id": "HtdGx982gimB"
   },
   "outputs": [
    {
     "data": {
      "text/html": [
       "<table class=\"dataframe\">\n",
       "<caption>A tibble: 2 × 26</caption>\n",
       "<thead>\n",
       "\t<tr><th scope=col>ID</th><th scope=col>gender</th><th scope=col>age</th><th scope=col>age (months)</th><th scope=col>race1</th><th scope=col>education</th><th scope=col>MaritalStatus</th><th scope=col>hh income</th><th scope=col>poverty</th><th scope=col>home own</th><th scope=col>⋯</th><th scope=col>diabetes</th><th scope=col>n_pregnancies</th><th scope=col>sleep_hrs_night</th><th scope=col>sleep_trouble</th><th scope=col>phys_active</th><th scope=col>smoke_now</th><th scope=col>alcohol_day</th><th scope=col>regular_marij</th><th scope=col>hypertension</th><th scope=col>BMI</th></tr>\n",
       "\t<tr><th scope=col>&lt;dbl&gt;</th><th scope=col>&lt;chr&gt;</th><th scope=col>&lt;dbl&gt;</th><th scope=col>&lt;dbl&gt;</th><th scope=col>&lt;chr&gt;</th><th scope=col>&lt;chr&gt;</th><th scope=col>&lt;chr&gt;</th><th scope=col>&lt;chr&gt;</th><th scope=col>&lt;dbl&gt;</th><th scope=col>&lt;chr&gt;</th><th scope=col>⋯</th><th scope=col>&lt;chr&gt;</th><th scope=col>&lt;dbl&gt;</th><th scope=col>&lt;dbl&gt;</th><th scope=col>&lt;chr&gt;</th><th scope=col>&lt;chr&gt;</th><th scope=col>&lt;chr&gt;</th><th scope=col>&lt;chr&gt;</th><th scope=col>&lt;chr&gt;</th><th scope=col>&lt;chr&gt;</th><th scope=col>&lt;dbl&gt;</th></tr>\n",
       "</thead>\n",
       "<tbody>\n",
       "\t<tr><td>54978</td><td>Female</td><td>80.15551</td><td>961.8661</td><td>Black</td><td>9 - 11th Grade</td><td>Widowed</td><td>20000-24999</td><td>1.07</td><td>Own</td><td>⋯</td><td>Yes</td><td>9</td><td>7.156727</td><td>No</td><td>No</td><td>No</td><td>3</td><td>No</td><td>No Hypertension</td><td>43.41</td></tr>\n",
       "\t<tr><td>62686</td><td>Female</td><td>80.50146</td><td>966.0175</td><td>White</td><td>High School   </td><td>Widowed</td><td>35000-44999</td><td>2.31</td><td>Own</td><td>⋯</td><td>Yes</td><td>2</td><td>6.199555</td><td>No</td><td>No</td><td>No</td><td>2</td><td>No</td><td>No Hypertension</td><td>38.70</td></tr>\n",
       "</tbody>\n",
       "</table>\n"
      ],
      "text/latex": [
       "A tibble: 2 × 26\n",
       "\\begin{tabular}{lllllllllllllllllllll}\n",
       " ID & gender & age & age (months) & race1 & education & MaritalStatus & hh income & poverty & home own & ⋯ & diabetes & n\\_pregnancies & sleep\\_hrs\\_night & sleep\\_trouble & phys\\_active & smoke\\_now & alcohol\\_day & regular\\_marij & hypertension & BMI\\\\\n",
       " <dbl> & <chr> & <dbl> & <dbl> & <chr> & <chr> & <chr> & <chr> & <dbl> & <chr> & ⋯ & <chr> & <dbl> & <dbl> & <chr> & <chr> & <chr> & <chr> & <chr> & <chr> & <dbl>\\\\\n",
       "\\hline\n",
       "\t 54978 & Female & 80.15551 & 961.8661 & Black & 9 - 11th Grade & Widowed & 20000-24999 & 1.07 & Own & ⋯ & Yes & 9 & 7.156727 & No & No & No & 3 & No & No Hypertension & 43.41\\\\\n",
       "\t 62686 & Female & 80.50146 & 966.0175 & White & High School    & Widowed & 35000-44999 & 2.31 & Own & ⋯ & Yes & 2 & 6.199555 & No & No & No & 2 & No & No Hypertension & 38.70\\\\\n",
       "\\end{tabular}\n"
      ],
      "text/markdown": [
       "\n",
       "A tibble: 2 × 26\n",
       "\n",
       "| ID &lt;dbl&gt; | gender &lt;chr&gt; | age &lt;dbl&gt; | age (months) &lt;dbl&gt; | race1 &lt;chr&gt; | education &lt;chr&gt; | MaritalStatus &lt;chr&gt; | hh income &lt;chr&gt; | poverty &lt;dbl&gt; | home own &lt;chr&gt; | ⋯ ⋯ | diabetes &lt;chr&gt; | n_pregnancies &lt;dbl&gt; | sleep_hrs_night &lt;dbl&gt; | sleep_trouble &lt;chr&gt; | phys_active &lt;chr&gt; | smoke_now &lt;chr&gt; | alcohol_day &lt;chr&gt; | regular_marij &lt;chr&gt; | hypertension &lt;chr&gt; | BMI &lt;dbl&gt; |\n",
       "|---|---|---|---|---|---|---|---|---|---|---|---|---|---|---|---|---|---|---|---|---|\n",
       "| 54978 | Female | 80.15551 | 961.8661 | Black | 9 - 11th Grade | Widowed | 20000-24999 | 1.07 | Own | ⋯ | Yes | 9 | 7.156727 | No | No | No | 3 | No | No Hypertension | 43.41 |\n",
       "| 62686 | Female | 80.50146 | 966.0175 | White | High School    | Widowed | 35000-44999 | 2.31 | Own | ⋯ | Yes | 2 | 6.199555 | No | No | No | 2 | No | No Hypertension | 38.70 |\n",
       "\n"
      ],
      "text/plain": [
       "  ID    gender age      age (months) race1 education      MaritalStatus\n",
       "1 54978 Female 80.15551 961.8661     Black 9 - 11th Grade Widowed      \n",
       "2 62686 Female 80.50146 966.0175     White High School    Widowed      \n",
       "  hh income   poverty home own ⋯ diabetes n_pregnancies sleep_hrs_night\n",
       "1 20000-24999 1.07    Own      ⋯ Yes      9             7.156727       \n",
       "2 35000-44999 2.31    Own      ⋯ Yes      2             6.199555       \n",
       "  sleep_trouble phys_active smoke_now alcohol_day regular_marij hypertension   \n",
       "1 No            No          No        3           No            No Hypertension\n",
       "2 No            No          No        2           No            No Hypertension\n",
       "  BMI  \n",
       "1 43.41\n",
       "2 38.70"
      ]
     },
     "metadata": {},
     "output_type": "display_data"
    },
    {
     "data": {
      "text/html": [
       "<table class=\"dataframe\">\n",
       "<caption>A tibble: 3 × 26</caption>\n",
       "<thead>\n",
       "\t<tr><th scope=col>ID</th><th scope=col>gender</th><th scope=col>age</th><th scope=col>age (months)</th><th scope=col>race1</th><th scope=col>education</th><th scope=col>MaritalStatus</th><th scope=col>hh income</th><th scope=col>poverty</th><th scope=col>home own</th><th scope=col>⋯</th><th scope=col>diabetes</th><th scope=col>n_pregnancies</th><th scope=col>sleep_hrs_night</th><th scope=col>sleep_trouble</th><th scope=col>phys_active</th><th scope=col>smoke_now</th><th scope=col>alcohol_day</th><th scope=col>regular_marij</th><th scope=col>hypertension</th><th scope=col>BMI</th></tr>\n",
       "\t<tr><th scope=col>&lt;dbl&gt;</th><th scope=col>&lt;chr&gt;</th><th scope=col>&lt;dbl&gt;</th><th scope=col>&lt;dbl&gt;</th><th scope=col>&lt;chr&gt;</th><th scope=col>&lt;chr&gt;</th><th scope=col>&lt;chr&gt;</th><th scope=col>&lt;chr&gt;</th><th scope=col>&lt;dbl&gt;</th><th scope=col>&lt;chr&gt;</th><th scope=col>⋯</th><th scope=col>&lt;chr&gt;</th><th scope=col>&lt;dbl&gt;</th><th scope=col>&lt;dbl&gt;</th><th scope=col>&lt;chr&gt;</th><th scope=col>&lt;chr&gt;</th><th scope=col>&lt;chr&gt;</th><th scope=col>&lt;chr&gt;</th><th scope=col>&lt;chr&gt;</th><th scope=col>&lt;chr&gt;</th><th scope=col>&lt;dbl&gt;</th></tr>\n",
       "</thead>\n",
       "<tbody>\n",
       "\t<tr><td>66117</td><td>Female</td><td>16.92910</td><td>203.1492</td><td>White</td><td>NA</td><td>NA</td><td>more 99999 </td><td>5.00</td><td>Own  </td><td>⋯</td><td>No</td><td>NA</td><td>6.122093</td><td>Yes</td><td>Yes</td><td>No </td><td>2</td><td>No</td><td>No Hypertension</td><td>18.30</td></tr>\n",
       "\t<tr><td>65627</td><td>Male  </td><td>16.57579</td><td>198.9095</td><td>Black</td><td>NA</td><td>NA</td><td>5000-9999  </td><td>0.30</td><td>Other</td><td>⋯</td><td>No</td><td>NA</td><td>6.410928</td><td>No </td><td>No </td><td>No </td><td>2</td><td>No</td><td>No Hypertension</td><td>18.00</td></tr>\n",
       "\t<tr><td>57464</td><td>Male  </td><td>16.40998</td><td>196.9198</td><td>Black</td><td>NA</td><td>NA</td><td>10000-14999</td><td>0.77</td><td>Rent </td><td>⋯</td><td>No</td><td>NA</td><td>6.311987</td><td>No </td><td>No </td><td>Yes</td><td>1</td><td>No</td><td>No Hypertension</td><td>17.09</td></tr>\n",
       "</tbody>\n",
       "</table>\n"
      ],
      "text/latex": [
       "A tibble: 3 × 26\n",
       "\\begin{tabular}{lllllllllllllllllllll}\n",
       " ID & gender & age & age (months) & race1 & education & MaritalStatus & hh income & poverty & home own & ⋯ & diabetes & n\\_pregnancies & sleep\\_hrs\\_night & sleep\\_trouble & phys\\_active & smoke\\_now & alcohol\\_day & regular\\_marij & hypertension & BMI\\\\\n",
       " <dbl> & <chr> & <dbl> & <dbl> & <chr> & <chr> & <chr> & <chr> & <dbl> & <chr> & ⋯ & <chr> & <dbl> & <dbl> & <chr> & <chr> & <chr> & <chr> & <chr> & <chr> & <dbl>\\\\\n",
       "\\hline\n",
       "\t 66117 & Female & 16.92910 & 203.1492 & White & NA & NA & more 99999  & 5.00 & Own   & ⋯ & No & NA & 6.122093 & Yes & Yes & No  & 2 & No & No Hypertension & 18.30\\\\\n",
       "\t 65627 & Male   & 16.57579 & 198.9095 & Black & NA & NA & 5000-9999   & 0.30 & Other & ⋯ & No & NA & 6.410928 & No  & No  & No  & 2 & No & No Hypertension & 18.00\\\\\n",
       "\t 57464 & Male   & 16.40998 & 196.9198 & Black & NA & NA & 10000-14999 & 0.77 & Rent  & ⋯ & No & NA & 6.311987 & No  & No  & Yes & 1 & No & No Hypertension & 17.09\\\\\n",
       "\\end{tabular}\n"
      ],
      "text/markdown": [
       "\n",
       "A tibble: 3 × 26\n",
       "\n",
       "| ID &lt;dbl&gt; | gender &lt;chr&gt; | age &lt;dbl&gt; | age (months) &lt;dbl&gt; | race1 &lt;chr&gt; | education &lt;chr&gt; | MaritalStatus &lt;chr&gt; | hh income &lt;chr&gt; | poverty &lt;dbl&gt; | home own &lt;chr&gt; | ⋯ ⋯ | diabetes &lt;chr&gt; | n_pregnancies &lt;dbl&gt; | sleep_hrs_night &lt;dbl&gt; | sleep_trouble &lt;chr&gt; | phys_active &lt;chr&gt; | smoke_now &lt;chr&gt; | alcohol_day &lt;chr&gt; | regular_marij &lt;chr&gt; | hypertension &lt;chr&gt; | BMI &lt;dbl&gt; |\n",
       "|---|---|---|---|---|---|---|---|---|---|---|---|---|---|---|---|---|---|---|---|---|\n",
       "| 66117 | Female | 16.92910 | 203.1492 | White | NA | NA | more 99999  | 5.00 | Own   | ⋯ | No | NA | 6.122093 | Yes | Yes | No  | 2 | No | No Hypertension | 18.30 |\n",
       "| 65627 | Male   | 16.57579 | 198.9095 | Black | NA | NA | 5000-9999   | 0.30 | Other | ⋯ | No | NA | 6.410928 | No  | No  | No  | 2 | No | No Hypertension | 18.00 |\n",
       "| 57464 | Male   | 16.40998 | 196.9198 | Black | NA | NA | 10000-14999 | 0.77 | Rent  | ⋯ | No | NA | 6.311987 | No  | No  | Yes | 1 | No | No Hypertension | 17.09 |\n",
       "\n"
      ],
      "text/plain": [
       "  ID    gender age      age (months) race1 education MaritalStatus hh income  \n",
       "1 66117 Female 16.92910 203.1492     White NA        NA            more 99999 \n",
       "2 65627 Male   16.57579 198.9095     Black NA        NA            5000-9999  \n",
       "3 57464 Male   16.40998 196.9198     Black NA        NA            10000-14999\n",
       "  poverty home own ⋯ diabetes n_pregnancies sleep_hrs_night sleep_trouble\n",
       "1 5.00    Own      ⋯ No       NA            6.122093        Yes          \n",
       "2 0.30    Other    ⋯ No       NA            6.410928        No           \n",
       "3 0.77    Rent     ⋯ No       NA            6.311987        No           \n",
       "  phys_active smoke_now alcohol_day regular_marij hypertension    BMI  \n",
       "1 Yes         No        2           No            No Hypertension 18.30\n",
       "2 No          No        2           No            No Hypertension 18.00\n",
       "3 No          Yes       1           No            No Hypertension 17.09"
      ]
     },
     "metadata": {},
     "output_type": "display_data"
    }
   ],
   "source": [
    "# head (tail) shows the first (last) n rows:\n",
    "head(sleep, n=2)\n",
    "tail(sleep, n=3)"
   ]
  },
  {
   "cell_type": "code",
   "execution_count": 5,
   "id": "ha5O0dOvMxMl",
   "metadata": {
    "id": "ha5O0dOvMxMl"
   },
   "outputs": [
    {
     "data": {
      "text/html": [
       "<table class=\"dataframe\">\n",
       "<caption>A spec_tbl_df: 4778 × 26</caption>\n",
       "<thead>\n",
       "\t<tr><th scope=col>ID</th><th scope=col>gender</th><th scope=col>age</th><th scope=col>age (months)</th><th scope=col>race1</th><th scope=col>education</th><th scope=col>MaritalStatus</th><th scope=col>hh income</th><th scope=col>poverty</th><th scope=col>home own</th><th scope=col>⋯</th><th scope=col>diabetes</th><th scope=col>n_pregnancies</th><th scope=col>sleep_hrs_night</th><th scope=col>sleep_trouble</th><th scope=col>phys_active</th><th scope=col>smoke_now</th><th scope=col>alcohol_day</th><th scope=col>regular_marij</th><th scope=col>hypertension</th><th scope=col>BMI</th></tr>\n",
       "\t<tr><th scope=col>&lt;dbl&gt;</th><th scope=col>&lt;chr&gt;</th><th scope=col>&lt;dbl&gt;</th><th scope=col>&lt;dbl&gt;</th><th scope=col>&lt;chr&gt;</th><th scope=col>&lt;chr&gt;</th><th scope=col>&lt;chr&gt;</th><th scope=col>&lt;chr&gt;</th><th scope=col>&lt;dbl&gt;</th><th scope=col>&lt;chr&gt;</th><th scope=col>⋯</th><th scope=col>&lt;chr&gt;</th><th scope=col>&lt;dbl&gt;</th><th scope=col>&lt;dbl&gt;</th><th scope=col>&lt;chr&gt;</th><th scope=col>&lt;chr&gt;</th><th scope=col>&lt;chr&gt;</th><th scope=col>&lt;chr&gt;</th><th scope=col>&lt;chr&gt;</th><th scope=col>&lt;chr&gt;</th><th scope=col>&lt;dbl&gt;</th></tr>\n",
       "</thead>\n",
       "<tbody>\n",
       "\t<tr><td>54978</td><td>Female</td><td>80.15551</td><td>961.8661</td><td>Black  </td><td>9 - 11th Grade</td><td>Widowed     </td><td>20000-24999</td><td>1.07</td><td>Own </td><td>⋯</td><td>Yes</td><td> 9</td><td>7.156727</td><td>No </td><td>No </td><td>No </td><td>3</td><td>No </td><td>No Hypertension</td><td>43.41</td></tr>\n",
       "\t<tr><td>62686</td><td>Female</td><td>80.50146</td><td>966.0175</td><td>White  </td><td>High School   </td><td>Widowed     </td><td>35000-44999</td><td>2.31</td><td>Own </td><td>⋯</td><td>Yes</td><td> 2</td><td>6.199555</td><td>No </td><td>No </td><td>No </td><td>2</td><td>No </td><td>No Hypertension</td><td>38.70</td></tr>\n",
       "\t<tr><td>60371</td><td>Female</td><td>80.82286</td><td>969.8743</td><td>White  </td><td>Some College  </td><td>Separated   </td><td>NA         </td><td>  NA</td><td>Own </td><td>⋯</td><td>Yes</td><td> 5</td><td>9.941897</td><td>No </td><td>No </td><td>No </td><td>4</td><td>No </td><td>No Hypertension</td><td>38.46</td></tr>\n",
       "\t<tr><td>59023</td><td>Female</td><td>80.26906</td><td>963.2287</td><td>White  </td><td>9 - 11th Grade</td><td>Married     </td><td>15000-19999</td><td>1.21</td><td>Own </td><td>⋯</td><td>No </td><td> 2</td><td>7.892662</td><td>No </td><td>No </td><td>Yes</td><td>1</td><td>No </td><td>No Hypertension</td><td>37.77</td></tr>\n",
       "\t<tr><td>53330</td><td>Male  </td><td>80.69757</td><td>968.3709</td><td>White  </td><td>Some College  </td><td>Married     </td><td>20000-24999</td><td>1.37</td><td>Own </td><td>⋯</td><td>No </td><td>NA</td><td>5.752325</td><td>No </td><td>No </td><td>No </td><td>1</td><td>Yes</td><td>Hypertension   </td><td>36.15</td></tr>\n",
       "\t<tr><td>67222</td><td>Female</td><td>80.87271</td><td>970.4725</td><td>White  </td><td>8th Grade     </td><td>Married     </td><td>25000-34999</td><td>1.15</td><td>Own </td><td>⋯</td><td>No </td><td> 1</td><td>8.555197</td><td>Yes</td><td>No </td><td>No </td><td>1</td><td>Yes</td><td>No Hypertension</td><td>35.60</td></tr>\n",
       "\t<tr><td>61194</td><td>Female</td><td>80.19019</td><td>962.2822</td><td>White  </td><td>8th Grade     </td><td>Widowed     </td><td>0-4999     </td><td>0.42</td><td>Own </td><td>⋯</td><td>No </td><td>NA</td><td>6.077727</td><td>No </td><td>No </td><td>No </td><td>1</td><td>No </td><td>No Hypertension</td><td>35.41</td></tr>\n",
       "\t<tr><td>69925</td><td>Female</td><td>80.79485</td><td>969.5382</td><td>Mexican</td><td>8th Grade     </td><td>NeverMarried</td><td>10000-14999</td><td>1.30</td><td>Own </td><td>⋯</td><td>No </td><td>NA</td><td>7.474176</td><td>No </td><td>No </td><td>No </td><td>2</td><td>Yes</td><td>No Hypertension</td><td>35.30</td></tr>\n",
       "\t<tr><td>69167</td><td>Female</td><td>80.42749</td><td>965.1299</td><td>White  </td><td>9 - 11th Grade</td><td>Widowed     </td><td>10000-14999</td><td>1.29</td><td>Own </td><td>⋯</td><td>No </td><td>10</td><td>6.970762</td><td>No </td><td>No </td><td>No </td><td>1</td><td>Yes</td><td>No Hypertension</td><td>35.10</td></tr>\n",
       "\t<tr><td>66733</td><td>Female</td><td>80.48316</td><td>965.7980</td><td>Black  </td><td>College Grad  </td><td>Married     </td><td>more 99999 </td><td>5.00</td><td>Own </td><td>⋯</td><td>No </td><td>NA</td><td>6.932179</td><td>No </td><td>No </td><td>No </td><td>2</td><td>No </td><td>No Hypertension</td><td>35.00</td></tr>\n",
       "\t<tr><td>65097</td><td>Male  </td><td>80.44913</td><td>965.3895</td><td>White  </td><td>College Grad  </td><td>Married     </td><td>75000-99999</td><td>5.00</td><td>Own </td><td>⋯</td><td>No </td><td>NA</td><td>8.014354</td><td>No </td><td>No </td><td>No </td><td>2</td><td>No </td><td>No Hypertension</td><td>34.80</td></tr>\n",
       "\t<tr><td>59788</td><td>Male  </td><td>80.48350</td><td>965.8020</td><td>White  </td><td>Some College  </td><td>NeverMarried</td><td>45000-54999</td><td>4.62</td><td>Rent</td><td>⋯</td><td>No </td><td>NA</td><td>6.715139</td><td>No </td><td>Yes</td><td>No </td><td>1</td><td>Yes</td><td>Hypertension   </td><td>34.52</td></tr>\n",
       "\t<tr><td>61707</td><td>Female</td><td>80.74152</td><td>968.8982</td><td>White  </td><td>9 - 11th Grade</td><td>Widowed     </td><td>25000-34999</td><td>2.31</td><td>Own </td><td>⋯</td><td>No </td><td> 3</td><td>9.672555</td><td>No </td><td>No </td><td>No </td><td>2</td><td>No </td><td>No Hypertension</td><td>34.36</td></tr>\n",
       "\t<tr><td>51819</td><td>Male  </td><td>80.07594</td><td>960.9112</td><td>White  </td><td>9 - 11th Grade</td><td>Married     </td><td>65000-74999</td><td>3.60</td><td>Own </td><td>⋯</td><td>Yes</td><td>NA</td><td>7.315377</td><td>No </td><td>No </td><td>Yes</td><td>1</td><td>No </td><td>No Hypertension</td><td>34.04</td></tr>\n",
       "\t<tr><td>62174</td><td>Male  </td><td>80.57133</td><td>966.8560</td><td>White  </td><td>College Grad  </td><td>Married     </td><td>65000-74999</td><td>4.30</td><td>Own </td><td>⋯</td><td>No </td><td>NA</td><td>6.804733</td><td>No </td><td>No </td><td>No </td><td>2</td><td>No </td><td>No Hypertension</td><td>33.90</td></tr>\n",
       "\t<tr><td>55496</td><td>Male  </td><td>80.06024</td><td>960.7229</td><td>White  </td><td>College Grad  </td><td>Married     </td><td>75000-99999</td><td>5.00</td><td>Own </td><td>⋯</td><td>No </td><td>NA</td><td>6.369331</td><td>Yes</td><td>No </td><td>Yes</td><td>2</td><td>Yes</td><td>No Hypertension</td><td>33.88</td></tr>\n",
       "\t<tr><td>67347</td><td>Male  </td><td>80.23162</td><td>962.7794</td><td>White  </td><td>8th Grade     </td><td>Married     </td><td>25000-34999</td><td>2.04</td><td>Own </td><td>⋯</td><td>No </td><td>NA</td><td>4.407648</td><td>No </td><td>No </td><td>No </td><td>1</td><td>Yes</td><td>Hypertension   </td><td>33.40</td></tr>\n",
       "\t<tr><td>56905</td><td>Female</td><td>80.36851</td><td>964.4221</td><td>Black  </td><td>College Grad  </td><td>Widowed     </td><td>10000-14999</td><td>1.29</td><td>Own </td><td>⋯</td><td>No </td><td>NA</td><td>6.087517</td><td>No </td><td>No </td><td>No </td><td>3</td><td>No </td><td>No Hypertension</td><td>33.29</td></tr>\n",
       "\t<tr><td>52067</td><td>Female</td><td>80.37399</td><td>964.4878</td><td>White  </td><td>9 - 11th Grade</td><td>Married     </td><td>20000-24999</td><td>1.51</td><td>Own </td><td>⋯</td><td>No </td><td> 3</td><td>6.998895</td><td>No </td><td>No </td><td>Yes</td><td>1</td><td>No </td><td>No Hypertension</td><td>33.11</td></tr>\n",
       "\t<tr><td>53842</td><td>Female</td><td>80.02973</td><td>960.3567</td><td>White  </td><td>Some College  </td><td>Widowed     </td><td>35000-44999</td><td>3.60</td><td>Own </td><td>⋯</td><td>No </td><td> 2</td><td>8.762179</td><td>No </td><td>No </td><td>No </td><td>1</td><td>Yes</td><td>No Hypertension</td><td>33.02</td></tr>\n",
       "\t<tr><td>70779</td><td>Male  </td><td>80.37207</td><td>964.4648</td><td>White  </td><td>Some College  </td><td>Married     </td><td>25000-34999</td><td>1.82</td><td>Own </td><td>⋯</td><td>No </td><td>NA</td><td>6.781864</td><td>No </td><td>No </td><td>No </td><td>2</td><td>No </td><td>No Hypertension</td><td>32.90</td></tr>\n",
       "\t<tr><td>57956</td><td>Male  </td><td>80.94329</td><td>971.3195</td><td>White  </td><td>College Grad  </td><td>Married     </td><td>75000-99999</td><td>5.00</td><td>Own </td><td>⋯</td><td>No </td><td>NA</td><td>9.075299</td><td>No </td><td>No </td><td>Yes</td><td>1</td><td>No </td><td>No Hypertension</td><td>32.72</td></tr>\n",
       "\t<tr><td>65157</td><td>Female</td><td>80.53010</td><td>966.3612</td><td>White  </td><td>Some College  </td><td>Divorced    </td><td>25000-34999</td><td>2.48</td><td>Own </td><td>⋯</td><td>No </td><td> 3</td><td>7.217835</td><td>No </td><td>No </td><td>No </td><td>2</td><td>No </td><td>Hypertension   </td><td>32.70</td></tr>\n",
       "\t<tr><td>57775</td><td>Female</td><td>80.17348</td><td>962.0818</td><td>White  </td><td>High School   </td><td>Divorced    </td><td>35000-44999</td><td>3.51</td><td>Own </td><td>⋯</td><td>Yes</td><td> 7</td><td>6.274403</td><td>No </td><td>No </td><td>Yes</td><td>1</td><td>No </td><td>No Hypertension</td><td>32.42</td></tr>\n",
       "\t<tr><td>62517</td><td>Male  </td><td>80.67090</td><td>968.0508</td><td>White  </td><td>8th Grade     </td><td>Married     </td><td>NA         </td><td>  NA</td><td>Own </td><td>⋯</td><td>Yes</td><td>NA</td><td>8.858710</td><td>No </td><td>Yes</td><td>No </td><td>2</td><td>Yes</td><td>No Hypertension</td><td>32.30</td></tr>\n",
       "\t<tr><td>61650</td><td>Male  </td><td>80.93186</td><td>971.1823</td><td>White  </td><td>High School   </td><td>Married     </td><td>35000-44999</td><td>2.75</td><td>Own </td><td>⋯</td><td>No </td><td>NA</td><td>7.779653</td><td>No </td><td>No </td><td>No </td><td>1</td><td>Yes</td><td>No Hypertension</td><td>32.23</td></tr>\n",
       "\t<tr><td>54073</td><td>Female</td><td>80.63002</td><td>967.5602</td><td>White  </td><td>High School   </td><td>Married     </td><td>25000-34999</td><td>2.16</td><td>Rent</td><td>⋯</td><td>Yes</td><td> 6</td><td>9.868690</td><td>Yes</td><td>No </td><td>Yes</td><td>1</td><td>No </td><td>No Hypertension</td><td>32.21</td></tr>\n",
       "\t<tr><td>67566</td><td>Female</td><td>80.15776</td><td>961.8931</td><td>White  </td><td>Some College  </td><td>Widowed     </td><td>15000-19999</td><td>1.26</td><td>Own </td><td>⋯</td><td>Yes</td><td> 4</td><td>6.742190</td><td>No </td><td>No </td><td>No </td><td>2</td><td>No </td><td>No Hypertension</td><td>32.20</td></tr>\n",
       "\t<tr><td>63514</td><td>Female</td><td>80.01676</td><td>960.2011</td><td>Black  </td><td>High School   </td><td>Widowed     </td><td>15000-19999</td><td>1.20</td><td>Rent</td><td>⋯</td><td>No </td><td> 5</td><td>9.310691</td><td>No </td><td>No </td><td>No </td><td>4</td><td>No </td><td>No Hypertension</td><td>32.20</td></tr>\n",
       "\t<tr><td>55759</td><td>Female</td><td>80.57939</td><td>966.9527</td><td>Mexican</td><td>8th Grade     </td><td>Widowed     </td><td>0-4999     </td><td>0.09</td><td>Own </td><td>⋯</td><td>Yes</td><td>12</td><td>9.681120</td><td>No </td><td>No </td><td>No </td><td>3</td><td>No </td><td>No Hypertension</td><td>31.83</td></tr>\n",
       "\t<tr><td>⋮</td><td>⋮</td><td>⋮</td><td>⋮</td><td>⋮</td><td>⋮</td><td>⋮</td><td>⋮</td><td>⋮</td><td>⋮</td><td>⋱</td><td>⋮</td><td>⋮</td><td>⋮</td><td>⋮</td><td>⋮</td><td>⋮</td><td>⋮</td><td>⋮</td><td>⋮</td><td>⋮</td></tr>\n",
       "\t<tr><td>64237</td><td>Female</td><td>16.41893</td><td>197.0272</td><td>White   </td><td>NA</td><td>NA</td><td>15000-19999</td><td>0.50</td><td>Own  </td><td>⋯</td><td>No</td><td>NA</td><td>6.878309</td><td>No </td><td>Yes</td><td>No </td><td>2</td><td>No</td><td>No Hypertension</td><td>21.30</td></tr>\n",
       "\t<tr><td>54221</td><td>Male  </td><td>16.70443</td><td>200.4531</td><td>Mexican </td><td>NA</td><td>NA</td><td>55000-64999</td><td>2.72</td><td>Own  </td><td>⋯</td><td>No</td><td>NA</td><td>7.556747</td><td>No </td><td>Yes</td><td>Yes</td><td>1</td><td>No</td><td>No Hypertension</td><td>21.15</td></tr>\n",
       "\t<tr><td>53435</td><td>Male  </td><td>16.00088</td><td>192.0106</td><td>White   </td><td>NA</td><td>NA</td><td>75000-99999</td><td>3.40</td><td>Own  </td><td>⋯</td><td>No</td><td>NA</td><td>8.866268</td><td>No </td><td>Yes</td><td>Yes</td><td>1</td><td>No</td><td>No Hypertension</td><td>21.14</td></tr>\n",
       "\t<tr><td>62890</td><td>Female</td><td>16.14452</td><td>193.7342</td><td>Other   </td><td>NA</td><td>NA</td><td>more 99999 </td><td>5.00</td><td>Own  </td><td>⋯</td><td>No</td><td>NA</td><td>8.788701</td><td>No </td><td>Yes</td><td>No </td><td>2</td><td>No</td><td>No Hypertension</td><td>21.00</td></tr>\n",
       "\t<tr><td>69968</td><td>Male  </td><td>16.33396</td><td>196.0075</td><td>White   </td><td>NA</td><td>NA</td><td>65000-74999</td><td>2.33</td><td>Own  </td><td>⋯</td><td>No</td><td>NA</td><td>6.174690</td><td>No </td><td>Yes</td><td>No </td><td>3</td><td>No</td><td>No Hypertension</td><td>21.00</td></tr>\n",
       "\t<tr><td>60941</td><td>Male  </td><td>16.46940</td><td>197.6328</td><td>Hispanic</td><td>NA</td><td>NA</td><td>35000-44999</td><td>1.95</td><td>Own  </td><td>⋯</td><td>No</td><td>NA</td><td>8.762164</td><td>No </td><td>No </td><td>No </td><td>1</td><td>No</td><td>No Hypertension</td><td>20.85</td></tr>\n",
       "\t<tr><td>68779</td><td>Male  </td><td>16.28414</td><td>195.4097</td><td>Mexican </td><td>NA</td><td>NA</td><td>55000-64999</td><td>4.21</td><td>Rent </td><td>⋯</td><td>No</td><td>NA</td><td>8.578923</td><td>No </td><td>Yes</td><td>No </td><td>2</td><td>No</td><td>No Hypertension</td><td>20.80</td></tr>\n",
       "\t<tr><td>64773</td><td>Female</td><td>16.02357</td><td>192.2828</td><td>Mexican </td><td>NA</td><td>NA</td><td>more 99999 </td><td>5.00</td><td>Own  </td><td>⋯</td><td>No</td><td>NA</td><td>6.854439</td><td>No </td><td>Yes</td><td>No </td><td>2</td><td>No</td><td>Hypertension   </td><td>20.70</td></tr>\n",
       "\t<tr><td>64012</td><td>Female</td><td>16.16898</td><td>194.0278</td><td>White   </td><td>NA</td><td>NA</td><td>35000-44999</td><td>1.13</td><td>Own  </td><td>⋯</td><td>No</td><td>NA</td><td>6.517937</td><td>Yes</td><td>Yes</td><td>No </td><td>2</td><td>No</td><td>No Hypertension</td><td>20.50</td></tr>\n",
       "\t<tr><td>57252</td><td>Female</td><td>16.81222</td><td>201.7466</td><td>Hispanic</td><td>NA</td><td>NA</td><td>NA         </td><td>  NA</td><td>Rent </td><td>⋯</td><td>No</td><td>NA</td><td>8.714390</td><td>No </td><td>Yes</td><td>Yes</td><td>1</td><td>No</td><td>No Hypertension</td><td>20.35</td></tr>\n",
       "\t<tr><td>71759</td><td>Male  </td><td>16.70264</td><td>200.4317</td><td>Black   </td><td>NA</td><td>NA</td><td>45000-54999</td><td>2.70</td><td>Own  </td><td>⋯</td><td>No</td><td>NA</td><td>8.572825</td><td>No </td><td>Yes</td><td>No </td><td>3</td><td>No</td><td>No Hypertension</td><td>20.30</td></tr>\n",
       "\t<tr><td>63446</td><td>Male  </td><td>16.21214</td><td>194.5457</td><td>Black   </td><td>NA</td><td>NA</td><td>25000-34999</td><td>1.16</td><td>Rent </td><td>⋯</td><td>No</td><td>NA</td><td>8.567358</td><td>No </td><td>Yes</td><td>No </td><td>2</td><td>No</td><td>No Hypertension</td><td>20.10</td></tr>\n",
       "\t<tr><td>55820</td><td>Male  </td><td>16.51417</td><td>198.1700</td><td>Black   </td><td>NA</td><td>NA</td><td>20000-24999</td><td>1.09</td><td>Own  </td><td>⋯</td><td>No</td><td>NA</td><td>7.694931</td><td>Yes</td><td>Yes</td><td>Yes</td><td>1</td><td>No</td><td>No Hypertension</td><td>19.97</td></tr>\n",
       "\t<tr><td>70074</td><td>Male  </td><td>16.88880</td><td>202.6656</td><td>Mexican </td><td>NA</td><td>NA</td><td>35000-44999</td><td>1.30</td><td>Own  </td><td>⋯</td><td>No</td><td>NA</td><td>6.074915</td><td>No </td><td>Yes</td><td>No </td><td>3</td><td>No</td><td>No Hypertension</td><td>19.90</td></tr>\n",
       "\t<tr><td>68286</td><td>Female</td><td>16.93323</td><td>203.1987</td><td>White   </td><td>NA</td><td>NA</td><td>NA         </td><td>  NA</td><td>NA   </td><td>⋯</td><td>No</td><td>NA</td><td>9.325218</td><td>No </td><td>Yes</td><td>No </td><td>2</td><td>No</td><td>No Hypertension</td><td>19.80</td></tr>\n",
       "\t<tr><td>51771</td><td>Female</td><td>16.95259</td><td>203.4311</td><td>White   </td><td>NA</td><td>NA</td><td>more 99999 </td><td>4.85</td><td>Own  </td><td>⋯</td><td>No</td><td>NA</td><td>6.542143</td><td>No </td><td>No </td><td>Yes</td><td>1</td><td>No</td><td>No Hypertension</td><td>19.41</td></tr>\n",
       "\t<tr><td>52896</td><td>Female</td><td>16.67698</td><td>200.1237</td><td>Black   </td><td>NA</td><td>NA</td><td>NA         </td><td>  NA</td><td>Rent </td><td>⋯</td><td>No</td><td>NA</td><td>8.464762</td><td>No </td><td>Yes</td><td>Yes</td><td>1</td><td>No</td><td>No Hypertension</td><td>19.26</td></tr>\n",
       "\t<tr><td>63810</td><td>Male  </td><td>16.44947</td><td>197.3936</td><td>Other   </td><td>NA</td><td>NA</td><td>15000-19999</td><td>0.92</td><td>Rent </td><td>⋯</td><td>No</td><td>NA</td><td>8.812366</td><td>No </td><td>No </td><td>No </td><td>2</td><td>No</td><td>No Hypertension</td><td>19.00</td></tr>\n",
       "\t<tr><td>66684</td><td>Male  </td><td>16.94663</td><td>203.3596</td><td>Other   </td><td>NA</td><td>NA</td><td>more 99999 </td><td>4.59</td><td>Own  </td><td>⋯</td><td>No</td><td>NA</td><td>8.366518</td><td>No </td><td>Yes</td><td>No </td><td>2</td><td>No</td><td>No Hypertension</td><td>19.00</td></tr>\n",
       "\t<tr><td>67552</td><td>Female</td><td>16.32354</td><td>195.8825</td><td>White   </td><td>NA</td><td>NA</td><td>more 99999 </td><td>4.07</td><td>Own  </td><td>⋯</td><td>No</td><td>NA</td><td>8.920172</td><td>Yes</td><td>Yes</td><td>No </td><td>2</td><td>No</td><td>No Hypertension</td><td>19.00</td></tr>\n",
       "\t<tr><td>70989</td><td>Male  </td><td>16.89532</td><td>202.7439</td><td>White   </td><td>NA</td><td>NA</td><td>15000-19999</td><td>0.58</td><td>Own  </td><td>⋯</td><td>No</td><td>NA</td><td>7.441692</td><td>No </td><td>No </td><td>No </td><td>3</td><td>No</td><td>No Hypertension</td><td>19.00</td></tr>\n",
       "\t<tr><td>52491</td><td>Male  </td><td>16.67196</td><td>200.0635</td><td>White   </td><td>NA</td><td>NA</td><td>55000-64999</td><td>2.72</td><td>Own  </td><td>⋯</td><td>No</td><td>NA</td><td>7.514442</td><td>No </td><td>Yes</td><td>Yes</td><td>1</td><td>No</td><td>No Hypertension</td><td>18.91</td></tr>\n",
       "\t<tr><td>61341</td><td>Female</td><td>16.93364</td><td>203.2037</td><td>White   </td><td>NA</td><td>NA</td><td>10000-14999</td><td>0.82</td><td>Own  </td><td>⋯</td><td>No</td><td>NA</td><td>7.101230</td><td>No </td><td>Yes</td><td>No </td><td>2</td><td>No</td><td>No Hypertension</td><td>18.91</td></tr>\n",
       "\t<tr><td>67934</td><td>Female</td><td>16.51144</td><td>198.1373</td><td>White   </td><td>NA</td><td>NA</td><td>35000-44999</td><td>1.52</td><td>Own  </td><td>⋯</td><td>No</td><td>NA</td><td>8.420585</td><td>No </td><td>Yes</td><td>No </td><td>2</td><td>No</td><td>No Hypertension</td><td>18.70</td></tr>\n",
       "\t<tr><td>68014</td><td>Male  </td><td>16.04714</td><td>192.5656</td><td>White   </td><td>NA</td><td>NA</td><td>25000-34999</td><td>1.17</td><td>Own  </td><td>⋯</td><td>No</td><td>NA</td><td>8.127231</td><td>No </td><td>Yes</td><td>No </td><td>2</td><td>No</td><td>No Hypertension</td><td>18.60</td></tr>\n",
       "\t<tr><td>59679</td><td>Female</td><td>16.83568</td><td>202.0281</td><td>White   </td><td>NA</td><td>NA</td><td>more 99999 </td><td>5.00</td><td>Own  </td><td>⋯</td><td>No</td><td>NA</td><td>7.106535</td><td>No </td><td>Yes</td><td>Yes</td><td>1</td><td>No</td><td>No Hypertension</td><td>18.59</td></tr>\n",
       "\t<tr><td>56670</td><td>Male  </td><td>16.97072</td><td>203.6487</td><td>White   </td><td>NA</td><td>NA</td><td>more 99999 </td><td>5.00</td><td>Own  </td><td>⋯</td><td>No</td><td>NA</td><td>7.683118</td><td>No </td><td>Yes</td><td>Yes</td><td>1</td><td>No</td><td>No Hypertension</td><td>18.53</td></tr>\n",
       "\t<tr><td>66117</td><td>Female</td><td>16.92910</td><td>203.1492</td><td>White   </td><td>NA</td><td>NA</td><td>more 99999 </td><td>5.00</td><td>Own  </td><td>⋯</td><td>No</td><td>NA</td><td>6.122093</td><td>Yes</td><td>Yes</td><td>No </td><td>2</td><td>No</td><td>No Hypertension</td><td>18.30</td></tr>\n",
       "\t<tr><td>65627</td><td>Male  </td><td>16.57579</td><td>198.9095</td><td>Black   </td><td>NA</td><td>NA</td><td>5000-9999  </td><td>0.30</td><td>Other</td><td>⋯</td><td>No</td><td>NA</td><td>6.410928</td><td>No </td><td>No </td><td>No </td><td>2</td><td>No</td><td>No Hypertension</td><td>18.00</td></tr>\n",
       "\t<tr><td>57464</td><td>Male  </td><td>16.40998</td><td>196.9198</td><td>Black   </td><td>NA</td><td>NA</td><td>10000-14999</td><td>0.77</td><td>Rent </td><td>⋯</td><td>No</td><td>NA</td><td>6.311987</td><td>No </td><td>No </td><td>Yes</td><td>1</td><td>No</td><td>No Hypertension</td><td>17.09</td></tr>\n",
       "</tbody>\n",
       "</table>\n"
      ],
      "text/latex": [
       "A spec\\_tbl\\_df: 4778 × 26\n",
       "\\begin{tabular}{lllllllllllllllllllll}\n",
       " ID & gender & age & age (months) & race1 & education & MaritalStatus & hh income & poverty & home own & ⋯ & diabetes & n\\_pregnancies & sleep\\_hrs\\_night & sleep\\_trouble & phys\\_active & smoke\\_now & alcohol\\_day & regular\\_marij & hypertension & BMI\\\\\n",
       " <dbl> & <chr> & <dbl> & <dbl> & <chr> & <chr> & <chr> & <chr> & <dbl> & <chr> & ⋯ & <chr> & <dbl> & <dbl> & <chr> & <chr> & <chr> & <chr> & <chr> & <chr> & <dbl>\\\\\n",
       "\\hline\n",
       "\t 54978 & Female & 80.15551 & 961.8661 & Black   & 9 - 11th Grade & Widowed      & 20000-24999 & 1.07 & Own  & ⋯ & Yes &  9 & 7.156727 & No  & No  & No  & 3 & No  & No Hypertension & 43.41\\\\\n",
       "\t 62686 & Female & 80.50146 & 966.0175 & White   & High School    & Widowed      & 35000-44999 & 2.31 & Own  & ⋯ & Yes &  2 & 6.199555 & No  & No  & No  & 2 & No  & No Hypertension & 38.70\\\\\n",
       "\t 60371 & Female & 80.82286 & 969.8743 & White   & Some College   & Separated    & NA          &   NA & Own  & ⋯ & Yes &  5 & 9.941897 & No  & No  & No  & 4 & No  & No Hypertension & 38.46\\\\\n",
       "\t 59023 & Female & 80.26906 & 963.2287 & White   & 9 - 11th Grade & Married      & 15000-19999 & 1.21 & Own  & ⋯ & No  &  2 & 7.892662 & No  & No  & Yes & 1 & No  & No Hypertension & 37.77\\\\\n",
       "\t 53330 & Male   & 80.69757 & 968.3709 & White   & Some College   & Married      & 20000-24999 & 1.37 & Own  & ⋯ & No  & NA & 5.752325 & No  & No  & No  & 1 & Yes & Hypertension    & 36.15\\\\\n",
       "\t 67222 & Female & 80.87271 & 970.4725 & White   & 8th Grade      & Married      & 25000-34999 & 1.15 & Own  & ⋯ & No  &  1 & 8.555197 & Yes & No  & No  & 1 & Yes & No Hypertension & 35.60\\\\\n",
       "\t 61194 & Female & 80.19019 & 962.2822 & White   & 8th Grade      & Widowed      & 0-4999      & 0.42 & Own  & ⋯ & No  & NA & 6.077727 & No  & No  & No  & 1 & No  & No Hypertension & 35.41\\\\\n",
       "\t 69925 & Female & 80.79485 & 969.5382 & Mexican & 8th Grade      & NeverMarried & 10000-14999 & 1.30 & Own  & ⋯ & No  & NA & 7.474176 & No  & No  & No  & 2 & Yes & No Hypertension & 35.30\\\\\n",
       "\t 69167 & Female & 80.42749 & 965.1299 & White   & 9 - 11th Grade & Widowed      & 10000-14999 & 1.29 & Own  & ⋯ & No  & 10 & 6.970762 & No  & No  & No  & 1 & Yes & No Hypertension & 35.10\\\\\n",
       "\t 66733 & Female & 80.48316 & 965.7980 & Black   & College Grad   & Married      & more 99999  & 5.00 & Own  & ⋯ & No  & NA & 6.932179 & No  & No  & No  & 2 & No  & No Hypertension & 35.00\\\\\n",
       "\t 65097 & Male   & 80.44913 & 965.3895 & White   & College Grad   & Married      & 75000-99999 & 5.00 & Own  & ⋯ & No  & NA & 8.014354 & No  & No  & No  & 2 & No  & No Hypertension & 34.80\\\\\n",
       "\t 59788 & Male   & 80.48350 & 965.8020 & White   & Some College   & NeverMarried & 45000-54999 & 4.62 & Rent & ⋯ & No  & NA & 6.715139 & No  & Yes & No  & 1 & Yes & Hypertension    & 34.52\\\\\n",
       "\t 61707 & Female & 80.74152 & 968.8982 & White   & 9 - 11th Grade & Widowed      & 25000-34999 & 2.31 & Own  & ⋯ & No  &  3 & 9.672555 & No  & No  & No  & 2 & No  & No Hypertension & 34.36\\\\\n",
       "\t 51819 & Male   & 80.07594 & 960.9112 & White   & 9 - 11th Grade & Married      & 65000-74999 & 3.60 & Own  & ⋯ & Yes & NA & 7.315377 & No  & No  & Yes & 1 & No  & No Hypertension & 34.04\\\\\n",
       "\t 62174 & Male   & 80.57133 & 966.8560 & White   & College Grad   & Married      & 65000-74999 & 4.30 & Own  & ⋯ & No  & NA & 6.804733 & No  & No  & No  & 2 & No  & No Hypertension & 33.90\\\\\n",
       "\t 55496 & Male   & 80.06024 & 960.7229 & White   & College Grad   & Married      & 75000-99999 & 5.00 & Own  & ⋯ & No  & NA & 6.369331 & Yes & No  & Yes & 2 & Yes & No Hypertension & 33.88\\\\\n",
       "\t 67347 & Male   & 80.23162 & 962.7794 & White   & 8th Grade      & Married      & 25000-34999 & 2.04 & Own  & ⋯ & No  & NA & 4.407648 & No  & No  & No  & 1 & Yes & Hypertension    & 33.40\\\\\n",
       "\t 56905 & Female & 80.36851 & 964.4221 & Black   & College Grad   & Widowed      & 10000-14999 & 1.29 & Own  & ⋯ & No  & NA & 6.087517 & No  & No  & No  & 3 & No  & No Hypertension & 33.29\\\\\n",
       "\t 52067 & Female & 80.37399 & 964.4878 & White   & 9 - 11th Grade & Married      & 20000-24999 & 1.51 & Own  & ⋯ & No  &  3 & 6.998895 & No  & No  & Yes & 1 & No  & No Hypertension & 33.11\\\\\n",
       "\t 53842 & Female & 80.02973 & 960.3567 & White   & Some College   & Widowed      & 35000-44999 & 3.60 & Own  & ⋯ & No  &  2 & 8.762179 & No  & No  & No  & 1 & Yes & No Hypertension & 33.02\\\\\n",
       "\t 70779 & Male   & 80.37207 & 964.4648 & White   & Some College   & Married      & 25000-34999 & 1.82 & Own  & ⋯ & No  & NA & 6.781864 & No  & No  & No  & 2 & No  & No Hypertension & 32.90\\\\\n",
       "\t 57956 & Male   & 80.94329 & 971.3195 & White   & College Grad   & Married      & 75000-99999 & 5.00 & Own  & ⋯ & No  & NA & 9.075299 & No  & No  & Yes & 1 & No  & No Hypertension & 32.72\\\\\n",
       "\t 65157 & Female & 80.53010 & 966.3612 & White   & Some College   & Divorced     & 25000-34999 & 2.48 & Own  & ⋯ & No  &  3 & 7.217835 & No  & No  & No  & 2 & No  & Hypertension    & 32.70\\\\\n",
       "\t 57775 & Female & 80.17348 & 962.0818 & White   & High School    & Divorced     & 35000-44999 & 3.51 & Own  & ⋯ & Yes &  7 & 6.274403 & No  & No  & Yes & 1 & No  & No Hypertension & 32.42\\\\\n",
       "\t 62517 & Male   & 80.67090 & 968.0508 & White   & 8th Grade      & Married      & NA          &   NA & Own  & ⋯ & Yes & NA & 8.858710 & No  & Yes & No  & 2 & Yes & No Hypertension & 32.30\\\\\n",
       "\t 61650 & Male   & 80.93186 & 971.1823 & White   & High School    & Married      & 35000-44999 & 2.75 & Own  & ⋯ & No  & NA & 7.779653 & No  & No  & No  & 1 & Yes & No Hypertension & 32.23\\\\\n",
       "\t 54073 & Female & 80.63002 & 967.5602 & White   & High School    & Married      & 25000-34999 & 2.16 & Rent & ⋯ & Yes &  6 & 9.868690 & Yes & No  & Yes & 1 & No  & No Hypertension & 32.21\\\\\n",
       "\t 67566 & Female & 80.15776 & 961.8931 & White   & Some College   & Widowed      & 15000-19999 & 1.26 & Own  & ⋯ & Yes &  4 & 6.742190 & No  & No  & No  & 2 & No  & No Hypertension & 32.20\\\\\n",
       "\t 63514 & Female & 80.01676 & 960.2011 & Black   & High School    & Widowed      & 15000-19999 & 1.20 & Rent & ⋯ & No  &  5 & 9.310691 & No  & No  & No  & 4 & No  & No Hypertension & 32.20\\\\\n",
       "\t 55759 & Female & 80.57939 & 966.9527 & Mexican & 8th Grade      & Widowed      & 0-4999      & 0.09 & Own  & ⋯ & Yes & 12 & 9.681120 & No  & No  & No  & 3 & No  & No Hypertension & 31.83\\\\\n",
       "\t ⋮ & ⋮ & ⋮ & ⋮ & ⋮ & ⋮ & ⋮ & ⋮ & ⋮ & ⋮ & ⋱ & ⋮ & ⋮ & ⋮ & ⋮ & ⋮ & ⋮ & ⋮ & ⋮ & ⋮ & ⋮\\\\\n",
       "\t 64237 & Female & 16.41893 & 197.0272 & White    & NA & NA & 15000-19999 & 0.50 & Own   & ⋯ & No & NA & 6.878309 & No  & Yes & No  & 2 & No & No Hypertension & 21.30\\\\\n",
       "\t 54221 & Male   & 16.70443 & 200.4531 & Mexican  & NA & NA & 55000-64999 & 2.72 & Own   & ⋯ & No & NA & 7.556747 & No  & Yes & Yes & 1 & No & No Hypertension & 21.15\\\\\n",
       "\t 53435 & Male   & 16.00088 & 192.0106 & White    & NA & NA & 75000-99999 & 3.40 & Own   & ⋯ & No & NA & 8.866268 & No  & Yes & Yes & 1 & No & No Hypertension & 21.14\\\\\n",
       "\t 62890 & Female & 16.14452 & 193.7342 & Other    & NA & NA & more 99999  & 5.00 & Own   & ⋯ & No & NA & 8.788701 & No  & Yes & No  & 2 & No & No Hypertension & 21.00\\\\\n",
       "\t 69968 & Male   & 16.33396 & 196.0075 & White    & NA & NA & 65000-74999 & 2.33 & Own   & ⋯ & No & NA & 6.174690 & No  & Yes & No  & 3 & No & No Hypertension & 21.00\\\\\n",
       "\t 60941 & Male   & 16.46940 & 197.6328 & Hispanic & NA & NA & 35000-44999 & 1.95 & Own   & ⋯ & No & NA & 8.762164 & No  & No  & No  & 1 & No & No Hypertension & 20.85\\\\\n",
       "\t 68779 & Male   & 16.28414 & 195.4097 & Mexican  & NA & NA & 55000-64999 & 4.21 & Rent  & ⋯ & No & NA & 8.578923 & No  & Yes & No  & 2 & No & No Hypertension & 20.80\\\\\n",
       "\t 64773 & Female & 16.02357 & 192.2828 & Mexican  & NA & NA & more 99999  & 5.00 & Own   & ⋯ & No & NA & 6.854439 & No  & Yes & No  & 2 & No & Hypertension    & 20.70\\\\\n",
       "\t 64012 & Female & 16.16898 & 194.0278 & White    & NA & NA & 35000-44999 & 1.13 & Own   & ⋯ & No & NA & 6.517937 & Yes & Yes & No  & 2 & No & No Hypertension & 20.50\\\\\n",
       "\t 57252 & Female & 16.81222 & 201.7466 & Hispanic & NA & NA & NA          &   NA & Rent  & ⋯ & No & NA & 8.714390 & No  & Yes & Yes & 1 & No & No Hypertension & 20.35\\\\\n",
       "\t 71759 & Male   & 16.70264 & 200.4317 & Black    & NA & NA & 45000-54999 & 2.70 & Own   & ⋯ & No & NA & 8.572825 & No  & Yes & No  & 3 & No & No Hypertension & 20.30\\\\\n",
       "\t 63446 & Male   & 16.21214 & 194.5457 & Black    & NA & NA & 25000-34999 & 1.16 & Rent  & ⋯ & No & NA & 8.567358 & No  & Yes & No  & 2 & No & No Hypertension & 20.10\\\\\n",
       "\t 55820 & Male   & 16.51417 & 198.1700 & Black    & NA & NA & 20000-24999 & 1.09 & Own   & ⋯ & No & NA & 7.694931 & Yes & Yes & Yes & 1 & No & No Hypertension & 19.97\\\\\n",
       "\t 70074 & Male   & 16.88880 & 202.6656 & Mexican  & NA & NA & 35000-44999 & 1.30 & Own   & ⋯ & No & NA & 6.074915 & No  & Yes & No  & 3 & No & No Hypertension & 19.90\\\\\n",
       "\t 68286 & Female & 16.93323 & 203.1987 & White    & NA & NA & NA          &   NA & NA    & ⋯ & No & NA & 9.325218 & No  & Yes & No  & 2 & No & No Hypertension & 19.80\\\\\n",
       "\t 51771 & Female & 16.95259 & 203.4311 & White    & NA & NA & more 99999  & 4.85 & Own   & ⋯ & No & NA & 6.542143 & No  & No  & Yes & 1 & No & No Hypertension & 19.41\\\\\n",
       "\t 52896 & Female & 16.67698 & 200.1237 & Black    & NA & NA & NA          &   NA & Rent  & ⋯ & No & NA & 8.464762 & No  & Yes & Yes & 1 & No & No Hypertension & 19.26\\\\\n",
       "\t 63810 & Male   & 16.44947 & 197.3936 & Other    & NA & NA & 15000-19999 & 0.92 & Rent  & ⋯ & No & NA & 8.812366 & No  & No  & No  & 2 & No & No Hypertension & 19.00\\\\\n",
       "\t 66684 & Male   & 16.94663 & 203.3596 & Other    & NA & NA & more 99999  & 4.59 & Own   & ⋯ & No & NA & 8.366518 & No  & Yes & No  & 2 & No & No Hypertension & 19.00\\\\\n",
       "\t 67552 & Female & 16.32354 & 195.8825 & White    & NA & NA & more 99999  & 4.07 & Own   & ⋯ & No & NA & 8.920172 & Yes & Yes & No  & 2 & No & No Hypertension & 19.00\\\\\n",
       "\t 70989 & Male   & 16.89532 & 202.7439 & White    & NA & NA & 15000-19999 & 0.58 & Own   & ⋯ & No & NA & 7.441692 & No  & No  & No  & 3 & No & No Hypertension & 19.00\\\\\n",
       "\t 52491 & Male   & 16.67196 & 200.0635 & White    & NA & NA & 55000-64999 & 2.72 & Own   & ⋯ & No & NA & 7.514442 & No  & Yes & Yes & 1 & No & No Hypertension & 18.91\\\\\n",
       "\t 61341 & Female & 16.93364 & 203.2037 & White    & NA & NA & 10000-14999 & 0.82 & Own   & ⋯ & No & NA & 7.101230 & No  & Yes & No  & 2 & No & No Hypertension & 18.91\\\\\n",
       "\t 67934 & Female & 16.51144 & 198.1373 & White    & NA & NA & 35000-44999 & 1.52 & Own   & ⋯ & No & NA & 8.420585 & No  & Yes & No  & 2 & No & No Hypertension & 18.70\\\\\n",
       "\t 68014 & Male   & 16.04714 & 192.5656 & White    & NA & NA & 25000-34999 & 1.17 & Own   & ⋯ & No & NA & 8.127231 & No  & Yes & No  & 2 & No & No Hypertension & 18.60\\\\\n",
       "\t 59679 & Female & 16.83568 & 202.0281 & White    & NA & NA & more 99999  & 5.00 & Own   & ⋯ & No & NA & 7.106535 & No  & Yes & Yes & 1 & No & No Hypertension & 18.59\\\\\n",
       "\t 56670 & Male   & 16.97072 & 203.6487 & White    & NA & NA & more 99999  & 5.00 & Own   & ⋯ & No & NA & 7.683118 & No  & Yes & Yes & 1 & No & No Hypertension & 18.53\\\\\n",
       "\t 66117 & Female & 16.92910 & 203.1492 & White    & NA & NA & more 99999  & 5.00 & Own   & ⋯ & No & NA & 6.122093 & Yes & Yes & No  & 2 & No & No Hypertension & 18.30\\\\\n",
       "\t 65627 & Male   & 16.57579 & 198.9095 & Black    & NA & NA & 5000-9999   & 0.30 & Other & ⋯ & No & NA & 6.410928 & No  & No  & No  & 2 & No & No Hypertension & 18.00\\\\\n",
       "\t 57464 & Male   & 16.40998 & 196.9198 & Black    & NA & NA & 10000-14999 & 0.77 & Rent  & ⋯ & No & NA & 6.311987 & No  & No  & Yes & 1 & No & No Hypertension & 17.09\\\\\n",
       "\\end{tabular}\n"
      ],
      "text/markdown": [
       "\n",
       "A spec_tbl_df: 4778 × 26\n",
       "\n",
       "| ID &lt;dbl&gt; | gender &lt;chr&gt; | age &lt;dbl&gt; | age (months) &lt;dbl&gt; | race1 &lt;chr&gt; | education &lt;chr&gt; | MaritalStatus &lt;chr&gt; | hh income &lt;chr&gt; | poverty &lt;dbl&gt; | home own &lt;chr&gt; | ⋯ ⋯ | diabetes &lt;chr&gt; | n_pregnancies &lt;dbl&gt; | sleep_hrs_night &lt;dbl&gt; | sleep_trouble &lt;chr&gt; | phys_active &lt;chr&gt; | smoke_now &lt;chr&gt; | alcohol_day &lt;chr&gt; | regular_marij &lt;chr&gt; | hypertension &lt;chr&gt; | BMI &lt;dbl&gt; |\n",
       "|---|---|---|---|---|---|---|---|---|---|---|---|---|---|---|---|---|---|---|---|---|\n",
       "| 54978 | Female | 80.15551 | 961.8661 | Black   | 9 - 11th Grade | Widowed      | 20000-24999 | 1.07 | Own  | ⋯ | Yes |  9 | 7.156727 | No  | No  | No  | 3 | No  | No Hypertension | 43.41 |\n",
       "| 62686 | Female | 80.50146 | 966.0175 | White   | High School    | Widowed      | 35000-44999 | 2.31 | Own  | ⋯ | Yes |  2 | 6.199555 | No  | No  | No  | 2 | No  | No Hypertension | 38.70 |\n",
       "| 60371 | Female | 80.82286 | 969.8743 | White   | Some College   | Separated    | NA          |   NA | Own  | ⋯ | Yes |  5 | 9.941897 | No  | No  | No  | 4 | No  | No Hypertension | 38.46 |\n",
       "| 59023 | Female | 80.26906 | 963.2287 | White   | 9 - 11th Grade | Married      | 15000-19999 | 1.21 | Own  | ⋯ | No  |  2 | 7.892662 | No  | No  | Yes | 1 | No  | No Hypertension | 37.77 |\n",
       "| 53330 | Male   | 80.69757 | 968.3709 | White   | Some College   | Married      | 20000-24999 | 1.37 | Own  | ⋯ | No  | NA | 5.752325 | No  | No  | No  | 1 | Yes | Hypertension    | 36.15 |\n",
       "| 67222 | Female | 80.87271 | 970.4725 | White   | 8th Grade      | Married      | 25000-34999 | 1.15 | Own  | ⋯ | No  |  1 | 8.555197 | Yes | No  | No  | 1 | Yes | No Hypertension | 35.60 |\n",
       "| 61194 | Female | 80.19019 | 962.2822 | White   | 8th Grade      | Widowed      | 0-4999      | 0.42 | Own  | ⋯ | No  | NA | 6.077727 | No  | No  | No  | 1 | No  | No Hypertension | 35.41 |\n",
       "| 69925 | Female | 80.79485 | 969.5382 | Mexican | 8th Grade      | NeverMarried | 10000-14999 | 1.30 | Own  | ⋯ | No  | NA | 7.474176 | No  | No  | No  | 2 | Yes | No Hypertension | 35.30 |\n",
       "| 69167 | Female | 80.42749 | 965.1299 | White   | 9 - 11th Grade | Widowed      | 10000-14999 | 1.29 | Own  | ⋯ | No  | 10 | 6.970762 | No  | No  | No  | 1 | Yes | No Hypertension | 35.10 |\n",
       "| 66733 | Female | 80.48316 | 965.7980 | Black   | College Grad   | Married      | more 99999  | 5.00 | Own  | ⋯ | No  | NA | 6.932179 | No  | No  | No  | 2 | No  | No Hypertension | 35.00 |\n",
       "| 65097 | Male   | 80.44913 | 965.3895 | White   | College Grad   | Married      | 75000-99999 | 5.00 | Own  | ⋯ | No  | NA | 8.014354 | No  | No  | No  | 2 | No  | No Hypertension | 34.80 |\n",
       "| 59788 | Male   | 80.48350 | 965.8020 | White   | Some College   | NeverMarried | 45000-54999 | 4.62 | Rent | ⋯ | No  | NA | 6.715139 | No  | Yes | No  | 1 | Yes | Hypertension    | 34.52 |\n",
       "| 61707 | Female | 80.74152 | 968.8982 | White   | 9 - 11th Grade | Widowed      | 25000-34999 | 2.31 | Own  | ⋯ | No  |  3 | 9.672555 | No  | No  | No  | 2 | No  | No Hypertension | 34.36 |\n",
       "| 51819 | Male   | 80.07594 | 960.9112 | White   | 9 - 11th Grade | Married      | 65000-74999 | 3.60 | Own  | ⋯ | Yes | NA | 7.315377 | No  | No  | Yes | 1 | No  | No Hypertension | 34.04 |\n",
       "| 62174 | Male   | 80.57133 | 966.8560 | White   | College Grad   | Married      | 65000-74999 | 4.30 | Own  | ⋯ | No  | NA | 6.804733 | No  | No  | No  | 2 | No  | No Hypertension | 33.90 |\n",
       "| 55496 | Male   | 80.06024 | 960.7229 | White   | College Grad   | Married      | 75000-99999 | 5.00 | Own  | ⋯ | No  | NA | 6.369331 | Yes | No  | Yes | 2 | Yes | No Hypertension | 33.88 |\n",
       "| 67347 | Male   | 80.23162 | 962.7794 | White   | 8th Grade      | Married      | 25000-34999 | 2.04 | Own  | ⋯ | No  | NA | 4.407648 | No  | No  | No  | 1 | Yes | Hypertension    | 33.40 |\n",
       "| 56905 | Female | 80.36851 | 964.4221 | Black   | College Grad   | Widowed      | 10000-14999 | 1.29 | Own  | ⋯ | No  | NA | 6.087517 | No  | No  | No  | 3 | No  | No Hypertension | 33.29 |\n",
       "| 52067 | Female | 80.37399 | 964.4878 | White   | 9 - 11th Grade | Married      | 20000-24999 | 1.51 | Own  | ⋯ | No  |  3 | 6.998895 | No  | No  | Yes | 1 | No  | No Hypertension | 33.11 |\n",
       "| 53842 | Female | 80.02973 | 960.3567 | White   | Some College   | Widowed      | 35000-44999 | 3.60 | Own  | ⋯ | No  |  2 | 8.762179 | No  | No  | No  | 1 | Yes | No Hypertension | 33.02 |\n",
       "| 70779 | Male   | 80.37207 | 964.4648 | White   | Some College   | Married      | 25000-34999 | 1.82 | Own  | ⋯ | No  | NA | 6.781864 | No  | No  | No  | 2 | No  | No Hypertension | 32.90 |\n",
       "| 57956 | Male   | 80.94329 | 971.3195 | White   | College Grad   | Married      | 75000-99999 | 5.00 | Own  | ⋯ | No  | NA | 9.075299 | No  | No  | Yes | 1 | No  | No Hypertension | 32.72 |\n",
       "| 65157 | Female | 80.53010 | 966.3612 | White   | Some College   | Divorced     | 25000-34999 | 2.48 | Own  | ⋯ | No  |  3 | 7.217835 | No  | No  | No  | 2 | No  | Hypertension    | 32.70 |\n",
       "| 57775 | Female | 80.17348 | 962.0818 | White   | High School    | Divorced     | 35000-44999 | 3.51 | Own  | ⋯ | Yes |  7 | 6.274403 | No  | No  | Yes | 1 | No  | No Hypertension | 32.42 |\n",
       "| 62517 | Male   | 80.67090 | 968.0508 | White   | 8th Grade      | Married      | NA          |   NA | Own  | ⋯ | Yes | NA | 8.858710 | No  | Yes | No  | 2 | Yes | No Hypertension | 32.30 |\n",
       "| 61650 | Male   | 80.93186 | 971.1823 | White   | High School    | Married      | 35000-44999 | 2.75 | Own  | ⋯ | No  | NA | 7.779653 | No  | No  | No  | 1 | Yes | No Hypertension | 32.23 |\n",
       "| 54073 | Female | 80.63002 | 967.5602 | White   | High School    | Married      | 25000-34999 | 2.16 | Rent | ⋯ | Yes |  6 | 9.868690 | Yes | No  | Yes | 1 | No  | No Hypertension | 32.21 |\n",
       "| 67566 | Female | 80.15776 | 961.8931 | White   | Some College   | Widowed      | 15000-19999 | 1.26 | Own  | ⋯ | Yes |  4 | 6.742190 | No  | No  | No  | 2 | No  | No Hypertension | 32.20 |\n",
       "| 63514 | Female | 80.01676 | 960.2011 | Black   | High School    | Widowed      | 15000-19999 | 1.20 | Rent | ⋯ | No  |  5 | 9.310691 | No  | No  | No  | 4 | No  | No Hypertension | 32.20 |\n",
       "| 55759 | Female | 80.57939 | 966.9527 | Mexican | 8th Grade      | Widowed      | 0-4999      | 0.09 | Own  | ⋯ | Yes | 12 | 9.681120 | No  | No  | No  | 3 | No  | No Hypertension | 31.83 |\n",
       "| ⋮ | ⋮ | ⋮ | ⋮ | ⋮ | ⋮ | ⋮ | ⋮ | ⋮ | ⋮ | ⋱ | ⋮ | ⋮ | ⋮ | ⋮ | ⋮ | ⋮ | ⋮ | ⋮ | ⋮ | ⋮ |\n",
       "| 64237 | Female | 16.41893 | 197.0272 | White    | NA | NA | 15000-19999 | 0.50 | Own   | ⋯ | No | NA | 6.878309 | No  | Yes | No  | 2 | No | No Hypertension | 21.30 |\n",
       "| 54221 | Male   | 16.70443 | 200.4531 | Mexican  | NA | NA | 55000-64999 | 2.72 | Own   | ⋯ | No | NA | 7.556747 | No  | Yes | Yes | 1 | No | No Hypertension | 21.15 |\n",
       "| 53435 | Male   | 16.00088 | 192.0106 | White    | NA | NA | 75000-99999 | 3.40 | Own   | ⋯ | No | NA | 8.866268 | No  | Yes | Yes | 1 | No | No Hypertension | 21.14 |\n",
       "| 62890 | Female | 16.14452 | 193.7342 | Other    | NA | NA | more 99999  | 5.00 | Own   | ⋯ | No | NA | 8.788701 | No  | Yes | No  | 2 | No | No Hypertension | 21.00 |\n",
       "| 69968 | Male   | 16.33396 | 196.0075 | White    | NA | NA | 65000-74999 | 2.33 | Own   | ⋯ | No | NA | 6.174690 | No  | Yes | No  | 3 | No | No Hypertension | 21.00 |\n",
       "| 60941 | Male   | 16.46940 | 197.6328 | Hispanic | NA | NA | 35000-44999 | 1.95 | Own   | ⋯ | No | NA | 8.762164 | No  | No  | No  | 1 | No | No Hypertension | 20.85 |\n",
       "| 68779 | Male   | 16.28414 | 195.4097 | Mexican  | NA | NA | 55000-64999 | 4.21 | Rent  | ⋯ | No | NA | 8.578923 | No  | Yes | No  | 2 | No | No Hypertension | 20.80 |\n",
       "| 64773 | Female | 16.02357 | 192.2828 | Mexican  | NA | NA | more 99999  | 5.00 | Own   | ⋯ | No | NA | 6.854439 | No  | Yes | No  | 2 | No | Hypertension    | 20.70 |\n",
       "| 64012 | Female | 16.16898 | 194.0278 | White    | NA | NA | 35000-44999 | 1.13 | Own   | ⋯ | No | NA | 6.517937 | Yes | Yes | No  | 2 | No | No Hypertension | 20.50 |\n",
       "| 57252 | Female | 16.81222 | 201.7466 | Hispanic | NA | NA | NA          |   NA | Rent  | ⋯ | No | NA | 8.714390 | No  | Yes | Yes | 1 | No | No Hypertension | 20.35 |\n",
       "| 71759 | Male   | 16.70264 | 200.4317 | Black    | NA | NA | 45000-54999 | 2.70 | Own   | ⋯ | No | NA | 8.572825 | No  | Yes | No  | 3 | No | No Hypertension | 20.30 |\n",
       "| 63446 | Male   | 16.21214 | 194.5457 | Black    | NA | NA | 25000-34999 | 1.16 | Rent  | ⋯ | No | NA | 8.567358 | No  | Yes | No  | 2 | No | No Hypertension | 20.10 |\n",
       "| 55820 | Male   | 16.51417 | 198.1700 | Black    | NA | NA | 20000-24999 | 1.09 | Own   | ⋯ | No | NA | 7.694931 | Yes | Yes | Yes | 1 | No | No Hypertension | 19.97 |\n",
       "| 70074 | Male   | 16.88880 | 202.6656 | Mexican  | NA | NA | 35000-44999 | 1.30 | Own   | ⋯ | No | NA | 6.074915 | No  | Yes | No  | 3 | No | No Hypertension | 19.90 |\n",
       "| 68286 | Female | 16.93323 | 203.1987 | White    | NA | NA | NA          |   NA | NA    | ⋯ | No | NA | 9.325218 | No  | Yes | No  | 2 | No | No Hypertension | 19.80 |\n",
       "| 51771 | Female | 16.95259 | 203.4311 | White    | NA | NA | more 99999  | 4.85 | Own   | ⋯ | No | NA | 6.542143 | No  | No  | Yes | 1 | No | No Hypertension | 19.41 |\n",
       "| 52896 | Female | 16.67698 | 200.1237 | Black    | NA | NA | NA          |   NA | Rent  | ⋯ | No | NA | 8.464762 | No  | Yes | Yes | 1 | No | No Hypertension | 19.26 |\n",
       "| 63810 | Male   | 16.44947 | 197.3936 | Other    | NA | NA | 15000-19999 | 0.92 | Rent  | ⋯ | No | NA | 8.812366 | No  | No  | No  | 2 | No | No Hypertension | 19.00 |\n",
       "| 66684 | Male   | 16.94663 | 203.3596 | Other    | NA | NA | more 99999  | 4.59 | Own   | ⋯ | No | NA | 8.366518 | No  | Yes | No  | 2 | No | No Hypertension | 19.00 |\n",
       "| 67552 | Female | 16.32354 | 195.8825 | White    | NA | NA | more 99999  | 4.07 | Own   | ⋯ | No | NA | 8.920172 | Yes | Yes | No  | 2 | No | No Hypertension | 19.00 |\n",
       "| 70989 | Male   | 16.89532 | 202.7439 | White    | NA | NA | 15000-19999 | 0.58 | Own   | ⋯ | No | NA | 7.441692 | No  | No  | No  | 3 | No | No Hypertension | 19.00 |\n",
       "| 52491 | Male   | 16.67196 | 200.0635 | White    | NA | NA | 55000-64999 | 2.72 | Own   | ⋯ | No | NA | 7.514442 | No  | Yes | Yes | 1 | No | No Hypertension | 18.91 |\n",
       "| 61341 | Female | 16.93364 | 203.2037 | White    | NA | NA | 10000-14999 | 0.82 | Own   | ⋯ | No | NA | 7.101230 | No  | Yes | No  | 2 | No | No Hypertension | 18.91 |\n",
       "| 67934 | Female | 16.51144 | 198.1373 | White    | NA | NA | 35000-44999 | 1.52 | Own   | ⋯ | No | NA | 8.420585 | No  | Yes | No  | 2 | No | No Hypertension | 18.70 |\n",
       "| 68014 | Male   | 16.04714 | 192.5656 | White    | NA | NA | 25000-34999 | 1.17 | Own   | ⋯ | No | NA | 8.127231 | No  | Yes | No  | 2 | No | No Hypertension | 18.60 |\n",
       "| 59679 | Female | 16.83568 | 202.0281 | White    | NA | NA | more 99999  | 5.00 | Own   | ⋯ | No | NA | 7.106535 | No  | Yes | Yes | 1 | No | No Hypertension | 18.59 |\n",
       "| 56670 | Male   | 16.97072 | 203.6487 | White    | NA | NA | more 99999  | 5.00 | Own   | ⋯ | No | NA | 7.683118 | No  | Yes | Yes | 1 | No | No Hypertension | 18.53 |\n",
       "| 66117 | Female | 16.92910 | 203.1492 | White    | NA | NA | more 99999  | 5.00 | Own   | ⋯ | No | NA | 6.122093 | Yes | Yes | No  | 2 | No | No Hypertension | 18.30 |\n",
       "| 65627 | Male   | 16.57579 | 198.9095 | Black    | NA | NA | 5000-9999   | 0.30 | Other | ⋯ | No | NA | 6.410928 | No  | No  | No  | 2 | No | No Hypertension | 18.00 |\n",
       "| 57464 | Male   | 16.40998 | 196.9198 | Black    | NA | NA | 10000-14999 | 0.77 | Rent  | ⋯ | No | NA | 6.311987 | No  | No  | Yes | 1 | No | No Hypertension | 17.09 |\n",
       "\n"
      ],
      "text/plain": [
       "     ID    gender age      age (months) race1    education      MaritalStatus\n",
       "1    54978 Female 80.15551 961.8661     Black    9 - 11th Grade Widowed      \n",
       "2    62686 Female 80.50146 966.0175     White    High School    Widowed      \n",
       "3    60371 Female 80.82286 969.8743     White    Some College   Separated    \n",
       "4    59023 Female 80.26906 963.2287     White    9 - 11th Grade Married      \n",
       "5    53330 Male   80.69757 968.3709     White    Some College   Married      \n",
       "6    67222 Female 80.87271 970.4725     White    8th Grade      Married      \n",
       "7    61194 Female 80.19019 962.2822     White    8th Grade      Widowed      \n",
       "8    69925 Female 80.79485 969.5382     Mexican  8th Grade      NeverMarried \n",
       "9    69167 Female 80.42749 965.1299     White    9 - 11th Grade Widowed      \n",
       "10   66733 Female 80.48316 965.7980     Black    College Grad   Married      \n",
       "11   65097 Male   80.44913 965.3895     White    College Grad   Married      \n",
       "12   59788 Male   80.48350 965.8020     White    Some College   NeverMarried \n",
       "13   61707 Female 80.74152 968.8982     White    9 - 11th Grade Widowed      \n",
       "14   51819 Male   80.07594 960.9112     White    9 - 11th Grade Married      \n",
       "15   62174 Male   80.57133 966.8560     White    College Grad   Married      \n",
       "16   55496 Male   80.06024 960.7229     White    College Grad   Married      \n",
       "17   67347 Male   80.23162 962.7794     White    8th Grade      Married      \n",
       "18   56905 Female 80.36851 964.4221     Black    College Grad   Widowed      \n",
       "19   52067 Female 80.37399 964.4878     White    9 - 11th Grade Married      \n",
       "20   53842 Female 80.02973 960.3567     White    Some College   Widowed      \n",
       "21   70779 Male   80.37207 964.4648     White    Some College   Married      \n",
       "22   57956 Male   80.94329 971.3195     White    College Grad   Married      \n",
       "23   65157 Female 80.53010 966.3612     White    Some College   Divorced     \n",
       "24   57775 Female 80.17348 962.0818     White    High School    Divorced     \n",
       "25   62517 Male   80.67090 968.0508     White    8th Grade      Married      \n",
       "26   61650 Male   80.93186 971.1823     White    High School    Married      \n",
       "27   54073 Female 80.63002 967.5602     White    High School    Married      \n",
       "28   67566 Female 80.15776 961.8931     White    Some College   Widowed      \n",
       "29   63514 Female 80.01676 960.2011     Black    High School    Widowed      \n",
       "30   55759 Female 80.57939 966.9527     Mexican  8th Grade      Widowed      \n",
       "⋮    ⋮     ⋮      ⋮        ⋮            ⋮        ⋮              ⋮            \n",
       "4749 64237 Female 16.41893 197.0272     White    NA             NA           \n",
       "4750 54221 Male   16.70443 200.4531     Mexican  NA             NA           \n",
       "4751 53435 Male   16.00088 192.0106     White    NA             NA           \n",
       "4752 62890 Female 16.14452 193.7342     Other    NA             NA           \n",
       "4753 69968 Male   16.33396 196.0075     White    NA             NA           \n",
       "4754 60941 Male   16.46940 197.6328     Hispanic NA             NA           \n",
       "4755 68779 Male   16.28414 195.4097     Mexican  NA             NA           \n",
       "4756 64773 Female 16.02357 192.2828     Mexican  NA             NA           \n",
       "4757 64012 Female 16.16898 194.0278     White    NA             NA           \n",
       "4758 57252 Female 16.81222 201.7466     Hispanic NA             NA           \n",
       "4759 71759 Male   16.70264 200.4317     Black    NA             NA           \n",
       "4760 63446 Male   16.21214 194.5457     Black    NA             NA           \n",
       "4761 55820 Male   16.51417 198.1700     Black    NA             NA           \n",
       "4762 70074 Male   16.88880 202.6656     Mexican  NA             NA           \n",
       "4763 68286 Female 16.93323 203.1987     White    NA             NA           \n",
       "4764 51771 Female 16.95259 203.4311     White    NA             NA           \n",
       "4765 52896 Female 16.67698 200.1237     Black    NA             NA           \n",
       "4766 63810 Male   16.44947 197.3936     Other    NA             NA           \n",
       "4767 66684 Male   16.94663 203.3596     Other    NA             NA           \n",
       "4768 67552 Female 16.32354 195.8825     White    NA             NA           \n",
       "4769 70989 Male   16.89532 202.7439     White    NA             NA           \n",
       "4770 52491 Male   16.67196 200.0635     White    NA             NA           \n",
       "4771 61341 Female 16.93364 203.2037     White    NA             NA           \n",
       "4772 67934 Female 16.51144 198.1373     White    NA             NA           \n",
       "4773 68014 Male   16.04714 192.5656     White    NA             NA           \n",
       "4774 59679 Female 16.83568 202.0281     White    NA             NA           \n",
       "4775 56670 Male   16.97072 203.6487     White    NA             NA           \n",
       "4776 66117 Female 16.92910 203.1492     White    NA             NA           \n",
       "4777 65627 Male   16.57579 198.9095     Black    NA             NA           \n",
       "4778 57464 Male   16.40998 196.9198     Black    NA             NA           \n",
       "     hh income   poverty home own ⋯ diabetes n_pregnancies sleep_hrs_night\n",
       "1    20000-24999 1.07    Own      ⋯ Yes       9            7.156727       \n",
       "2    35000-44999 2.31    Own      ⋯ Yes       2            6.199555       \n",
       "3    NA            NA    Own      ⋯ Yes       5            9.941897       \n",
       "4    15000-19999 1.21    Own      ⋯ No        2            7.892662       \n",
       "5    20000-24999 1.37    Own      ⋯ No       NA            5.752325       \n",
       "6    25000-34999 1.15    Own      ⋯ No        1            8.555197       \n",
       "7    0-4999      0.42    Own      ⋯ No       NA            6.077727       \n",
       "8    10000-14999 1.30    Own      ⋯ No       NA            7.474176       \n",
       "9    10000-14999 1.29    Own      ⋯ No       10            6.970762       \n",
       "10   more 99999  5.00    Own      ⋯ No       NA            6.932179       \n",
       "11   75000-99999 5.00    Own      ⋯ No       NA            8.014354       \n",
       "12   45000-54999 4.62    Rent     ⋯ No       NA            6.715139       \n",
       "13   25000-34999 2.31    Own      ⋯ No        3            9.672555       \n",
       "14   65000-74999 3.60    Own      ⋯ Yes      NA            7.315377       \n",
       "15   65000-74999 4.30    Own      ⋯ No       NA            6.804733       \n",
       "16   75000-99999 5.00    Own      ⋯ No       NA            6.369331       \n",
       "17   25000-34999 2.04    Own      ⋯ No       NA            4.407648       \n",
       "18   10000-14999 1.29    Own      ⋯ No       NA            6.087517       \n",
       "19   20000-24999 1.51    Own      ⋯ No        3            6.998895       \n",
       "20   35000-44999 3.60    Own      ⋯ No        2            8.762179       \n",
       "21   25000-34999 1.82    Own      ⋯ No       NA            6.781864       \n",
       "22   75000-99999 5.00    Own      ⋯ No       NA            9.075299       \n",
       "23   25000-34999 2.48    Own      ⋯ No        3            7.217835       \n",
       "24   35000-44999 3.51    Own      ⋯ Yes       7            6.274403       \n",
       "25   NA            NA    Own      ⋯ Yes      NA            8.858710       \n",
       "26   35000-44999 2.75    Own      ⋯ No       NA            7.779653       \n",
       "27   25000-34999 2.16    Rent     ⋯ Yes       6            9.868690       \n",
       "28   15000-19999 1.26    Own      ⋯ Yes       4            6.742190       \n",
       "29   15000-19999 1.20    Rent     ⋯ No        5            9.310691       \n",
       "30   0-4999      0.09    Own      ⋯ Yes      12            9.681120       \n",
       "⋮    ⋮           ⋮       ⋮        ⋱ ⋮        ⋮             ⋮              \n",
       "4749 15000-19999 0.50    Own      ⋯ No       NA            6.878309       \n",
       "4750 55000-64999 2.72    Own      ⋯ No       NA            7.556747       \n",
       "4751 75000-99999 3.40    Own      ⋯ No       NA            8.866268       \n",
       "4752 more 99999  5.00    Own      ⋯ No       NA            8.788701       \n",
       "4753 65000-74999 2.33    Own      ⋯ No       NA            6.174690       \n",
       "4754 35000-44999 1.95    Own      ⋯ No       NA            8.762164       \n",
       "4755 55000-64999 4.21    Rent     ⋯ No       NA            8.578923       \n",
       "4756 more 99999  5.00    Own      ⋯ No       NA            6.854439       \n",
       "4757 35000-44999 1.13    Own      ⋯ No       NA            6.517937       \n",
       "4758 NA            NA    Rent     ⋯ No       NA            8.714390       \n",
       "4759 45000-54999 2.70    Own      ⋯ No       NA            8.572825       \n",
       "4760 25000-34999 1.16    Rent     ⋯ No       NA            8.567358       \n",
       "4761 20000-24999 1.09    Own      ⋯ No       NA            7.694931       \n",
       "4762 35000-44999 1.30    Own      ⋯ No       NA            6.074915       \n",
       "4763 NA            NA    NA       ⋯ No       NA            9.325218       \n",
       "4764 more 99999  4.85    Own      ⋯ No       NA            6.542143       \n",
       "4765 NA            NA    Rent     ⋯ No       NA            8.464762       \n",
       "4766 15000-19999 0.92    Rent     ⋯ No       NA            8.812366       \n",
       "4767 more 99999  4.59    Own      ⋯ No       NA            8.366518       \n",
       "4768 more 99999  4.07    Own      ⋯ No       NA            8.920172       \n",
       "4769 15000-19999 0.58    Own      ⋯ No       NA            7.441692       \n",
       "4770 55000-64999 2.72    Own      ⋯ No       NA            7.514442       \n",
       "4771 10000-14999 0.82    Own      ⋯ No       NA            7.101230       \n",
       "4772 35000-44999 1.52    Own      ⋯ No       NA            8.420585       \n",
       "4773 25000-34999 1.17    Own      ⋯ No       NA            8.127231       \n",
       "4774 more 99999  5.00    Own      ⋯ No       NA            7.106535       \n",
       "4775 more 99999  5.00    Own      ⋯ No       NA            7.683118       \n",
       "4776 more 99999  5.00    Own      ⋯ No       NA            6.122093       \n",
       "4777 5000-9999   0.30    Other    ⋯ No       NA            6.410928       \n",
       "4778 10000-14999 0.77    Rent     ⋯ No       NA            6.311987       \n",
       "     sleep_trouble phys_active smoke_now alcohol_day regular_marij\n",
       "1    No            No          No        3           No           \n",
       "2    No            No          No        2           No           \n",
       "3    No            No          No        4           No           \n",
       "4    No            No          Yes       1           No           \n",
       "5    No            No          No        1           Yes          \n",
       "6    Yes           No          No        1           Yes          \n",
       "7    No            No          No        1           No           \n",
       "8    No            No          No        2           Yes          \n",
       "9    No            No          No        1           Yes          \n",
       "10   No            No          No        2           No           \n",
       "11   No            No          No        2           No           \n",
       "12   No            Yes         No        1           Yes          \n",
       "13   No            No          No        2           No           \n",
       "14   No            No          Yes       1           No           \n",
       "15   No            No          No        2           No           \n",
       "16   Yes           No          Yes       2           Yes          \n",
       "17   No            No          No        1           Yes          \n",
       "18   No            No          No        3           No           \n",
       "19   No            No          Yes       1           No           \n",
       "20   No            No          No        1           Yes          \n",
       "21   No            No          No        2           No           \n",
       "22   No            No          Yes       1           No           \n",
       "23   No            No          No        2           No           \n",
       "24   No            No          Yes       1           No           \n",
       "25   No            Yes         No        2           Yes          \n",
       "26   No            No          No        1           Yes          \n",
       "27   Yes           No          Yes       1           No           \n",
       "28   No            No          No        2           No           \n",
       "29   No            No          No        4           No           \n",
       "30   No            No          No        3           No           \n",
       "⋮    ⋮             ⋮           ⋮         ⋮           ⋮            \n",
       "4749 No            Yes         No        2           No           \n",
       "4750 No            Yes         Yes       1           No           \n",
       "4751 No            Yes         Yes       1           No           \n",
       "4752 No            Yes         No        2           No           \n",
       "4753 No            Yes         No        3           No           \n",
       "4754 No            No          No        1           No           \n",
       "4755 No            Yes         No        2           No           \n",
       "4756 No            Yes         No        2           No           \n",
       "4757 Yes           Yes         No        2           No           \n",
       "4758 No            Yes         Yes       1           No           \n",
       "4759 No            Yes         No        3           No           \n",
       "4760 No            Yes         No        2           No           \n",
       "4761 Yes           Yes         Yes       1           No           \n",
       "4762 No            Yes         No        3           No           \n",
       "4763 No            Yes         No        2           No           \n",
       "4764 No            No          Yes       1           No           \n",
       "4765 No            Yes         Yes       1           No           \n",
       "4766 No            No          No        2           No           \n",
       "4767 No            Yes         No        2           No           \n",
       "4768 Yes           Yes         No        2           No           \n",
       "4769 No            No          No        3           No           \n",
       "4770 No            Yes         Yes       1           No           \n",
       "4771 No            Yes         No        2           No           \n",
       "4772 No            Yes         No        2           No           \n",
       "4773 No            Yes         No        2           No           \n",
       "4774 No            Yes         Yes       1           No           \n",
       "4775 No            Yes         Yes       1           No           \n",
       "4776 Yes           Yes         No        2           No           \n",
       "4777 No            No          No        2           No           \n",
       "4778 No            No          Yes       1           No           \n",
       "     hypertension    BMI  \n",
       "1    No Hypertension 43.41\n",
       "2    No Hypertension 38.70\n",
       "3    No Hypertension 38.46\n",
       "4    No Hypertension 37.77\n",
       "5    Hypertension    36.15\n",
       "6    No Hypertension 35.60\n",
       "7    No Hypertension 35.41\n",
       "8    No Hypertension 35.30\n",
       "9    No Hypertension 35.10\n",
       "10   No Hypertension 35.00\n",
       "11   No Hypertension 34.80\n",
       "12   Hypertension    34.52\n",
       "13   No Hypertension 34.36\n",
       "14   No Hypertension 34.04\n",
       "15   No Hypertension 33.90\n",
       "16   No Hypertension 33.88\n",
       "17   Hypertension    33.40\n",
       "18   No Hypertension 33.29\n",
       "19   No Hypertension 33.11\n",
       "20   No Hypertension 33.02\n",
       "21   No Hypertension 32.90\n",
       "22   No Hypertension 32.72\n",
       "23   Hypertension    32.70\n",
       "24   No Hypertension 32.42\n",
       "25   No Hypertension 32.30\n",
       "26   No Hypertension 32.23\n",
       "27   No Hypertension 32.21\n",
       "28   No Hypertension 32.20\n",
       "29   No Hypertension 32.20\n",
       "30   No Hypertension 31.83\n",
       "⋮    ⋮               ⋮    \n",
       "4749 No Hypertension 21.30\n",
       "4750 No Hypertension 21.15\n",
       "4751 No Hypertension 21.14\n",
       "4752 No Hypertension 21.00\n",
       "4753 No Hypertension 21.00\n",
       "4754 No Hypertension 20.85\n",
       "4755 No Hypertension 20.80\n",
       "4756 Hypertension    20.70\n",
       "4757 No Hypertension 20.50\n",
       "4758 No Hypertension 20.35\n",
       "4759 No Hypertension 20.30\n",
       "4760 No Hypertension 20.10\n",
       "4761 No Hypertension 19.97\n",
       "4762 No Hypertension 19.90\n",
       "4763 No Hypertension 19.80\n",
       "4764 No Hypertension 19.41\n",
       "4765 No Hypertension 19.26\n",
       "4766 No Hypertension 19.00\n",
       "4767 No Hypertension 19.00\n",
       "4768 No Hypertension 19.00\n",
       "4769 No Hypertension 19.00\n",
       "4770 No Hypertension 18.91\n",
       "4771 No Hypertension 18.91\n",
       "4772 No Hypertension 18.70\n",
       "4773 No Hypertension 18.60\n",
       "4774 No Hypertension 18.59\n",
       "4775 No Hypertension 18.53\n",
       "4776 No Hypertension 18.30\n",
       "4777 No Hypertension 18.00\n",
       "4778 No Hypertension 17.09"
      ]
     },
     "metadata": {},
     "output_type": "display_data"
    }
   ],
   "source": [
    "# View will open the whole data file in a separate panel\n",
    "# This works in RStudio but not here\n",
    "View(sleep) # alternatively click on sleep in the environment panel"
   ]
  },
  {
   "cell_type": "markdown",
   "id": "HZnFB_aGhNPM",
   "metadata": {
    "id": "HZnFB_aGhNPM"
   },
   "source": [
    "## Data Cleaning and Preparation"
   ]
  },
  {
   "cell_type": "markdown",
   "id": "nk070xd3iBvP",
   "metadata": {
    "id": "nk070xd3iBvP"
   },
   "source": [
    "### Clean Column Names"
   ]
  },
  {
   "cell_type": "markdown",
   "id": "35fca2f4-2c18-42b6-899d-d80c03f8acd0",
   "metadata": {
    "id": "35fca2f4-2c18-42b6-899d-d80c03f8acd0"
   },
   "source": [
    "A good first step is to clean column names, in case there are any odd symbols or mixed cases. The quickest way to do this is with the clean_names function from the `janitor` package."
   ]
  },
  {
   "cell_type": "code",
   "execution_count": 6,
   "id": "c31648a2-1f2b-44da-b86e-aa296a414b9b",
   "metadata": {
    "id": "c31648a2-1f2b-44da-b86e-aa296a414b9b"
   },
   "outputs": [],
   "source": [
    "# Fix column names reassigning this to the dataframe sleep\n",
    "sleep <- clean_names(sleep)"
   ]
  },
  {
   "cell_type": "markdown",
   "id": "LIFCZsGciIXV",
   "metadata": {
    "id": "LIFCZsGciIXV"
   },
   "source": [
    "### Trimming Data"
   ]
  },
  {
   "cell_type": "markdown",
   "id": "G84TcL9NhxL8",
   "metadata": {
    "id": "G84TcL9NhxL8"
   },
   "source": [
    "It is often practical to trim your data set down to only the\n",
    "necessary columns (variables). We can easily do this using the `select` function. We will keep only the variables mentioned in the Scenario.\n",
    "\n",
    "```{tip}\n",
    "Tip: It is best practise to preserve the original data frame so when we trim we assign this to a new data frame.\n",
    "```"
   ]
  },
  {
   "cell_type": "code",
   "execution_count": 7,
   "id": "d0efd14a-cb31-49c9-8f54-d4dbab0d0dd3",
   "metadata": {
    "id": "d0efd14a-cb31-49c9-8f54-d4dbab0d0dd3"
   },
   "outputs": [],
   "source": [
    "# Trim sleep to select columns only and assign this to a new dataframe sleep_trim\n",
    "sleep_trim <- sleep %>%\n",
    "  select(id,\n",
    "    gender,\n",
    "    age,\n",
    "    hypertension,\n",
    "    sleep_hrs_night,\n",
    "    phys_active,\n",
    "    smoke_now,\n",
    "    alcohol_day,\n",
    "    regular_marij,\n",
    "    bmi)"
   ]
  },
  {
   "cell_type": "markdown",
   "id": "VNenkbChOKdU",
   "metadata": {
    "id": "VNenkbChOKdU"
   },
   "source": [
    "We also want to trim the data down to our cohort of interest. In this case, we are interested in adults 40\n",
    "years or older. We can use the `filter` function to remove participants who are younger than 40 from our data set.\n",
    "\n",
    "```{warning}\n",
    "It would be a good idea check a numerical summary of the age variable to make sure there are no extreme or impossible values before we filter\n",
    "```"
   ]
  },
  {
   "cell_type": "code",
   "execution_count": 8,
   "id": "R2w2E-1qOZph",
   "metadata": {
    "id": "R2w2E-1qOZph"
   },
   "outputs": [
    {
     "data": {
      "text/plain": [
       "   Min. 1st Qu.  Median    Mean 3rd Qu.    Max. \n",
       "  16.00   29.91   44.24   45.64   60.05   80.99 "
      ]
     },
     "metadata": {},
     "output_type": "display_data"
    }
   ],
   "source": [
    "# generate a summary of the age variable belonging to the sleep_trim dataframe\n",
    "summary(sleep_trim$age)"
   ]
  },
  {
   "cell_type": "code",
   "execution_count": 9,
   "id": "KkuLp2GmPRKZ",
   "metadata": {
    "id": "KkuLp2GmPRKZ"
   },
   "outputs": [
    {
     "data": {
      "text/html": [
       "40.00886844"
      ],
      "text/latex": [
       "40.00886844"
      ],
      "text/markdown": [
       "40.00886844"
      ],
      "text/plain": [
       "[1] 40.00887"
      ]
     },
     "metadata": {},
     "output_type": "display_data"
    }
   ],
   "source": [
    "# filter sleep_trim to select entries we want to keep\n",
    "sleep_40 <- sleep_trim %>%\n",
    "filter(age >= 40) #only those rows with age>=40\n",
    "\n",
    "# add a check that the filter worked\n",
    "min(sleep_40$age)"
   ]
  },
  {
   "cell_type": "markdown",
   "id": "fVs7DTVCQOHT",
   "metadata": {
    "id": "fVs7DTVCQOHT"
   },
   "source": [
    "## Variable Checking"
   ]
  },
  {
   "cell_type": "markdown",
   "id": "Ksan6dIGQS7C",
   "metadata": {
    "id": "Ksan6dIGQS7C"
   },
   "source": [
    "We will first consider our exposure variable, in this case, the number of hours a participant sleeps each night `[sleep_hrs_night]`. Let's check to see if the summary values look reasonable."
   ]
  },
  {
   "cell_type": "code",
   "execution_count": 10,
   "id": "O_1YHF_PQwgf",
   "metadata": {
    "id": "O_1YHF_PQwgf"
   },
   "outputs": [
    {
     "data": {
      "text/plain": [
       "   Min. 1st Qu.  Median    Mean 3rd Qu.    Max. \n",
       "  4.003   6.364   7.288   7.323   8.445   9.998 "
      ]
     },
     "metadata": {},
     "output_type": "display_data"
    }
   ],
   "source": [
    "# generate a summary of sleep_hrs_night variable\n",
    "summary(sleep_40$sleep_hrs_night)"
   ]
  },
  {
   "cell_type": "markdown",
   "id": "p6XdAKSAQ_5x",
   "metadata": {
    "id": "p6XdAKSAQ_5x"
   },
   "source": [
    "```{tip}\n",
    "Although the values look reasonable, 4 hours is not a lot of sleep. In practice, it might be worth checking with the data provider to make sure that there is not a typo somewhere.\n",
    "```"
   ]
  },
  {
   "cell_type": "markdown",
   "id": "bfKMtBHNR6Gr",
   "metadata": {
    "id": "bfKMtBHNR6Gr"
   },
   "source": [
    "Now let's fix the `alcohol_day` variable, which we saw earlier was a character variable. A quick easy way to figure out why a numeric variable has been classed as a character variable is to tabulate the variable using the `table` function.\n",
    "The variable values (e.g 1) will be listed with their respective counts (e.g. 1007) directly below."
   ]
  },
  {
   "cell_type": "code",
   "execution_count": 11,
   "id": "DrZGW0NQShnT",
   "metadata": {
    "id": "DrZGW0NQShnT"
   },
   "outputs": [
    {
     "data": {
      "text/plain": [
       "\n",
       "    1    10    12    13    14    15    16    17    18     2    20    21    24 \n",
       " 1007    21    40     1     1     7     1     2     1   734     3     2     1 \n",
       "    3    30     4     5     6     7     8     9   one   One   six  thre three \n",
       "  355     1   212   110   133    24    33     4    13     9     2     1    10 \n",
       "Three \n",
       "    6 "
      ]
     },
     "metadata": {},
     "output_type": "display_data"
    }
   ],
   "source": [
    "# create a table of values for alcohol_day\n",
    "table(sleep_40$alcohol_day)"
   ]
  }
 ],
 "metadata": {
  "colab": {
   "provenance": [],
   "toc_visible": true
  },
  "kernelspec": {
   "display_name": "R",
   "language": "R",
   "name": "ir"
  },
  "language_info": {
   "codemirror_mode": "r",
   "file_extension": ".r",
   "mimetype": "text/x-r-source",
   "name": "R",
   "pygments_lexer": "r",
   "version": "4.4.2"
  }
 },
 "nbformat": 4,
 "nbformat_minor": 5
}