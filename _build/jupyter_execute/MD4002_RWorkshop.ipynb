{
 "cells": [
  {
   "cell_type": "markdown",
   "id": "050ee430-68fa-4f4b-ae7b-1f5051c05dc0",
   "metadata": {
    "id": "050ee430-68fa-4f4b-ae7b-1f5051c05dc0",
    "jp-MarkdownHeadingCollapsed": true
   },
   "source": [
    "# Data Workflow"
   ]
  },
  {
   "cell_type": "markdown",
   "id": "ec2ad8fa-bc9d-4252-abaf-544aeb293958",
   "metadata": {
    "id": "ec2ad8fa-bc9d-4252-abaf-544aeb293958",
    "jp-MarkdownHeadingCollapsed": true
   },
   "source": [
    "The main workflow for any data analysis project involves the following:\n",
    "\n",
    "* R Set-up (loading relevant packages and data)\n",
    "* Data Wrangling (cleaning and preparation)\n",
    "* Visualisations (tables and graphs)\n",
    "* Analysis (modelling or other technical analysis)\n",
    "* Assumption checking\n",
    "\n",
    "```{note}\n",
    "Advanced statistical analysis is beyond the scope of this workshop.\n",
    "```"
   ]
  },
  {
   "cell_type": "markdown",
   "id": "df433e83-40db-4c6b-9635-f8e4458606db",
   "metadata": {
    "id": "df433e83-40db-4c6b-9635-f8e4458606db"
   },
   "source": [
    "<a id=\"scenario\"></a>\n",
    "## Scenario"
   ]
  },
  {
   "cell_type": "markdown",
   "id": "4e5b191a-9371-4622-8e54-89ae927d3297",
   "metadata": {
    "id": "4e5b191a-9371-4622-8e54-89ae927d3297"
   },
   "source": [
    "We are a part of a research team conducting a study that aims to understand if there is an association between the average number of hours an individual sleeps each night `[sleep_hrs_night]` and the development of hypertension\n",
    "`[hypertension]` in adults aged 40 years `[age]` or older. The research team believes that the following factors could obscure such an association, and as such should be adjusted for:\n",
    "\n",
    "* Average daily alcohol consumption `[alcohol_day]`\n",
    "* Regular use of marijuana `[regular_marij]`\n",
    "* Is participant currently a smoker `[smoke_now]`\n",
    "* Is participant regularly physically active `[phys_active]`\n",
    "* BMI Group (underweight, healthy, overweight, obese) `[bmi]`\n",
    "\n",
    "To answer this research question, we will use the US National Health and Nutrition Examination Survey (NHANES) provided within the data file `sleep.csv.`\n",
    "\n",
    "\n",
    "```{note}\n",
    "The statistical methods for survey data are beyond the scope of this R workshop. As such we will treat this data as if it was collected from randomly selected individuals.\n",
    "```"
   ]
  },
  {
   "cell_type": "markdown",
   "id": "c3b4d7aa-2f7c-4b24-92f2-9dd3cbb12509",
   "metadata": {
    "id": "c3b4d7aa-2f7c-4b24-92f2-9dd3cbb12509"
   },
   "source": [
    "# R Set-up"
   ]
  },
  {
   "cell_type": "markdown",
   "id": "7afccdaf-4b29-491d-9bf4-a18d9b5cd476",
   "metadata": {
    "id": "7afccdaf-4b29-491d-9bf4-a18d9b5cd476"
   },
   "source": [
    "There are a few things you need to do every time you open R:\n",
    "\n",
    "* Install/Load packages\n",
    "* Read in data (import data into R)\n"
   ]
  },
  {
   "cell_type": "markdown",
   "id": "WyOSqtDFdAld",
   "metadata": {
    "id": "WyOSqtDFdAld"
   },
   "source": [
    "## Install/Load Packages\n",
    "\n"
   ]
  },
  {
   "cell_type": "markdown",
   "id": "vAEc4IexdqI2",
   "metadata": {
    "id": "vAEc4IexdqI2"
   },
   "source": [
    "We **install** packages in R once. We **load** packages we are going to use everytime we open/start R. We recommended that you write the installation/load code at the top of your code script. This makes it easy to see what packages you used at a glance.\n",
    "\n",
    "```{tip}\n",
    "The symbol # is used to indicate a comment in R. This is a line which R will skip over and not try to run as code. The best codes are well commented.\n",
    "```"
   ]
  },
  {
   "cell_type": "code",
   "execution_count": 1,
   "id": "e69cddb8-6899-47cf-bf50-e6389dd432d4",
   "metadata": {
    "collapsed": true,
    "id": "e69cddb8-6899-47cf-bf50-e6389dd432d4"
   },
   "outputs": [
    {
     "name": "stdout",
     "output_type": "stream",
     "text": [
      "\n",
      "The downloaded binary packages are in\n",
      "\t/var/folders/s6/j29zk3c50kj6bvnscxkj0lc40000gr/T//Rtmpu3YkIL/downloaded_packages\n"
     ]
    },
    {
     "name": "stdout",
     "output_type": "stream",
     "text": [
      "\n",
      "The downloaded binary packages are in\n",
      "\t/var/folders/s6/j29zk3c50kj6bvnscxkj0lc40000gr/T//Rtmpu3YkIL/downloaded_packages\n"
     ]
    },
    {
     "name": "stdout",
     "output_type": "stream",
     "text": [
      "\n",
      "The downloaded binary packages are in\n",
      "\t/var/folders/s6/j29zk3c50kj6bvnscxkj0lc40000gr/T//Rtmpu3YkIL/downloaded_packages\n"
     ]
    },
    {
     "name": "stdout",
     "output_type": "stream",
     "text": [
      "\n",
      "The downloaded binary packages are in\n",
      "\t/var/folders/s6/j29zk3c50kj6bvnscxkj0lc40000gr/T//Rtmpu3YkIL/downloaded_packages\n"
     ]
    },
    {
     "name": "stderr",
     "output_type": "stream",
     "text": [
      "── \u001b[1mAttaching core tidyverse packages\u001b[22m ───────────────────────────────────────────────────────────── tidyverse 2.0.0 ──\n",
      "\u001b[32m✔\u001b[39m \u001b[34mdplyr    \u001b[39m 1.1.4     \u001b[32m✔\u001b[39m \u001b[34mreadr    \u001b[39m 2.1.5\n",
      "\u001b[32m✔\u001b[39m \u001b[34mforcats  \u001b[39m 1.0.0     \u001b[32m✔\u001b[39m \u001b[34mstringr  \u001b[39m 1.5.1\n",
      "\u001b[32m✔\u001b[39m \u001b[34mggplot2  \u001b[39m 3.5.1     \u001b[32m✔\u001b[39m \u001b[34mtibble   \u001b[39m 3.2.1\n",
      "\u001b[32m✔\u001b[39m \u001b[34mlubridate\u001b[39m 1.9.4     \u001b[32m✔\u001b[39m \u001b[34mtidyr    \u001b[39m 1.3.1\n",
      "\u001b[32m✔\u001b[39m \u001b[34mpurrr    \u001b[39m 1.0.4     \n"
     ]
    },
    {
     "name": "stderr",
     "output_type": "stream",
     "text": [
      "── \u001b[1mConflicts\u001b[22m ─────────────────────────────────────────────────────────────────────────────── tidyverse_conflicts() ──\n",
      "\u001b[31m✖\u001b[39m \u001b[34mdplyr\u001b[39m::\u001b[32mfilter()\u001b[39m masks \u001b[34mstats\u001b[39m::filter()\n",
      "\u001b[31m✖\u001b[39m \u001b[34mdplyr\u001b[39m::\u001b[32mlag()\u001b[39m    masks \u001b[34mstats\u001b[39m::lag()\n",
      "\u001b[36mℹ\u001b[39m Use the conflicted package (\u001b[3m\u001b[34m<http://conflicted.r-lib.org/>\u001b[39m\u001b[23m) to force all conflicts to become errors\n"
     ]
    },
    {
     "name": "stderr",
     "output_type": "stream",
     "text": [
      "\n",
      "Attaching package: ‘janitor’\n",
      "\n",
      "\n"
     ]
    },
    {
     "name": "stderr",
     "output_type": "stream",
     "text": [
      "The following objects are masked from ‘package:stats’:\n",
      "\n",
      "    chisq.test, fisher.test\n",
      "\n",
      "\n"
     ]
    },
    {
     "name": "stderr",
     "output_type": "stream",
     "text": [
      "\n",
      "Attaching package: ‘broom.helpers’\n",
      "\n",
      "\n"
     ]
    },
    {
     "name": "stderr",
     "output_type": "stream",
     "text": [
      "The following objects are masked from ‘package:gtsummary’:\n",
      "\n",
      "    all_categorical, all_continuous, all_contrasts, all_dichotomous,\n",
      "    all_interaction, all_intercepts\n",
      "\n",
      "\n"
     ]
    }
   ],
   "source": [
    "# Install your packages (first use only)\n",
    "install.packages(\"tidyverse\")\n",
    "install.packages(\"janitor\")\n",
    "install.packages(\"gtsummary\")\n",
    "install.packages(\"broom.helpers\")\n",
    "\n",
    "# Load your packages (everytime you restart R)\n",
    "library(tidyverse)\n",
    "library(janitor)\n",
    "library(gtsummary)\n",
    "library(broom.helpers)"
   ]
  },
  {
   "cell_type": "markdown",
   "id": "cc9199be-a7d2-4964-a7a8-799df3736a70",
   "metadata": {
    "id": "cc9199be-a7d2-4964-a7a8-799df3736a70"
   },
   "source": [
    "## Load in your Data\n",
    "\n"
   ]
  },
  {
   "cell_type": "markdown",
   "id": "r1eXAaxoixKQ",
   "metadata": {
    "id": "r1eXAaxoixKQ"
   },
   "source": [
    "There are a variety of different ways to read data into R, since there are a variety of different ways to save and store data. One of the more common ways to save data is as a CSV (comma delimited file).\n",
    "\n",
    "```{tip}\n",
    "You will need to know which directory (folder) you're working in and point correctly to the file sleep.csv. See [Path Setting](pathsetting.md) for additional information.\n",
    "```"
   ]
  },
  {
   "cell_type": "code",
   "execution_count": 2,
   "id": "56252157-ede8-4117-af38-2908388b8a17",
   "metadata": {
    "id": "56252157-ede8-4117-af38-2908388b8a17"
   },
   "outputs": [
    {
     "name": "stderr",
     "output_type": "stream",
     "text": [
      "\u001b[1mRows: \u001b[22m\u001b[34m4778\u001b[39m \u001b[1mColumns: \u001b[22m\u001b[34m26\u001b[39m\n"
     ]
    },
    {
     "name": "stderr",
     "output_type": "stream",
     "text": [
      "\u001b[36m──\u001b[39m \u001b[1mColumn specification\u001b[22m \u001b[36m─────────────────────────────────────────────────────────────────────────────────────────────\u001b[39m\n",
      "\u001b[1mDelimiter:\u001b[22m \",\"\n",
      "\u001b[31mchr\u001b[39m (14): gender, race1, education, MaritalStatus, hh income, home own, work...\n",
      "\u001b[32mdbl\u001b[39m (12): ID, age, age (months), poverty, weight, height, pulse, bp_dia_ave,...\n"
     ]
    },
    {
     "name": "stderr",
     "output_type": "stream",
     "text": [
      "\n",
      "\u001b[36mℹ\u001b[39m Use `spec()` to retrieve the full column specification for this data.\n",
      "\u001b[36mℹ\u001b[39m Specify the column types or set `show_col_types = FALSE` to quiet this message.\n"
     ]
    }
   ],
   "source": [
    "# Read in your data and assign this to a dataframe called sleep\n",
    "# A dataframe is the object R uses to store data sets\n",
    "sleep <- read_csv(\"sleep.csv\")"
   ]
  },
  {
   "cell_type": "markdown",
   "id": "bcc5ee1b-c23a-4add-9bcf-e7b908460972",
   "metadata": {
    "id": "bcc5ee1b-c23a-4add-9bcf-e7b908460972"
   },
   "source": [
    "```{note}\n",
    "Notice the message R prints out. It indicates the delimiter (,), the type of each column, and the row and column count.\n",
    "```\n",
    "\n",
    "```{tip}\n",
    "R automatically saves the first row from the .csv file as column names. Ensure only the first row and first row of your data file describe the variables.\n",
    "```"
   ]
  },
  {
   "cell_type": "markdown",
   "id": "e001c5bd-eb99-4b77-a76b-09d74baa4de2",
   "metadata": {
    "id": "e001c5bd-eb99-4b77-a76b-09d74baa4de2"
   },
   "source": [
    "# Data Wrangling"
   ]
  },
  {
   "cell_type": "markdown",
   "id": "415b3990-2a50-43aa-bf71-9738cecbc49b",
   "metadata": {
    "id": "415b3990-2a50-43aa-bf71-9738cecbc49b"
   },
   "source": [
    "## Viewing your data"
   ]
  },
  {
   "cell_type": "markdown",
   "id": "61c65cda-0692-43f7-8988-8cd6e194d1a1",
   "metadata": {
    "id": "61c65cda-0692-43f7-8988-8cd6e194d1a1"
   },
   "source": [
    "It is generally **good practice** to look at your data to scan for things that might need fixing, for example:\n",
    "\n",
    "* text in numerical cells (e.g. “six” vs 6)\n",
    "* odd characters (e.g. >, <, /, etc.)\n",
    "* inconsistent Date formats (e.g 01/16/2024, 16-1-24, Jan 16 2024, etc.)\n",
    "* coded variables (e.g. 99 = Missing)\n",
    "* typos (e.g. ys, yse)\n",
    "* inconsistent capitalisation or abbreviations (e.g. Yes, Y, yes)\n",
    "* misaligned/counterintuertive variable types\n",
    "\n",
    "```{note}\n",
    "Variables types include:\n",
    "* numeric: doubles (dbl) - decimals, or integers (int) - whole numbers\n",
    "* characters (chr) - text\n",
    "* logicals (lgl) - “TRUE” or “FALSE”\n",
    "* factors (fct) - categorical data stored as integers (e.g. Strongly Agree = 5)\n",
    "```\n",
    "\n",
    "```{Caution}\n",
    "It is **bad practice** to look at your data to determine patterns or to determine what research questions you should ask and test.\n",
    "```\n",
    "\n",
    "There are a couple of different ways you can look at your data:\n"
   ]
  },
  {
   "cell_type": "code",
   "execution_count": 3,
   "id": "n4avggPAfiCi",
   "metadata": {
    "id": "n4avggPAfiCi"
   },
   "outputs": [
    {
     "name": "stdout",
     "output_type": "stream",
     "text": [
      "Rows: 4,778\n",
      "Columns: 26\n",
      "$ ID              \u001b[3m\u001b[90m<dbl>\u001b[39m\u001b[23m 54978, 62686, 60371, 59023, 53330, 67222, 61194, 69925…\n",
      "$ gender          \u001b[3m\u001b[90m<chr>\u001b[39m\u001b[23m \"Female\", \"Female\", \"Female\", \"Female\", \"Male\", \"Femal…\n",
      "$ age             \u001b[3m\u001b[90m<dbl>\u001b[39m\u001b[23m 80.15551, 80.50146, 80.82286, 80.26906, 80.69757, 80.8…\n",
      "$ `age (months)`  \u001b[3m\u001b[90m<dbl>\u001b[39m\u001b[23m 961.8661, 966.0175, 969.8743, 963.2287, 968.3709, 970.…\n",
      "$ race1           \u001b[3m\u001b[90m<chr>\u001b[39m\u001b[23m \"Black\", \"White\", \"White\", \"White\", \"White\", \"White\", …\n",
      "$ education       \u001b[3m\u001b[90m<chr>\u001b[39m\u001b[23m \"9 - 11th Grade\", \"High School\", \"Some College\", \"9 - …\n",
      "$ MaritalStatus   \u001b[3m\u001b[90m<chr>\u001b[39m\u001b[23m \"Widowed\", \"Widowed\", \"Separated\", \"Married\", \"Married…\n",
      "$ `hh income`     \u001b[3m\u001b[90m<chr>\u001b[39m\u001b[23m \"20000-24999\", \"35000-44999\", \u001b[31mNA\u001b[39m, \"15000-19999\", \"2000…\n",
      "$ poverty         \u001b[3m\u001b[90m<dbl>\u001b[39m\u001b[23m 1.07, 2.31, \u001b[31mNA\u001b[39m, 1.21, 1.37, 1.15, 0.42, 1.30, 1.29, 5.…\n",
      "$ `home own`      \u001b[3m\u001b[90m<chr>\u001b[39m\u001b[23m \"Own\", \"Own\", \"Own\", \"Own\", \"Own\", \"Own\", \"Own\", \"Own\"…\n",
      "$ work            \u001b[3m\u001b[90m<chr>\u001b[39m\u001b[23m \"NotWorking\", \"NotWorking\", \"NotWorking\", \"NotWorking\"…\n",
      "$ weight          \u001b[3m\u001b[90m<dbl>\u001b[39m\u001b[23m 120.5, 100.0, 95.9, 91.8, 113.0, 87.2, 86.5, 80.9, 81.…\n",
      "$ height          \u001b[3m\u001b[90m<dbl>\u001b[39m\u001b[23m 166.6, 160.7, 157.9, 155.9, 176.8, 156.4, 156.3, 151.3…\n",
      "$ pulse           \u001b[3m\u001b[90m<dbl>\u001b[39m\u001b[23m 62, 82, 60, 80, 64, 92, 90, 62, 56, 60, 70, 72, 66, 60…\n",
      "$ bp_dia_ave      \u001b[3m\u001b[90m<dbl>\u001b[39m\u001b[23m 61, 74, 28, 61, 78, 71, 51, 62, 59, 57, 67, 87, 40, 56…\n",
      "$ bp_sys_ave      \u001b[3m\u001b[90m<dbl>\u001b[39m\u001b[23m 127, 156, 150, 130, 156, 126, 119, 136, 143, 168, 136,…\n",
      "$ diabetes        \u001b[3m\u001b[90m<chr>\u001b[39m\u001b[23m \"Yes\", \"Yes\", \"Yes\", \"No\", \"No\", \"No\", \"No\", \"No\", \"No…\n",
      "$ n_pregnancies   \u001b[3m\u001b[90m<dbl>\u001b[39m\u001b[23m 9, 2, 5, 2, \u001b[31mNA\u001b[39m, 1, \u001b[31mNA\u001b[39m, \u001b[31mNA\u001b[39m, 10, \u001b[31mNA\u001b[39m, \u001b[31mNA\u001b[39m, \u001b[31mNA\u001b[39m, 3, \u001b[31mNA\u001b[39m, \u001b[31mNA\u001b[39m, …\n",
      "$ sleep_hrs_night \u001b[3m\u001b[90m<dbl>\u001b[39m\u001b[23m 7.156727, 6.199555, 9.941897, 7.892662, 5.752325, 8.55…\n",
      "$ sleep_trouble   \u001b[3m\u001b[90m<chr>\u001b[39m\u001b[23m \"No\", \"No\", \"No\", \"No\", \"No\", \"Yes\", \"No\", \"No\", \"No\",…\n",
      "$ phys_active     \u001b[3m\u001b[90m<chr>\u001b[39m\u001b[23m \"No\", \"No\", \"No\", \"No\", \"No\", \"No\", \"No\", \"No\", \"No\", …\n",
      "$ smoke_now       \u001b[3m\u001b[90m<chr>\u001b[39m\u001b[23m \"No\", \"No\", \"No\", \"Yes\", \"No\", \"No\", \"No\", \"No\", \"No\",…\n",
      "$ alcohol_day     \u001b[3m\u001b[90m<chr>\u001b[39m\u001b[23m \"3\", \"2\", \"4\", \"1\", \"1\", \"1\", \"1\", \"2\", \"1\", \"2\", \"2\",…\n",
      "$ regular_marij   \u001b[3m\u001b[90m<chr>\u001b[39m\u001b[23m \"No\", \"No\", \"No\", \"No\", \"Yes\", \"Yes\", \"No\", \"Yes\", \"Ye…\n",
      "$ hypertension    \u001b[3m\u001b[90m<chr>\u001b[39m\u001b[23m \"No Hypertension\", \"No Hypertension\", \"No Hypertension…\n",
      "$ BMI             \u001b[3m\u001b[90m<dbl>\u001b[39m\u001b[23m 43.41, 38.70, 38.46, 37.77, 36.15, 35.60, 35.41, 35.30…\n"
     ]
    }
   ],
   "source": [
    "# glimpse provides information on each column, it's name, type and the first few entries:\n",
    "glimpse(sleep)"
   ]
  },
  {
   "cell_type": "code",
   "execution_count": 4,
   "id": "HtdGx982gimB",
   "metadata": {
    "id": "HtdGx982gimB"
   },
   "outputs": [],
   "source": [
    "# head (tail) shows the first (last) n rows:\n",
    "# head(sleep, n=2)\n",
    "# tail(sleep, n=3)"
   ]
  },
  {
   "cell_type": "code",
   "execution_count": 5,
   "id": "ha5O0dOvMxMl",
   "metadata": {
    "id": "ha5O0dOvMxMl"
   },
   "outputs": [],
   "source": [
    "# View will open the whole dataframe\n",
    "# We will comment this out here to save space\n",
    "# View(sleep) # alternatively in RStudio click on sleep in the environment panel"
   ]
  },
  {
   "cell_type": "markdown",
   "id": "HZnFB_aGhNPM",
   "metadata": {
    "id": "HZnFB_aGhNPM"
   },
   "source": [
    "## Data Cleaning and Preparation"
   ]
  },
  {
   "cell_type": "markdown",
   "id": "nk070xd3iBvP",
   "metadata": {
    "id": "nk070xd3iBvP"
   },
   "source": [
    "### Cleaning column names"
   ]
  },
  {
   "cell_type": "markdown",
   "id": "35fca2f4-2c18-42b6-899d-d80c03f8acd0",
   "metadata": {
    "id": "35fca2f4-2c18-42b6-899d-d80c03f8acd0"
   },
   "source": [
    "A good first step is to clean column names, in case there are any odd symbols or mixed cases. The quickest way to do this is with the clean_names function from the `janitor` package."
   ]
  },
  {
   "cell_type": "code",
   "execution_count": 6,
   "id": "c31648a2-1f2b-44da-b86e-aa296a414b9b",
   "metadata": {
    "id": "c31648a2-1f2b-44da-b86e-aa296a414b9b"
   },
   "outputs": [
    {
     "name": "stdout",
     "output_type": "stream",
     "text": [
      "Rows: 4,778\n",
      "Columns: 26\n",
      "$ id              \u001b[3m\u001b[90m<dbl>\u001b[39m\u001b[23m 54978, 62686, 60371, 59023, 53330, 67222, 61194, 69925…\n",
      "$ gender          \u001b[3m\u001b[90m<chr>\u001b[39m\u001b[23m \"Female\", \"Female\", \"Female\", \"Female\", \"Male\", \"Femal…\n",
      "$ age             \u001b[3m\u001b[90m<dbl>\u001b[39m\u001b[23m 80.15551, 80.50146, 80.82286, 80.26906, 80.69757, 80.8…\n",
      "$ age_months      \u001b[3m\u001b[90m<dbl>\u001b[39m\u001b[23m 961.8661, 966.0175, 969.8743, 963.2287, 968.3709, 970.…\n",
      "$ race1           \u001b[3m\u001b[90m<chr>\u001b[39m\u001b[23m \"Black\", \"White\", \"White\", \"White\", \"White\", \"White\", …\n",
      "$ education       \u001b[3m\u001b[90m<chr>\u001b[39m\u001b[23m \"9 - 11th Grade\", \"High School\", \"Some College\", \"9 - …\n",
      "$ marital_status  \u001b[3m\u001b[90m<chr>\u001b[39m\u001b[23m \"Widowed\", \"Widowed\", \"Separated\", \"Married\", \"Married…\n",
      "$ hh_income       \u001b[3m\u001b[90m<chr>\u001b[39m\u001b[23m \"20000-24999\", \"35000-44999\", \u001b[31mNA\u001b[39m, \"15000-19999\", \"2000…\n",
      "$ poverty         \u001b[3m\u001b[90m<dbl>\u001b[39m\u001b[23m 1.07, 2.31, \u001b[31mNA\u001b[39m, 1.21, 1.37, 1.15, 0.42, 1.30, 1.29, 5.…\n",
      "$ home_own        \u001b[3m\u001b[90m<chr>\u001b[39m\u001b[23m \"Own\", \"Own\", \"Own\", \"Own\", \"Own\", \"Own\", \"Own\", \"Own\"…\n",
      "$ work            \u001b[3m\u001b[90m<chr>\u001b[39m\u001b[23m \"NotWorking\", \"NotWorking\", \"NotWorking\", \"NotWorking\"…\n",
      "$ weight          \u001b[3m\u001b[90m<dbl>\u001b[39m\u001b[23m 120.5, 100.0, 95.9, 91.8, 113.0, 87.2, 86.5, 80.9, 81.…\n",
      "$ height          \u001b[3m\u001b[90m<dbl>\u001b[39m\u001b[23m 166.6, 160.7, 157.9, 155.9, 176.8, 156.4, 156.3, 151.3…\n",
      "$ pulse           \u001b[3m\u001b[90m<dbl>\u001b[39m\u001b[23m 62, 82, 60, 80, 64, 92, 90, 62, 56, 60, 70, 72, 66, 60…\n",
      "$ bp_dia_ave      \u001b[3m\u001b[90m<dbl>\u001b[39m\u001b[23m 61, 74, 28, 61, 78, 71, 51, 62, 59, 57, 67, 87, 40, 56…\n",
      "$ bp_sys_ave      \u001b[3m\u001b[90m<dbl>\u001b[39m\u001b[23m 127, 156, 150, 130, 156, 126, 119, 136, 143, 168, 136,…\n",
      "$ diabetes        \u001b[3m\u001b[90m<chr>\u001b[39m\u001b[23m \"Yes\", \"Yes\", \"Yes\", \"No\", \"No\", \"No\", \"No\", \"No\", \"No…\n",
      "$ n_pregnancies   \u001b[3m\u001b[90m<dbl>\u001b[39m\u001b[23m 9, 2, 5, 2, \u001b[31mNA\u001b[39m, 1, \u001b[31mNA\u001b[39m, \u001b[31mNA\u001b[39m, 10, \u001b[31mNA\u001b[39m, \u001b[31mNA\u001b[39m, \u001b[31mNA\u001b[39m, 3, \u001b[31mNA\u001b[39m, \u001b[31mNA\u001b[39m, …\n",
      "$ sleep_hrs_night \u001b[3m\u001b[90m<dbl>\u001b[39m\u001b[23m 7.156727, 6.199555, 9.941897, 7.892662, 5.752325, 8.55…\n",
      "$ sleep_trouble   \u001b[3m\u001b[90m<chr>\u001b[39m\u001b[23m \"No\", \"No\", \"No\", \"No\", \"No\", \"Yes\", \"No\", \"No\", \"No\",…\n",
      "$ phys_active     \u001b[3m\u001b[90m<chr>\u001b[39m\u001b[23m \"No\", \"No\", \"No\", \"No\", \"No\", \"No\", \"No\", \"No\", \"No\", …\n",
      "$ smoke_now       \u001b[3m\u001b[90m<chr>\u001b[39m\u001b[23m \"No\", \"No\", \"No\", \"Yes\", \"No\", \"No\", \"No\", \"No\", \"No\",…\n",
      "$ alcohol_day     \u001b[3m\u001b[90m<chr>\u001b[39m\u001b[23m \"3\", \"2\", \"4\", \"1\", \"1\", \"1\", \"1\", \"2\", \"1\", \"2\", \"2\",…\n",
      "$ regular_marij   \u001b[3m\u001b[90m<chr>\u001b[39m\u001b[23m \"No\", \"No\", \"No\", \"No\", \"Yes\", \"Yes\", \"No\", \"Yes\", \"Ye…\n",
      "$ hypertension    \u001b[3m\u001b[90m<chr>\u001b[39m\u001b[23m \"No Hypertension\", \"No Hypertension\", \"No Hypertension…\n",
      "$ bmi             \u001b[3m\u001b[90m<dbl>\u001b[39m\u001b[23m 43.41, 38.70, 38.46, 37.77, 36.15, 35.60, 35.41, 35.30…\n"
     ]
    }
   ],
   "source": [
    "# fix column names reassigning this to the dataframe sleep\n",
    "sleep <- clean_names(sleep)\n",
    "\n",
    "# glimpse the dataframe to see the changes that have been made\n",
    "glimpse(sleep)"
   ]
  },
  {
   "cell_type": "markdown",
   "id": "LIFCZsGciIXV",
   "metadata": {
    "id": "LIFCZsGciIXV"
   },
   "source": [
    "### Trimming the data"
   ]
  },
  {
   "cell_type": "markdown",
   "id": "G84TcL9NhxL8",
   "metadata": {
    "id": "G84TcL9NhxL8"
   },
   "source": [
    "It is often practical to trim your data set down to only the\n",
    "necessary columns (variables). We can easily do this using the `select` function. We will keep the variables mentioned in the [Scenario](#scenario). We will also keep the gender variable `[gender]` too as there may be interesting sex-stratified differences in the data. It is also important to keep the identifier `[id]` for each data entry.\n",
    "\n",
    "```{tip}\n",
    "It is best practise to preserve the original dataframe so when we trim we assign this to a new dataframe.\n",
    "```"
   ]
  },
  {
   "cell_type": "code",
   "execution_count": 7,
   "id": "d0efd14a-cb31-49c9-8f54-d4dbab0d0dd3",
   "metadata": {
    "id": "d0efd14a-cb31-49c9-8f54-d4dbab0d0dd3"
   },
   "outputs": [
    {
     "name": "stdout",
     "output_type": "stream",
     "text": [
      "Rows: 4,778\n",
      "Columns: 10\n",
      "$ id              \u001b[3m\u001b[90m<dbl>\u001b[39m\u001b[23m 54978, 62686, 60371, 59023, 53330, 67222, 61194, 69925…\n",
      "$ gender          \u001b[3m\u001b[90m<chr>\u001b[39m\u001b[23m \"Female\", \"Female\", \"Female\", \"Female\", \"Male\", \"Femal…\n",
      "$ age             \u001b[3m\u001b[90m<dbl>\u001b[39m\u001b[23m 80.15551, 80.50146, 80.82286, 80.26906, 80.69757, 80.8…\n",
      "$ hypertension    \u001b[3m\u001b[90m<chr>\u001b[39m\u001b[23m \"No Hypertension\", \"No Hypertension\", \"No Hypertension…\n",
      "$ sleep_hrs_night \u001b[3m\u001b[90m<dbl>\u001b[39m\u001b[23m 7.156727, 6.199555, 9.941897, 7.892662, 5.752325, 8.55…\n",
      "$ phys_active     \u001b[3m\u001b[90m<chr>\u001b[39m\u001b[23m \"No\", \"No\", \"No\", \"No\", \"No\", \"No\", \"No\", \"No\", \"No\", …\n",
      "$ smoke_now       \u001b[3m\u001b[90m<chr>\u001b[39m\u001b[23m \"No\", \"No\", \"No\", \"Yes\", \"No\", \"No\", \"No\", \"No\", \"No\",…\n",
      "$ alcohol_day     \u001b[3m\u001b[90m<chr>\u001b[39m\u001b[23m \"3\", \"2\", \"4\", \"1\", \"1\", \"1\", \"1\", \"2\", \"1\", \"2\", \"2\",…\n",
      "$ regular_marij   \u001b[3m\u001b[90m<chr>\u001b[39m\u001b[23m \"No\", \"No\", \"No\", \"No\", \"Yes\", \"Yes\", \"No\", \"Yes\", \"Ye…\n",
      "$ bmi             \u001b[3m\u001b[90m<dbl>\u001b[39m\u001b[23m 43.41, 38.70, 38.46, 37.77, 36.15, 35.60, 35.41, 35.30…\n"
     ]
    }
   ],
   "source": [
    "# trim sleep to select columns only and assign this to a new dataframe sleep_trim\n",
    "sleep_trim <- sleep %>%\n",
    "  select(id,\n",
    "    gender,\n",
    "    age,\n",
    "    hypertension,\n",
    "    sleep_hrs_night,\n",
    "    phys_active,\n",
    "    smoke_now,\n",
    "    alcohol_day,\n",
    "    regular_marij,\n",
    "    bmi)\n",
    "\n",
    "# glimpse the new dataframe\n",
    "glimpse(sleep_trim)"
   ]
  },
  {
   "cell_type": "markdown",
   "id": "j4rN8mEtla8q",
   "metadata": {
    "id": "j4rN8mEtla8q"
   },
   "source": [
    "### Filtering the data"
   ]
  },
  {
   "cell_type": "markdown",
   "id": "VNenkbChOKdU",
   "metadata": {
    "id": "VNenkbChOKdU"
   },
   "source": [
    "We also want to filter the data down to our cohort of interest. In this case, we are interested in adults 40\n",
    "years or older. We can use the `filter` function to remove participants who are younger than 40 from our data set, or rather only keep participants who are onlder than 40.\n",
    "\n",
    "```{warning}\n",
    "It would be a good idea check a numerical summary of the age variable to make sure there are no extreme or impossible values before we filter\n",
    "```"
   ]
  },
  {
   "cell_type": "code",
   "execution_count": 8,
   "id": "R2w2E-1qOZph",
   "metadata": {
    "id": "R2w2E-1qOZph"
   },
   "outputs": [
    {
     "data": {
      "text/plain": [
       "   Min. 1st Qu.  Median    Mean 3rd Qu.    Max. \n",
       "  16.00   29.91   44.24   45.64   60.05   80.99 "
      ]
     },
     "metadata": {},
     "output_type": "display_data"
    }
   ],
   "source": [
    "# generate a summary of the age variable belonging to the sleep_trim dataframe\n",
    "summary(sleep_trim$age)"
   ]
  },
  {
   "cell_type": "markdown",
   "id": "FW8mID1ErysH",
   "metadata": {
    "id": "FW8mID1ErysH"
   },
   "source": [
    "This looks reasonbale and so we can proceed to filter."
   ]
  },
  {
   "cell_type": "code",
   "execution_count": 9,
   "id": "KkuLp2GmPRKZ",
   "metadata": {
    "id": "KkuLp2GmPRKZ"
   },
   "outputs": [
    {
     "name": "stdout",
     "output_type": "stream",
     "text": [
      "The minimum age of our data set is: 40.00887 \n"
     ]
    }
   ],
   "source": [
    "# filter sleep_trim to select entries we want to keep assigned to a new dataframe\n",
    "sleep_40 <- sleep_trim %>%\n",
    "filter(age >= 40) #only those rows with age>=40\n",
    "\n",
    "# add a check that the filter worked\n",
    "cat(\"The minimum age of our data set is:\", min(sleep_40$age), \"\\n\")"
   ]
  },
  {
   "cell_type": "markdown",
   "id": "dFAOa_Bjqbpv",
   "metadata": {
    "id": "dFAOa_Bjqbpv"
   },
   "source": [
    "```{tip}\n",
    "Print statements are a valuable tool when coding (in R or otherwise). Here we make use of the `cat` function so it is clear what the R output is telling us.\n",
    "```"
   ]
  },
  {
   "cell_type": "markdown",
   "id": "fVs7DTVCQOHT",
   "metadata": {
    "id": "fVs7DTVCQOHT"
   },
   "source": [
    "### Variable checking"
   ]
  },
  {
   "cell_type": "markdown",
   "id": "Ksan6dIGQS7C",
   "metadata": {
    "id": "Ksan6dIGQS7C"
   },
   "source": [
    "We will go through each of our variables in turn and check for required fixes.\n",
    "\n",
    "```{tip}\n",
    "As a rule of thumb:\n",
    "* if we are checking a continuous variable we can use `summary` which tells you about the distribution of values for that variable.\n",
    "* if we are checking a discrete or catergorical variable we can use the `table` function which tabulates counts of each response.\n",
    "```"
   ]
  },
  {
   "cell_type": "markdown",
   "id": "gptCvJ4As_G9",
   "metadata": {
    "id": "gptCvJ4As_G9"
   },
   "source": [
    "We will first consider our exposure variable, in this case, the number of hours a participant sleeps each night `[sleep_hrs_night]`. This is a continuous variable so we will check to see if the summary values look reasonable."
   ]
  },
  {
   "cell_type": "code",
   "execution_count": 10,
   "id": "O_1YHF_PQwgf",
   "metadata": {
    "id": "O_1YHF_PQwgf"
   },
   "outputs": [
    {
     "data": {
      "text/plain": [
       "   Min. 1st Qu.  Median    Mean 3rd Qu.    Max. \n",
       "  4.003   6.364   7.288   7.323   8.445   9.998 "
      ]
     },
     "metadata": {},
     "output_type": "display_data"
    }
   ],
   "source": [
    "# generate a summary of sleep_hrs_night variable\n",
    "summary(sleep_40$sleep_hrs_night)"
   ]
  },
  {
   "cell_type": "markdown",
   "id": "p6XdAKSAQ_5x",
   "metadata": {
    "id": "p6XdAKSAQ_5x"
   },
   "source": [
    "```{tip}\n",
    "Although the values look reasonable, 4 hours is not a lot of sleep. In practice, it might be worth checking with the data provider to make sure that there is not a typo somewhere.\n",
    "```"
   ]
  },
  {
   "cell_type": "markdown",
   "id": "Hwiu2EpvsGwg",
   "metadata": {
    "id": "Hwiu2EpvsGwg"
   },
   "source": [
    "Next we will check our outcome variable, in this case whether a participant has hypertension or not `[hypertension]`. This is a catergorical variable so we can tabulate the responses."
   ]
  },
  {
   "cell_type": "code",
   "execution_count": 11,
   "id": "gLK_7bResdWA",
   "metadata": {
    "id": "gLK_7bResdWA"
   },
   "outputs": [
    {
     "data": {
      "text/plain": [
       "\n",
       "   Hypertension No Hypertension \n",
       "           1033            1701 "
      ]
     },
     "metadata": {},
     "output_type": "display_data"
    }
   ],
   "source": [
    "# create a table of values for hypertension\n",
    "table(sleep_40$hypertension)"
   ]
  },
  {
   "cell_type": "markdown",
   "id": "QbZfATQxvR0z",
   "metadata": {
    "id": "QbZfATQxvR0z"
   },
   "source": [
    "This is good there are two possible responses as we would expect."
   ]
  },
  {
   "cell_type": "markdown",
   "id": "bfKMtBHNR6Gr",
   "metadata": {
    "id": "bfKMtBHNR6Gr"
   },
   "source": [
    "Now let's fix the `[alcohol_day]` variable, which we saw earlier was classed a character variable. We will tabulate the variable to see what is going on."
   ]
  },
  {
   "cell_type": "code",
   "execution_count": 12,
   "id": "DrZGW0NQShnT",
   "metadata": {
    "id": "DrZGW0NQShnT"
   },
   "outputs": [
    {
     "data": {
      "text/plain": [
       "\n",
       "    1    10    12    13    14    15    16    17    18     2    20    21    24 \n",
       " 1007    21    40     1     1     7     1     2     1   734     3     2     1 \n",
       "    3    30     4     5     6     7     8     9   one   One   six  thre three \n",
       "  355     1   212   110   133    24    33     4    13     9     2     1    10 \n",
       "Three \n",
       "    6 "
      ]
     },
     "metadata": {},
     "output_type": "display_data"
    }
   ],
   "source": [
    "# create a table of values for alcohol_day\n",
    "table(sleep_40$alcohol_day)"
   ]
  },
  {
   "cell_type": "markdown",
   "id": "MgX-iAxipdz2",
   "metadata": {
    "id": "MgX-iAxipdz2"
   },
   "source": [
    "We can see each response (e.g 1 drink a day) is listed with the respective count (e.g. 1007 have 1 drink a day). We notice that some values were written as text. We need to replace the values written as text and reclassify the variable as numeric.\n",
    "\n",
    "```{tip}\n",
    "Since best practice is to maintain the original data we will create a new variable using the `mutate` function.\n",
    "```"
   ]
  },
  {
   "cell_type": "code",
   "execution_count": 13,
   "id": "7PNYSXpiqbpB",
   "metadata": {
    "id": "7PNYSXpiqbpB"
   },
   "outputs": [
    {
     "name": "stderr",
     "output_type": "stream",
     "text": [
      "Warning message:\n",
      "“\u001b[1m\u001b[22mThere was 1 warning in `mutate()`.\n",
      "\u001b[1m\u001b[22m\u001b[36mℹ\u001b[39m In argument: `alcohol_day_num = case_when(...)`.\n",
      "Caused by warning:\n",
      "\u001b[33m!\u001b[39m NAs introduced by coercion”\n"
     ]
    }
   ],
   "source": [
    "# create a numeric alcohol drink count variable called alcohol_day_num\n",
    "sleep_40 <- sleep_40 %>%\n",
    "mutate(alcohol_day_num = case_when(alcohol_day == \"one\" ~ 1, # if alcohol_day is one replace with 1\n",
    "                                   alcohol_day == \"One\" ~ 1,\n",
    "                                   alcohol_day == \"three\" ~ 3,\n",
    "                                   alcohol_day == \"Three\" ~ 3,\n",
    "                                   alcohol_day == \"thre\" ~ 3,\n",
    "                                   alcohol_day == \"Six\" ~ 6,\n",
    "                                   TRUE ~ as.numeric(alcohol_day)))"
   ]
  },
  {
   "cell_type": "markdown",
   "id": "uJswdqicsvhI",
   "metadata": {
    "id": "uJswdqicsvhI"
   },
   "source": [
    "```{warning}\n",
    "R warns us that since we classified `[alcohol_day_num]` as a numeric variable any remaining text values will be replaced with missing values (NA) so we should check to see if we missed anything by tabulating this new variable.\n",
    "```"
   ]
  },
  {
   "cell_type": "markdown",
   "id": "l1E89zvRr00R",
   "metadata": {
    "id": "l1E89zvRr00R"
   },
   "source": [
    "A slightly tidier version of this code makes use of the `%in%` and `c()` functions"
   ]
  },
  {
   "cell_type": "code",
   "execution_count": 14,
   "id": "pO4luR71sKin",
   "metadata": {
    "id": "pO4luR71sKin"
   },
   "outputs": [
    {
     "name": "stderr",
     "output_type": "stream",
     "text": [
      "Warning message:\n",
      "“\u001b[1m\u001b[22mThere was 1 warning in `mutate()`.\n",
      "\u001b[1m\u001b[22m\u001b[36mℹ\u001b[39m In argument: `alcohol_day_num = case_when(...)`.\n",
      "Caused by warning:\n",
      "\u001b[33m!\u001b[39m NAs introduced by coercion”\n"
     ]
    }
   ],
   "source": [
    "# create a numeric alcohol drink count variable called alcohol_day_num\n",
    "sleep_40 <- sleep_40 %>%\n",
    "mutate(alcohol_day_num = case_when(alcohol_day %in% c(\"one\", \"One\") ~ 1, #replace one or One with 1\n",
    "                                   alcohol_day %in% c(\"three\", \"Three\", \"thre\") ~ 3,\n",
    "                                   alcohol_day == \"six\" ~ 6,\n",
    "                                   TRUE ~ as.numeric(alcohol_day)))"
   ]
  },
  {
   "cell_type": "code",
   "execution_count": 15,
   "id": "yLYN67uDtqpx",
   "metadata": {
    "id": "yLYN67uDtqpx"
   },
   "outputs": [
    {
     "data": {
      "text/plain": [
       "\n",
       "   1    2    3    4    5    6    7    8    9   10   12   13   14   15   16   17 \n",
       "1029  734  372  212  110  135   24   33    4   21   40    1    1    7    1    2 \n",
       "  18   20   21   24   30 \n",
       "   1    3    2    1    1 "
      ]
     },
     "metadata": {},
     "output_type": "display_data"
    },
    {
     "name": "stdout",
     "output_type": "stream",
     "text": [
      "alcohol_day_num is of type: numeric \n"
     ]
    }
   ],
   "source": [
    "# create a table of values for alcohol_day_num\n",
    "table(sleep_40$alcohol_day_num)\n",
    "\n",
    "# check the class of alcohol_day_num\n",
    "cat(\"alcohol_day_num is of type:\", class(sleep_40$alcohol_day_num), \"\\n\")"
   ]
  },
  {
   "cell_type": "markdown",
   "id": "1IaW1xgYubSt",
   "metadata": {
    "id": "1IaW1xgYubSt"
   },
   "source": [
    "```{tip}\n",
    "It would be a good idea to check the counts of `[alcohol_day_num]` correctly align with those from `[alcohol_day]`\n",
    "```"
   ]
  },
  {
   "cell_type": "markdown",
   "id": "quLW8qRkviRK",
   "metadata": {
    "id": "quLW8qRkviRK"
   },
   "source": [
    "Now let us check the remaining variables"
   ]
  },
  {
   "cell_type": "code",
   "execution_count": 16,
   "id": "7T7gKTnHvneP",
   "metadata": {
    "id": "7T7gKTnHvneP"
   },
   "outputs": [
    {
     "data": {
      "text/plain": [
       "\n",
       "  No  Yes \n",
       "1895  839 "
      ]
     },
     "metadata": {},
     "output_type": "display_data"
    }
   ],
   "source": [
    "# check marijuana indicator variable\n",
    "table(sleep_40$regular_marij)"
   ]
  },
  {
   "cell_type": "code",
   "execution_count": 17,
   "id": "iWB6_0OuvrAh",
   "metadata": {
    "id": "iWB6_0OuvrAh"
   },
   "outputs": [
    {
     "data": {
      "text/plain": [
       "\n",
       "  No  Yes \n",
       "1555 1179 "
      ]
     },
     "metadata": {},
     "output_type": "display_data"
    }
   ],
   "source": [
    "# check smoker indicator variable\n",
    "table(sleep_40$smoke_now)"
   ]
  },
  {
   "cell_type": "code",
   "execution_count": 18,
   "id": "xqxy95-kvyj5",
   "metadata": {
    "id": "xqxy95-kvyj5"
   },
   "outputs": [
    {
     "data": {
      "text/plain": [
       "\n",
       "  No  Yes \n",
       "1501 1233 "
      ]
     },
     "metadata": {},
     "output_type": "display_data"
    }
   ],
   "source": [
    "# check physical activity indicator variable\n",
    "table(sleep_40$phys_active)"
   ]
  },
  {
   "cell_type": "markdown",
   "id": "PS_g6883v7C4",
   "metadata": {
    "id": "PS_g6883v7C4"
   },
   "source": [
    "All three of these variables are binary variables with only yes and no responses (with no typos!).\n",
    "\n",
    "```{note}\n",
    "Such data could equally be stored as a logical variable where for example, `smoke_now==True` was equivalent to `smoke_now==Yes`.\n",
    "```"
   ]
  },
  {
   "cell_type": "markdown",
   "id": "jo6X9YrkxBQ8",
   "metadata": {
    "id": "jo6X9YrkxBQ8"
   },
   "source": [
    "Moving onto the `[bmi]` data. As this data is likely to take continuous rather than discrete values we would use the `summary` function rather than tabulating all values."
   ]
  },
  {
   "cell_type": "code",
   "execution_count": 19,
   "id": "LQHoGlG9wviV",
   "metadata": {
    "id": "LQHoGlG9wviV"
   },
   "outputs": [
    {
     "data": {
      "text/plain": [
       "   Min. 1st Qu.  Median    Mean 3rd Qu.    Max. \n",
       "  15.02   24.84   28.20   29.19   32.47   81.25 "
      ]
     },
     "metadata": {},
     "output_type": "display_data"
    }
   ],
   "source": [
    "# generate a summary of bmi variable\n",
    "summary(sleep_40$bmi)"
   ]
  },
  {
   "cell_type": "markdown",
   "id": "VMge7zj5zWyd",
   "metadata": {
    "id": "VMge7zj5zWyd"
   },
   "source": [
    "This seems reasonable, but the [Scenario](#scenario) listed BMI groups (e.g. underweight, healthy, overweight, obese) rather than the BMI. Let us create a new bmi variable to aggregate participants into their BMI group."
   ]
  },
  {
   "cell_type": "code",
   "execution_count": 20,
   "id": "2Nv9vZLoz6Lk",
   "metadata": {
    "id": "2Nv9vZLoz6Lk"
   },
   "outputs": [],
   "source": [
    "# create a discrete BMI variable called bmi_group\n",
    "sleep_40 <- sleep_40 %>%\n",
    "mutate(bmi_group = case_when(bmi < 18.5 ~ \"Underweight\",\n",
    "                             bmi >= 18.5 & bmi < 25 ~ \"Healthy\",\n",
    "                             bmi >= 25 & bmi < 30 ~ \"Overweight\",\n",
    "                             bmi >= 30 ~ \"Obese\",\n",
    "                             TRUE ~ NA)) # any values that are not captured by the conditions are set as missing"
   ]
  },
  {
   "cell_type": "markdown",
   "id": "Z9fNpbej0gS8",
   "metadata": {
    "id": "Z9fNpbej0gS8"
   },
   "source": [
    "Now that we have a discrete variable `[bmi_group]` we can check this using the `table` function and check we don't have any missing values."
   ]
  },
  {
   "cell_type": "code",
   "execution_count": 21,
   "id": "lq5mq4fd0uLz",
   "metadata": {
    "id": "lq5mq4fd0uLz"
   },
   "outputs": [
    {
     "data": {
      "text/plain": [
       "\n",
       "    Healthy       Obese  Overweight Underweight \n",
       "        670        1029         999          36 "
      ]
     },
     "metadata": {},
     "output_type": "display_data"
    }
   ],
   "source": [
    "# create a table of values for bmi_group\n",
    "table(sleep_40$bmi_group)"
   ]
  },
  {
   "cell_type": "markdown",
   "id": "-idos55p1Qif",
   "metadata": {
    "id": "-idos55p1Qif"
   },
   "source": [
    "We can also check that we got our groupings correct. The following lines of code show that our minimum and maximum values all line up with the correct BMI groupings.\n",
    "\n"
   ]
  },
  {
   "cell_type": "code",
   "execution_count": 22,
   "id": "pzFlPPuG05sV",
   "metadata": {
    "id": "pzFlPPuG05sV"
   },
   "outputs": [
    {
     "data": {
      "text/html": [
       "<table class=\"dataframe\">\n",
       "<caption>A tibble: 4 × 3</caption>\n",
       "<thead>\n",
       "\t<tr><th scope=col>bmi_group</th><th scope=col>min_bmi</th><th scope=col>max_bmi</th></tr>\n",
       "\t<tr><th scope=col>&lt;chr&gt;</th><th scope=col>&lt;dbl&gt;</th><th scope=col>&lt;dbl&gt;</th></tr>\n",
       "</thead>\n",
       "<tbody>\n",
       "\t<tr><td>Underweight</td><td>15.02</td><td>18.44</td></tr>\n",
       "\t<tr><td>Healthy    </td><td>18.50</td><td>24.99</td></tr>\n",
       "\t<tr><td>Overweight </td><td>25.00</td><td>29.96</td></tr>\n",
       "\t<tr><td>Obese      </td><td>30.00</td><td>81.25</td></tr>\n",
       "</tbody>\n",
       "</table>\n"
      ],
      "text/latex": [
       "A tibble: 4 × 3\n",
       "\\begin{tabular}{lll}\n",
       " bmi\\_group & min\\_bmi & max\\_bmi\\\\\n",
       " <chr> & <dbl> & <dbl>\\\\\n",
       "\\hline\n",
       "\t Underweight & 15.02 & 18.44\\\\\n",
       "\t Healthy     & 18.50 & 24.99\\\\\n",
       "\t Overweight  & 25.00 & 29.96\\\\\n",
       "\t Obese       & 30.00 & 81.25\\\\\n",
       "\\end{tabular}\n"
      ],
      "text/markdown": [
       "\n",
       "A tibble: 4 × 3\n",
       "\n",
       "| bmi_group &lt;chr&gt; | min_bmi &lt;dbl&gt; | max_bmi &lt;dbl&gt; |\n",
       "|---|---|---|\n",
       "| Underweight | 15.02 | 18.44 |\n",
       "| Healthy     | 18.50 | 24.99 |\n",
       "| Overweight  | 25.00 | 29.96 |\n",
       "| Obese       | 30.00 | 81.25 |\n",
       "\n"
      ],
      "text/plain": [
       "  bmi_group   min_bmi max_bmi\n",
       "1 Underweight 15.02   18.44  \n",
       "2 Healthy     18.50   24.99  \n",
       "3 Overweight  25.00   29.96  \n",
       "4 Obese       30.00   81.25  "
      ]
     },
     "metadata": {},
     "output_type": "display_data"
    }
   ],
   "source": [
    "sleep_40 %>%\n",
    "group_by(bmi_group) %>%\n",
    "summarise(min_bmi = min(bmi),\n",
    "          max_bmi = max(bmi)) %>%\n",
    "            arrange(min_bmi) # arrange in ascending min_bmi order (default alphabetical)"
   ]
  },
  {
   "cell_type": "markdown",
   "id": "uojcM9VXdn5y",
   "metadata": {
    "id": "uojcM9VXdn5y"
   },
   "source": [
    "# Visualisations"
   ]
  },
  {
   "cell_type": "markdown",
   "id": "9Zj5xN6RdxPe",
   "metadata": {
    "id": "9Zj5xN6RdxPe"
   },
   "source": [
    "Now that the data is cleaned and ready to go we can start creating our data summaries and visuals."
   ]
  },
  {
   "cell_type": "markdown",
   "id": "rDxXHA8zd1vK",
   "metadata": {
    "id": "rDxXHA8zd1vK"
   },
   "source": [
    "## Tables"
   ]
  },
  {
   "cell_type": "markdown",
   "id": "xXSVIXIWd3kP",
   "metadata": {
    "id": "xXSVIXIWd3kP"
   },
   "source": [
    "Let’s create a table for the research project. A table should include all the variables of interest in the study and thus, describes the sample.\n",
    "We will use the `select` function to pick the variables to include in the table and the `tbl_summary` function from the `gtsummary` package to create the table.\n",
    "\n",
    "\n",
    "```{tip}\n",
    "It is not uncommon to miss something in the initial data cleaning, so carefully examine all the tables and graphs you make. If you do notice some data cleaning step that you missed, it’s a good idea to add the missed step to the original data cleaningcode, if possible, to keep your code organised.\n",
    "```"
   ]
  },
  {
   "cell_type": "code",
   "execution_count": 23,
   "id": "w9etrzeXeYDn",
   "metadata": {
    "id": "w9etrzeXeYDn"
   },
   "outputs": [
    {
     "ename": "ERROR",
     "evalue": "Error in display_html(., tbl_summary(missing_text = \"(Missing)\", label = list(gender ~ : could not find function \"display_html\"\n",
     "output_type": "error",
     "traceback": [
      "Error in display_html(., tbl_summary(missing_text = \"(Missing)\", label = list(gender ~ : could not find function \"display_html\"\nTraceback:\n",
      "1. .handleSimpleError(function (cnd) \n . {\n .     watcher$capture_plot_and_output()\n .     cnd <- sanitize_call(cnd)\n .     watcher$push(cnd)\n .     switch(on_error, continue = invokeRestart(\"eval_continue\"), \n .         stop = invokeRestart(\"eval_stop\"), error = NULL)\n . }, \"could not find function \\\"display_html\\\"\", base::quote(display_html(., \n .     tbl_summary(missing_text = \"(Missing)\", label = list(gender ~ \n .         \"Gender\", age ~ \"Age\", phys_active ~ \"Regularly Physically Activity\", \n .         smoke_now ~ \"Current Smoker\", alcohol_day_num ~ \"Alcohol Drinks per Day\", \n .         regular_marij ~ \"Regular Marijuana User\", bmi_group ~ \n .             \"BMI\", hypertension ~ \"Hypertension\", sleep_hrs_night ~ \n .             \"Sleep (hrs/night)\")))))"
     ]
    }
   ],
   "source": [
    "# create a table and assign it to the object table_1\n",
    "table_1 <- sleep_40 %>%\n",
    "  # select the variables to include\n",
    "  select(gender,\n",
    "         age,\n",
    "         phys_active,\n",
    "         smoke_now,\n",
    "         alcohol_day_num,\n",
    "         regular_marij,\n",
    "         bmi_group,\n",
    "         hypertension,\n",
    "         sleep_hrs_night) %>%\n",
    "           display_html(tbl_summary(missing_text = \"(Missing)\",\n",
    "                # define clear labels for each variable\n",
    "                label = list(gender ~ \"Gender\",\n",
    "                age ~ \"Age\",\n",
    "                phys_active ~ \"Regularly Physically Activity\",\n",
    "                smoke_now ~ \"Current Smoker\",\n",
    "                alcohol_day_num ~ \"Alcohol Drinks per Day\",\n",
    "                regular_marij ~ \"Regular Marijuana User\",\n",
    "                bmi_group ~ \"BMI\",\n",
    "                hypertension ~ \"Hypertension\",\n",
    "                sleep_hrs_night ~ \"Sleep (hrs/night)\")))\n",
    "\n",
    "# display the table\n",
    "table_1"
   ]
  },
  {
   "cell_type": "markdown",
   "id": "wezeRX6cfRv3",
   "metadata": {
    "id": "wezeRX6cfRv3"
   },
   "source": [
    "## Graphs"
   ]
  },
  {
   "cell_type": "markdown",
   "id": "6u4Fxkf9fTsg",
   "metadata": {
    "id": "6u4Fxkf9fTsg"
   },
   "source": [
    "We will create a simple graph of the average number of hours a participant slept per night grouped by the participants hypertension status. We will create a box plot, where separate boxes are used for participants with and without hypertension.\n",
    "Let’s start with a basic box plot of hours of sleep per night and then build out graph up bit by bit from there.\n",
    "We will use the `ggplot` function and `geom_boxplot`."
   ]
  },
  {
   "cell_type": "code",
   "execution_count": null,
   "id": "IE9BToscfk26",
   "metadata": {
    "id": "IE9BToscfk26"
   },
   "outputs": [],
   "source": [
    "# a simple boxplot of all the data\n",
    "sleep_40 %>%\n",
    "  ggplot(aes(x = hypertension, y = sleep_hrs_night)) +\n",
    "  geom_boxplot()"
   ]
  },
  {
   "cell_type": "markdown",
   "id": "7xc0RuCXgawO",
   "metadata": {
    "id": "7xc0RuCXgawO"
   },
   "source": [
    "This is a great start but we could make the graph more aesthetically pleasing. We could:\n",
    "\n",
    "* make the axis labels clear\n",
    "* change the font size\n",
    "* add colour based on hypertension status\n",
    "* change the background by updating the plot theme"
   ]
  },
  {
   "cell_type": "code",
   "execution_count": null,
   "id": "HGxrOfGMhHXQ",
   "metadata": {
    "id": "HGxrOfGMhHXQ"
   },
   "outputs": [],
   "source": [
    "sleep_40 %>%\n",
    "  ggplot(aes(x = hypertension, y = sleep_hrs_night, group = hypertension,\n",
    "             colour = hypertension, fill = hypertension)) + # add colour\n",
    "  geom_boxplot() +\n",
    "  scale_colour_manual(values = c(\"#7c3b37\", \"#004c4e\")) + # add defined outlines to boxes\n",
    "  labs(x = \"Hypertension Status\", y = \"Hours of Sleep/Night\") + # fix labels\n",
    "  guides(fill = \"none\", colour = \"none\") + # remove legend\n",
    "  theme_bw() + # change background\n",
    "  theme(text = element_text(size = 20)) # increase the font size"
   ]
  }
 ],
 "metadata": {
  "colab": {
   "provenance": [],
   "toc_visible": true
  },
  "kernelspec": {
   "display_name": "R",
   "language": "R",
   "name": "ir"
  },
  "language_info": {
   "codemirror_mode": "r",
   "file_extension": ".r",
   "mimetype": "text/x-r-source",
   "name": "R",
   "pygments_lexer": "r",
   "version": "4.4.2"
  }
 },
 "nbformat": 4,
 "nbformat_minor": 5
}