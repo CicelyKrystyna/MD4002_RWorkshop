{
 "cells": [
  {
   "cell_type": "markdown",
   "id": "cc9199be-a7d2-4964-a7a8-799df3736a70",
   "metadata": {
    "id": "cc9199be-a7d2-4964-a7a8-799df3736a70"
   },
   "source": [
    "# View your Data"
   ]
  },
  {
   "cell_type": "markdown",
   "id": "r1eXAaxoixKQ",
   "metadata": {
    "id": "r1eXAaxoixKQ"
   },
   "source": [
    "It is generally **good practice** to look at your data to scan for things that might need fixing, for example:\n",
    "\n",
    "* Text in numerical cells (e.g. “six” vs 6)\n",
    "* Odd characters (e.g. >, <, /, etc.)\n",
    "* Varied Date formats (e.g 01/16/2024, 16-1-24, Jan 16 2024, etc.)\n",
    "* Coded variables (e.g. 99 = Missing)\n",
    "* Typos (e.g. ys, yse)\n",
    "* Variable capitalization or abbreviations (e.g. Yes, Y, yes)\n",
    "* Misaligned variable types\n",
    "\n",
    "However, it is **bad practice** to look at your data for patterns or to see what research questions you should ask and test.\n",
    "\n",
    "There are a couple of different ways you can look at your data:"
   ]
  },
  {
   "cell_type": "code",
   "execution_count": 1,
   "id": "56252157-ede8-4117-af38-2908388b8a17",
   "metadata": {
    "id": "56252157-ede8-4117-af38-2908388b8a17"
   },
   "outputs": [
    {
     "ename": "ERROR",
     "evalue": "Error in glimpse(sleep): could not find function \"glimpse\"\n",
     "output_type": "error",
     "traceback": [
      "Error in glimpse(sleep): could not find function \"glimpse\"\nTraceback:\n"
     ]
    }
   ],
   "source": [
    "# Glimpse provides information on each column, it's name, type and the first few entries:\n",
    "glimpse(sleep)"
   ]
  },
  {
   "cell_type": "code",
   "execution_count": 4,
   "id": "d2a1e34e-26c0-4eba-b57b-21dfecf9c471",
   "metadata": {
    "id": "bcc5ee1b-c23a-4add-9bcf-e7b908460972"
   },
   "outputs": [
    {
     "data": {
      "text/html": [
       "<table class=\"dataframe\">\n",
       "<caption>A data.frame: 2 × 3</caption>\n",
       "<thead>\n",
       "\t<tr><th></th><th scope=col>extra</th><th scope=col>group</th><th scope=col>ID</th></tr>\n",
       "\t<tr><th></th><th scope=col>&lt;dbl&gt;</th><th scope=col>&lt;fct&gt;</th><th scope=col>&lt;fct&gt;</th></tr>\n",
       "</thead>\n",
       "<tbody>\n",
       "\t<tr><th scope=row>1</th><td> 0.7</td><td>1</td><td>1</td></tr>\n",
       "\t<tr><th scope=row>2</th><td>-1.6</td><td>1</td><td>2</td></tr>\n",
       "</tbody>\n",
       "</table>\n"
      ],
      "text/latex": [
       "A data.frame: 2 × 3\n",
       "\\begin{tabular}{r|lll}\n",
       "  & extra & group & ID\\\\\n",
       "  & <dbl> & <fct> & <fct>\\\\\n",
       "\\hline\n",
       "\t1 &  0.7 & 1 & 1\\\\\n",
       "\t2 & -1.6 & 1 & 2\\\\\n",
       "\\end{tabular}\n"
      ],
      "text/markdown": [
       "\n",
       "A data.frame: 2 × 3\n",
       "\n",
       "| <!--/--> | extra &lt;dbl&gt; | group &lt;fct&gt; | ID &lt;fct&gt; |\n",
       "|---|---|---|---|\n",
       "| 1 |  0.7 | 1 | 1 |\n",
       "| 2 | -1.6 | 1 | 2 |\n",
       "\n"
      ],
      "text/plain": [
       "  extra group ID\n",
       "1  0.7  1     1 \n",
       "2 -1.6  1     2 "
      ]
     },
     "metadata": {},
     "output_type": "display_data"
    },
    {
     "data": {
      "text/html": [
       "<table class=\"dataframe\">\n",
       "<caption>A data.frame: 3 × 3</caption>\n",
       "<thead>\n",
       "\t<tr><th></th><th scope=col>extra</th><th scope=col>group</th><th scope=col>ID</th></tr>\n",
       "\t<tr><th></th><th scope=col>&lt;dbl&gt;</th><th scope=col>&lt;fct&gt;</th><th scope=col>&lt;fct&gt;</th></tr>\n",
       "</thead>\n",
       "<tbody>\n",
       "\t<tr><th scope=row>18</th><td>1.6</td><td>2</td><td>8 </td></tr>\n",
       "\t<tr><th scope=row>19</th><td>4.6</td><td>2</td><td>9 </td></tr>\n",
       "\t<tr><th scope=row>20</th><td>3.4</td><td>2</td><td>10</td></tr>\n",
       "</tbody>\n",
       "</table>\n"
      ],
      "text/latex": [
       "A data.frame: 3 × 3\n",
       "\\begin{tabular}{r|lll}\n",
       "  & extra & group & ID\\\\\n",
       "  & <dbl> & <fct> & <fct>\\\\\n",
       "\\hline\n",
       "\t18 & 1.6 & 2 & 8 \\\\\n",
       "\t19 & 4.6 & 2 & 9 \\\\\n",
       "\t20 & 3.4 & 2 & 10\\\\\n",
       "\\end{tabular}\n"
      ],
      "text/markdown": [
       "\n",
       "A data.frame: 3 × 3\n",
       "\n",
       "| <!--/--> | extra &lt;dbl&gt; | group &lt;fct&gt; | ID &lt;fct&gt; |\n",
       "|---|---|---|---|\n",
       "| 18 | 1.6 | 2 | 8  |\n",
       "| 19 | 4.6 | 2 | 9  |\n",
       "| 20 | 3.4 | 2 | 10 |\n",
       "\n"
      ],
      "text/plain": [
       "   extra group ID\n",
       "18 1.6   2     8 \n",
       "19 4.6   2     9 \n",
       "20 3.4   2     10"
      ]
     },
     "metadata": {},
     "output_type": "display_data"
    }
   ],
   "source": [
    "# Head (Tail) shows the first (last) n rows:\n",
    "head(sleep, n=2)\n",
    "tail(sleep, n=3)"
   ]
  },
  {
   "cell_type": "code",
   "execution_count": null,
   "id": "774c840b-347a-48d6-a91e-f4f4ea4ed885",
   "metadata": {},
   "outputs": [],
   "source": []
  }
 ],
 "metadata": {
  "colab": {
   "provenance": [],
   "toc_visible": true
  },
  "kernelspec": {
   "display_name": "R",
   "language": "R",
   "name": "ir"
  },
  "language_info": {
   "codemirror_mode": "r",
   "file_extension": ".r",
   "mimetype": "text/x-r-source",
   "name": "R",
   "pygments_lexer": "r",
   "version": "4.4.2"
  }
 },
 "nbformat": 4,
 "nbformat_minor": 5
}