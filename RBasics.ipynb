{
  "nbformat": 4,
  "nbformat_minor": 0,
  "metadata": {
    "colab": {
      "provenance": []
    },
    "kernelspec": {
      "name": "ir",
      "display_name": "R"
    },
    "language_info": {
      "name": "R"
    }
  },
  "cells": [
    {
      "cell_type": "markdown",
      "source": [
        "# An Introduction to R"
      ],
      "metadata": {
        "id": "MJw3giiDNvqp"
      }
    },
    {
      "cell_type": "markdown",
      "source": [
        "R is a language and environment for statistical computing and graphics. You can read more about it <a href=\"https://www.r-project.org/about.html\" target=\"_blank\">here</a>.\n",
        "\n",
        "In this Notebook we will point out **some** useful basics of R to help you get started. If you want to learn more then there are some select resourses listed in the guided study on Galen.\n",
        "\n",
        "We will be assuming you are following along using RStudio, but you can also interact with the code by clicking the rocket launch button in the top right to open this in Google Colab.\n",
        "\n",
        "To get started open RStudio, open a new R Script (e.g. File->New File->R Script) and save it (e.g. as **RBasics.R**)."
      ],
      "metadata": {
        "id": "3-1nfhWDN5c0"
      }
    },
    {
      "cell_type": "markdown",
      "source": [
        "## Getting to know R/RStudio"
      ],
      "metadata": {
        "id": "a_dbK-GS735s"
      }
    },
    {
      "cell_type": "markdown",
      "source": [
        "When you are working in R Studio you should see that the window is split into four panels. Commonly this will be:\n",
        "* top left - any current script(s) (e.g. our RBasics.R script)\n",
        "* bottom left - a console for experimental commands and any R output\n",
        "* top right - the working environment with any saved variables or data structures\n",
        "* bottom right - extras such as a files tab and R Help\n",
        "If you have no current script open the left panel will be taken up completely by the console. If you want to change the layout you can go to View->Panes and select your preferred option."
      ],
      "metadata": {
        "id": "-y4MnA868VvX"
      }
    },
    {
      "cell_type": "markdown",
      "source": [
        "![panels](https://github.com/CicelyKrystyna/MD4002_RWorkshop/blob/main/images/panels.png?raw=1)"
      ],
      "metadata": {
        "id": "skM3l1wDDJhz"
      }
    },
    {
      "cell_type": "markdown",
      "source": [
        "### The Console"
      ],
      "metadata": {
        "id": "37SKKQWoEtrS"
      }
    },
    {
      "cell_type": "markdown",
      "source": [
        "If you want to test out a line of code (command) you can run it in the console before copying it to your script. Some useful features:\n",
        "* You can use your keyboard's up/down arrows to scroll back through previous commands.\n",
        "* You can use `^R` to search your command history.\n",
        "* You can clear the console using `^L`.\n",
        "\n",
        "```{tip}\n",
        "You can also use the console to access R's help guides (which will appear in the bottom right panel).\n",
        "\n",
        "You can search R's documentation for a keyword by typing `??keyword`. You can get help on a particular function or package by typing `?function`.\n",
        "```"
      ],
      "metadata": {
        "id": "TSQIs8adFOEq"
      }
    },
    {
      "cell_type": "code",
      "source": [
        "# asking R to search its documentation for the keyword \"mean\"\n",
        "??mean\n",
        "# asking R to provide help on the function mean\n",
        "?mean"
      ],
      "metadata": {
        "id": "Fn7LrfwDtNw-"
      },
      "execution_count": null,
      "outputs": []
    },
    {
      "cell_type": "markdown",
      "source": [
        "```{note}\n",
        "Lines of code typed into the console are not saved. This is why we create scripts to store our code.\n",
        "```"
      ],
      "metadata": {
        "id": "_95001u-OksL"
      }
    },
    {
      "cell_type": "markdown",
      "source": [
        "## Preamble"
      ],
      "metadata": {
        "id": "Jrfju1lFR1gO"
      }
    },
    {
      "cell_type": "markdown",
      "source": [
        "Our script is where we will write and then execute our code. Let us start our script **RBasics.R** by adding some preamble.\n",
        "\n",
        "In RStudio you can create (collapsible) sections to keep your code organised. To create a section in R Studio go to Code->Insert Section, a pop up box will appear for you to name your section. We will start by creating a section called \"Preamble\". Once you click ok you should get something that looks like this:"
      ],
      "metadata": {
        "id": "_erRi0CzR4y-"
      }
    },
    {
      "cell_type": "code",
      "source": [
        "# Preamble ----------------------------------------------------------------"
      ],
      "metadata": {
        "id": "eKAdAeOKRrDk"
      },
      "execution_count": null,
      "outputs": []
    },
    {
      "cell_type": "markdown",
      "source": [
        "```{tip}\n",
        "The # symbol is used to indicate a comment in R. This is a line which R will skip over and not try to run as code. The best codes are well commented, so feel free to add your own comments to your code to help you understand it.\n",
        "```"
      ],
      "metadata": {
        "id": "YT6e_UOC9zK1"
      }
    },
    {
      "cell_type": "markdown",
      "source": [
        "### Documentation"
      ],
      "metadata": {
        "id": "iMou7aCf6gZX"
      }
    },
    {
      "cell_type": "markdown",
      "source": [
        "You may wish to start your code with some documentation. This could look something like:"
      ],
      "metadata": {
        "id": "AlwrvxvmSfHG"
      }
    },
    {
      "cell_type": "code",
      "source": [
        "# Author: [Your Name]\n",
        "# Date: [Date]\n",
        "# Description: [Brief description of what the script does]"
      ],
      "metadata": {
        "id": "PNlFW5KaTMvV"
      },
      "execution_count": null,
      "outputs": []
    },
    {
      "cell_type": "markdown",
      "source": [
        "### Install/Load Packages"
      ],
      "metadata": {
        "id": "dGbaAiFB6mfX"
      }
    },
    {
      "cell_type": "markdown",
      "source": [
        "Next you will need to install/load packages. We **install** packages in R once. We **load** packages we are going to use everytime we open/start R/RStudio."
      ],
      "metadata": {
        "id": "1R8l7ozFNmK_"
      }
    },
    {
      "cell_type": "code",
      "source": [
        "# Install your packages (first use only)\n",
        "# install.packages(\"tidyverse\")\n",
        "\n",
        "# Load your packages (everytime you restart R)\n",
        "library(tidyverse)"
      ],
      "metadata": {
        "colab": {
          "base_uri": "https://localhost:8080/"
        },
        "id": "2UgGssr6NwTn",
        "outputId": "6b6fb3af-df52-43e8-852a-13f2aba80159"
      },
      "execution_count": null,
      "outputs": [
        {
          "output_type": "stream",
          "name": "stderr",
          "text": [
            "── \u001b[1mAttaching core tidyverse packages\u001b[22m ──────────────────────── tidyverse 2.0.0 ──\n",
            "\u001b[32m✔\u001b[39m \u001b[34mdplyr    \u001b[39m 1.1.4     \u001b[32m✔\u001b[39m \u001b[34mreadr    \u001b[39m 2.1.5\n",
            "\u001b[32m✔\u001b[39m \u001b[34mforcats  \u001b[39m 1.0.0     \u001b[32m✔\u001b[39m \u001b[34mstringr  \u001b[39m 1.5.1\n",
            "\u001b[32m✔\u001b[39m \u001b[34mggplot2  \u001b[39m 3.5.1     \u001b[32m✔\u001b[39m \u001b[34mtibble   \u001b[39m 3.2.1\n",
            "\u001b[32m✔\u001b[39m \u001b[34mlubridate\u001b[39m 1.9.4     \u001b[32m✔\u001b[39m \u001b[34mtidyr    \u001b[39m 1.3.1\n",
            "\u001b[32m✔\u001b[39m \u001b[34mpurrr    \u001b[39m 1.0.4     \n",
            "── \u001b[1mConflicts\u001b[22m ────────────────────────────────────────── tidyverse_conflicts() ──\n",
            "\u001b[31m✖\u001b[39m \u001b[34mdplyr\u001b[39m::\u001b[32mfilter()\u001b[39m masks \u001b[34mstats\u001b[39m::filter()\n",
            "\u001b[31m✖\u001b[39m \u001b[34mdplyr\u001b[39m::\u001b[32mlag()\u001b[39m    masks \u001b[34mstats\u001b[39m::lag()\n",
            "\u001b[36mℹ\u001b[39m Use the conflicted package (\u001b[3m\u001b[34m<http://conflicted.r-lib.org/>\u001b[39m\u001b[23m) to force all conflicts to become errors\n"
          ]
        }
      ]
    },
    {
      "cell_type": "markdown",
      "source": [
        "```{tip}\n",
        "There are thousands of R packages many of which you will never use and a handful of which you will use all the time. We will try to point you to the most relevant but you will also find more information in the references section.\n",
        "```"
      ],
      "metadata": {
        "id": "h9OUt2htYHPd"
      }
    },
    {
      "cell_type": "markdown",
      "source": [
        "### Clear R Environment"
      ],
      "metadata": {
        "id": "XWPtZdXZ6q_v"
      }
    },
    {
      "cell_type": "markdown",
      "source": [
        "A common line you will often see in the Preamble of R codes is one which will clear the current workspace/environment."
      ],
      "metadata": {
        "id": "bDhiedxlUaIc"
      }
    },
    {
      "cell_type": "code",
      "source": [
        "# Clear everything from the environment\n",
        "rm(list = ls())"
      ],
      "metadata": {
        "id": "zBofaWdWU5aX"
      },
      "execution_count": null,
      "outputs": []
    },
    {
      "cell_type": "markdown",
      "source": [
        "```{caution}\n",
        "This will delete/unassign all of the varaibles and data structures you have created so only use it if you wont lose something from the environment you will need.\n",
        "```"
      ],
      "metadata": {
        "id": "uTNa2ITk7Rg1"
      }
    },
    {
      "cell_type": "markdown",
      "source": [
        "### Set Working Directory"
      ],
      "metadata": {
        "id": "0qaZPpic6wvJ"
      }
    },
    {
      "cell_type": "markdown",
      "source": [
        "It may keep things streamlined if you set the path to your preferred working directory. Imagine you have a folder called **DataProject** sitting in your **Documents** folder. By setting the path to point to that folder automatically means that inputs will be taken from this folder and outputs will be put there."
      ],
      "metadata": {
        "id": "Ovz5y6WTURyM"
      }
    },
    {
      "cell_type": "code",
      "source": [
        "# Set working directory using setwd(\"path/to/your/directory\")\n",
        "# setwd(\"~/Documents/DataProject\")"
      ],
      "metadata": {
        "id": "0Deog-e-VsIC"
      },
      "execution_count": null,
      "outputs": []
    },
    {
      "cell_type": "markdown",
      "source": [
        "## Basic Operations and Print Statements"
      ],
      "metadata": {
        "id": "P9hbGRmKoZVu"
      }
    },
    {
      "cell_type": "markdown",
      "source": [
        "Lets set up another section within our R script and call it **The Basics**"
      ],
      "metadata": {
        "id": "O3mLXJTZ0lrw"
      }
    },
    {
      "cell_type": "code",
      "source": [
        "# The Basics --------------------------------------------------------------"
      ],
      "metadata": {
        "id": "GD7exy_o0wY6"
      },
      "execution_count": null,
      "outputs": []
    },
    {
      "cell_type": "markdown",
      "source": [
        "### Basic Operations"
      ],
      "metadata": {
        "id": "Gh9IOcZNMKkq"
      }
    },
    {
      "cell_type": "markdown",
      "source": [
        "Let's have a play with some very basic functions. Most of these are unremarkable. Firstly mathematical operations:\n",
        "* to add numbers use `+`\n",
        "* to subtract numbers use `-`\n",
        "* to multiply numbers use `*`\n",
        "* to divide numbers use `/`\n",
        "* to find powers use `^`\n",
        "* to calculate the square root use `sqrt()`\n"
      ],
      "metadata": {
        "id": "WEGJrqZyMOLZ"
      }
    },
    {
      "cell_type": "code",
      "source": [
        "# a simple mathematical calculation using basic mathematical operations\n",
        "1+2*2+3^2-4/2-sqrt(4)"
      ],
      "metadata": {
        "colab": {
          "base_uri": "https://localhost:8080/",
          "height": 34
        },
        "id": "IBCfO0XFMVEG",
        "outputId": "e91cdbf0-0ee7-4f82-a241-cee5a1c3b988"
      },
      "execution_count": null,
      "outputs": [
        {
          "output_type": "display_data",
          "data": {
            "text/html": [
              "10"
            ],
            "text/markdown": "10",
            "text/latex": "10",
            "text/plain": [
              "[1] 10"
            ]
          },
          "metadata": {}
        }
      ]
    },
    {
      "cell_type": "markdown",
      "source": [
        "```{note}\n",
        "R, like most coding languages, follows the traditional mathematical rules of precedence, i.e. <a href=\"https://www.bbc.co.uk/bitesize/articles/znm8cmn#:~:text=BIDMAS%20is%20an%20acronym%20used,%2C%20Multiplication%2C%20Addition%2C%20Subtraction\" target=\"_blank\">BIDMAS</a> or <a href=\"https://www.mathsisfun.com/operation-order-pemdas.html\" targe=\"_blank\">PEMDAS</a>.\n",
        "```"
      ],
      "metadata": {
        "id": "gU9_k6FCxM0Y"
      }
    },
    {
      "cell_type": "markdown",
      "source": [
        "There are many other simple functions such as\n",
        "* the exponential function `exp()`\n",
        "* the natural logarithmic function `log()`\n",
        "* to calculate the sum `sum()`\n",
        "* to calculate the mean `mean()`\n",
        "* to round numbers `round()`\n",
        "\n",
        "Some of these functions can take additional arguments such as `round()` which allows you to specify how many decimal places you would like to round to, for example,"
      ],
      "metadata": {
        "id": "Tl-IJFAa_RCr"
      }
    },
    {
      "cell_type": "code",
      "source": [
        "round(pi,6)"
      ],
      "metadata": {
        "id": "i3dFG5kUA2By"
      },
      "execution_count": null,
      "outputs": []
    },
    {
      "cell_type": "markdown",
      "source": [
        "**Remember:** If you want to see if R has a function for something you can use the help to search that keyword (e.g. ``??exponential``)."
      ],
      "metadata": {
        "id": "fwsTuZJXBD0n"
      }
    },
    {
      "cell_type": "markdown",
      "source": [
        "### Print Statements"
      ],
      "metadata": {
        "id": "ajPxqk4eNz-d"
      }
    },
    {
      "cell_type": "markdown",
      "source": [
        "Print statements, like comments, are very useful when coding. Although you can make use of the simple print function `print`, we would recommend the concatenate and print function `cat`. Here's how it works:"
      ],
      "metadata": {
        "id": "9X3KdioYocgL"
      }
    },
    {
      "cell_type": "code",
      "source": [
        "# an example of a simple print statement in R\n",
        "cat(\"The sum of the first ten numbers is:\", sum(1:10), \"\\n\")"
      ],
      "metadata": {
        "colab": {
          "base_uri": "https://localhost:8080/"
        },
        "id": "Kc1U0b0DpLcf",
        "outputId": "d1b7224e-0bdd-4639-b6a8-3d6da05c5363"
      },
      "execution_count": null,
      "outputs": [
        {
          "output_type": "stream",
          "name": "stdout",
          "text": [
            "The sum of the first ten numbers is: 55 \n"
          ]
        }
      ]
    },
    {
      "cell_type": "markdown",
      "source": [
        "Anything you want R to print verbatim you put inside \" \" and anything else must either be an object or some function or operation which R can carry out. The final \"\\n\" tells are to start a new line on ending the statement."
      ],
      "metadata": {
        "id": "-byhhUpdqN2r"
      }
    },
    {
      "cell_type": "markdown",
      "source": [
        "## Objects in R"
      ],
      "metadata": {
        "id": "Wx4icDUbI_6x"
      }
    },
    {
      "cell_type": "markdown",
      "source": [
        "### Assigning Objects"
      ],
      "metadata": {
        "id": "v2tLVBIE9zDe"
      }
    },
    {
      "cell_type": "markdown",
      "source": [
        "Objects in R are essentially containers. They may contain single peices of data (e.g. a variable) or be more complex structures of data (e.g. lists and data frames (see below). Objects are created by **assigning** data to an object using `<-`.\n",
        "\n",
        "```{note}\n",
        "There are actually no less than five different assignment operators as per this <a href=\"https://stat.ethz.ch/R-manual/R-patched/library/base/html/assignOps.html\" target=\"_blank\">documentation</a>. However, at a basic level using `<-` will serve you well.    \n",
        "```\n",
        "\n",
        "Lets set up a section in our R script called **Objects in R** and look at some examples."
      ],
      "metadata": {
        "id": "zrvpyPgsJMvX"
      }
    },
    {
      "cell_type": "code",
      "source": [
        "# Objects in R ------------------------------------------------------------\n",
        "\n",
        "# assign the value 16 to the object my_variable\n",
        "my_variable<-16\n",
        "# assign a set of values {1,2,3} to the object my_set\n",
        "my_set<-c(1,2,3)\n",
        "# assign a list of values {1,two,3} to the object my_list\n",
        "my_list<-list(1,\"two\",3)\n",
        "# assign a list of sets {1,2,3} and {A, B, C, D} to the object my_listofsets\n",
        "my_listofsets<-list(c(1,2,3),c(\"A\",\"B\",\"C\",\"D\"))\n",
        "# assign a name to each of the sets in my_listofsets and save as my_listofsets2\n",
        "my_listofsets2<-list(my_set1=c(1,2,3),my_set2=c(\"A\",\"B\",\"C\",\"D\"))"
      ],
      "metadata": {
        "id": "5Cy9FdfeX9V1"
      },
      "execution_count": null,
      "outputs": []
    },
    {
      "cell_type": "markdown",
      "source": [
        "```{note}\n",
        "We store strings/words using quotation marks - single or double depending on user preference.\n",
        "```\n"
      ],
      "metadata": {
        "id": "gwj9AWYSBokt"
      }
    },
    {
      "cell_type": "markdown",
      "source": [
        "You can get R to list all the currently assigned objects using `ls()`."
      ],
      "metadata": {
        "id": "E2S5Y7-a9VRu"
      }
    },
    {
      "cell_type": "code",
      "source": [
        "# list all of the currently assigned objects\n",
        "ls()"
      ],
      "metadata": {
        "id": "GORQ6KRFWU_L"
      },
      "execution_count": null,
      "outputs": []
    },
    {
      "cell_type": "markdown",
      "source": [
        "```{note}\n",
        "We saw above that `rm(list = ls())` will remove (and de-assign) all of the objects in the current session. You can also remove/deassign individual objects, for example `rm(my_listofsets)`.\n",
        "```"
      ],
      "metadata": {
        "id": "ERjinlB5BVVI"
      }
    },
    {
      "cell_type": "markdown",
      "source": [
        "### The Environment Panel"
      ],
      "metadata": {
        "id": "KudI34VUUz79"
      }
    },
    {
      "cell_type": "markdown",
      "source": [
        "After assigning these six objects our environment panel should look like this:\n",
        "\n",
        "![environment](https://github.com/CicelyKrystyna/MD4002_RWorkshop/blob/main/images/environment.png?raw=1)\n",
        "\n",
        "The blue arrow buttons allow you to expand or collapse the information about more complicated objects like lists and dataframes. The environment panel provides details on objects which have been assigned, the data they contain and their class."
      ],
      "metadata": {
        "id": "RNbvh1IU3Rqu"
      }
    },
    {
      "cell_type": "markdown",
      "source": [
        "### Classes of Objects"
      ],
      "metadata": {
        "id": "Pi9Ekdc2tRpp"
      }
    },
    {
      "cell_type": "markdown",
      "source": [
        "Objects in R are automatically given a **class** (e.g. \"numeric\", \"character\"). These indicate how data is stored in R."
      ],
      "metadata": {
        "id": "6OsTK0ZmpwRx"
      }
    },
    {
      "cell_type": "code",
      "source": [
        "# give the class of my_variable\n",
        "cat(\"The object my_variable is of class:\", class(my_variable), \"\\n\")\n",
        "# give the class of my_set\n",
        "cat(\"The object my_set is of class:\", class(my_set), \"\\n\")\n",
        "# give the class of my_list\n",
        "cat(\"The object my_list is of class:\", class(my_list), \"\\n\")\n",
        "# give the class of my_listofsets\n",
        "cat(\"The object my_listofsets is of class:\", class(my_listofsets), \"\\n\")\n",
        "# give the class of each set in my_listofsets2\n",
        "cat(\"The set my_set1 within object my_listofsets2 is of class:\", class(my_listofsets2$my_set1), \"\\n\")\n",
        "cat(\"The set my_set2 within object my_listofsets2 is of class:\", class(my_listofsets2$my_set2), \"\\n\")"
      ],
      "metadata": {
        "colab": {
          "base_uri": "https://localhost:8080/"
        },
        "id": "cffdyA4mEOAz",
        "outputId": "d727ada9-f9a1-4dc8-8a0f-8d36723d3f1e"
      },
      "execution_count": null,
      "outputs": [
        {
          "output_type": "stream",
          "name": "stdout",
          "text": [
            "The object my_variable is of class: numeric \n",
            "The object my_set is of class: numeric \n",
            "The object my_list is of class: list \n",
            "The object my_listofsets is of class: list \n",
            "The set my_set1 within object my_listofsets2 is of class: numeric \n",
            "The set my_set2 within object my_listofsets2 is of class: character \n"
          ]
        }
      ]
    },
    {
      "cell_type": "markdown",
      "source": [
        "```{note}\n",
        "We can also use the function `typeof()`. If an object contains strings its **type and class** will be \"character\". If an object is of **class** \"numeric\" it may be subcatergorised as either an \"integer\" or a \"double\" **type** using `typeof()`.\n",
        "```"
      ],
      "metadata": {
        "id": "MeRlt1nGITUi"
      }
    },
    {
      "cell_type": "code",
      "source": [
        "# give the type of my_variable\n",
        "cat(\"The object my_variable is of type:\", typeof(my_variable), \"\\n\")"
      ],
      "metadata": {
        "colab": {
          "base_uri": "https://localhost:8080/"
        },
        "id": "HamR5Yy9JFFN",
        "outputId": "19ef1c17-e772-41c2-ca27-89c602b8ea19"
      },
      "execution_count": null,
      "outputs": [
        {
          "output_type": "stream",
          "name": "stdout",
          "text": [
            "The object my_variable is of type: double \n"
          ]
        }
      ]
    },
    {
      "cell_type": "markdown",
      "source": [
        "R is reasonably good at selecting the correct **type** and **class** for each object. If it is wrong it will typically be becuase of the way the data has been entered.\n",
        "\n",
        "```{note}\n",
        "A list in R can contain data of different forms (e.g. numbers and words) because each entry in a list can have a different class/type. Other structures are restricted to being of one class/type only.\n",
        "```"
      ],
      "metadata": {
        "id": "r1UXjb8DJRmN"
      }
    },
    {
      "cell_type": "code",
      "source": [
        "# assign a set of values {1,\"two\",3} to the object my_mixedset\n",
        "my_mixedset<-c(1,\"two\",3)\n",
        "# determine the class of my_mixedset\n",
        "cat(\"The object my_mixedset is of class:\", class(my_mixedset), \"\\n\")"
      ],
      "metadata": {
        "colab": {
          "base_uri": "https://localhost:8080/"
        },
        "id": "aKHKt1IJJuud",
        "outputId": "33eeb82d-dedd-4211-e7b7-3f6c0c2ec882"
      },
      "execution_count": null,
      "outputs": [
        {
          "output_type": "stream",
          "name": "stdout",
          "text": [
            "The object my_mixedset is of class: character \n"
          ]
        }
      ]
    },
    {
      "cell_type": "markdown",
      "source": [
        "Here, we included a string in my_mixedset. Automatically R classes my_mixedset as \"character\" and all values are stored as strings. We can check the class using `is` e.g. `is.numeric()` and change the class using `as` e.g. `as.numeric`."
      ],
      "metadata": {
        "id": "G__tCgSmKL80"
      }
    },
    {
      "cell_type": "code",
      "source": [
        "# ask R if my_mixedset is of class \"numeric\"\n",
        "is.numeric(my_mixedset)\n",
        "# ask R to store my_mixedset as class \"numeric\" (note reassignment)\n",
        "my_mixedset<-as.numeric(my_mixedset)\n",
        "# ask R if my_mixedset is of class \"numeric\"\n",
        "is.numeric(my_mixedset)"
      ],
      "metadata": {
        "colab": {
          "base_uri": "https://localhost:8080/",
          "height": 86
        },
        "id": "A06SMM8KKy8z",
        "outputId": "a0cd8d46-2ebb-4437-d696-a677ec3a8618"
      },
      "execution_count": null,
      "outputs": [
        {
          "output_type": "display_data",
          "data": {
            "text/html": [
              "FALSE"
            ],
            "text/markdown": "FALSE",
            "text/latex": "FALSE",
            "text/plain": [
              "[1] FALSE"
            ]
          },
          "metadata": {}
        },
        {
          "output_type": "stream",
          "name": "stderr",
          "text": [
            "Warning message:\n",
            "“NAs introduced by coercion”\n"
          ]
        },
        {
          "output_type": "display_data",
          "data": {
            "text/html": [
              "TRUE"
            ],
            "text/markdown": "TRUE",
            "text/latex": "TRUE",
            "text/plain": [
              "[1] TRUE"
            ]
          },
          "metadata": {}
        }
      ]
    },
    {
      "cell_type": "markdown",
      "source": [
        "```{warning}\n",
        "When we force my_mixedset to be stored as a numeric object any strings are lost (irrevocably) and replaced by a mising data indicator NA. In the R Workshop there is a more detailed example of how we can convert the \"two\" to a 2 so as to not lose this data entry.\n",
        "```"
      ],
      "metadata": {
        "id": "bfHO2_pjL0ON"
      }
    },
    {
      "cell_type": "markdown",
      "source": [
        "We can also change the more specific type of an object, for example,"
      ],
      "metadata": {
        "id": "9uUotHOKPH60"
      }
    },
    {
      "cell_type": "code",
      "source": [
        "# ask R to store my_variable as type \"integer\" (note reassignment)\n",
        "my_variable<-as.integer(my_variable)\n",
        "# give the type of my_variable\n",
        "cat(\"The object my_variable is of type:\", typeof(my_variable), \"\\n\")"
      ],
      "metadata": {
        "colab": {
          "base_uri": "https://localhost:8080/"
        },
        "id": "gvsIKr_RP5Dp",
        "outputId": "74da566b-9117-4ee6-db63-1a2fab243a47"
      },
      "execution_count": null,
      "outputs": [
        {
          "output_type": "stream",
          "name": "stdout",
          "text": [
            "The object my_variable is of type: integer \n"
          ]
        }
      ]
    },
    {
      "cell_type": "markdown",
      "source": [
        "### Logicals and Binary Data"
      ],
      "metadata": {
        "id": "MjGTVnnAQNz8"
      }
    },
    {
      "cell_type": "markdown",
      "source": [
        "Sometimes our data may be stored as a set of true/false responses. R stores these as **logicals**. We tell R this by writing TRUE or FALSE or more simply using T or F, for example,"
      ],
      "metadata": {
        "id": "yL7DQqKxQRBa"
      }
    },
    {
      "cell_type": "code",
      "source": [
        "# assign a set of true/false repsonses to the object my_truefalseset\n",
        "my_truefalseset<-c(T,F,T,T,F,T)\n",
        "# give the class of my_truefalseset\n",
        "cat(\"The object my_truefalseset is of class:\", class(my_truefalseset), \"\\n\")"
      ],
      "metadata": {
        "colab": {
          "base_uri": "https://localhost:8080/"
        },
        "id": "MTxjP30WPIdw",
        "outputId": "1bbcc582-0fef-4e1b-b2a7-fdb4fb6d42ec"
      },
      "execution_count": null,
      "outputs": [
        {
          "output_type": "stream",
          "name": "stdout",
          "text": [
            "The object my_truefalseset is of class: logical \n"
          ]
        }
      ]
    },
    {
      "cell_type": "markdown",
      "source": [
        "Logicals can be converted to numeric by flagging TRUE as 1 and FASLE as 0, i.e. any Ts become 1s and Fs become 0s."
      ],
      "metadata": {
        "id": "ED2V-EcnSMm9"
      }
    },
    {
      "cell_type": "code",
      "source": [
        "# ask R to store my_truefalseset as class \"numeric\" (note reassignment)\n",
        "my_truefalseset<-as.numeric(my_truefalseset)\n",
        "# print my_truefalseset\n",
        "cat(\"my_truefalseset:\", my_truefalseset, \"\\n\")"
      ],
      "metadata": {
        "colab": {
          "base_uri": "https://localhost:8080/"
        },
        "id": "V1h_QlRoSc9r",
        "outputId": "cea03031-b7bf-48c2-cb23-51e6e019cfd5"
      },
      "execution_count": null,
      "outputs": [
        {
          "output_type": "stream",
          "name": "stdout",
          "text": [
            "my_truefalseset: 1 0 1 1 0 1 \n"
          ]
        }
      ]
    },
    {
      "cell_type": "markdown",
      "source": [
        "Indeed any binary data (data restricted to only two possible responses) can be stored numerically or logically. Suppose we had another set of binary data e.g. a set of happy or sad responses. We can convert this to either numeric or logical data. We would just need to specify which of happy or sad is to be flagged as TRUE/1."
      ],
      "metadata": {
        "id": "C6FMWB4-Tq2V"
      }
    },
    {
      "cell_type": "code",
      "source": [
        "# assign a set of happy/sad repsonses to the object my_happysadset\n",
        "my_happysadset<-c(\"happy\", \"sad\", \"sad\", \"sad\", \"happy\")\n",
        "# give the class of my_happysadset\n",
        "cat(\"The object my_happysadset is of class:\", class(my_happysadset), \"\\n\")\n",
        "# print my_happysadset as a logical flagging happy as TRUE\n",
        "cat(\"my_happysadset as logical:\", as.logical(my_happysadset==\"happy\"), \"\\n\")\n",
        "# print my_happysadset as binary numerical flagging sad as 1\n",
        "cat(\"my_happysadset as numeric:\", as.numeric(my_happysadset==\"sad\"), \"\\n\")"
      ],
      "metadata": {
        "colab": {
          "base_uri": "https://localhost:8080/"
        },
        "id": "-2NYpOThVusP",
        "outputId": "3f0d5f0d-8832-4e80-b983-e40def9081f4"
      },
      "execution_count": null,
      "outputs": [
        {
          "output_type": "stream",
          "name": "stdout",
          "text": [
            "The object my_happysadset is of class: character \n",
            "my_happysadset as logical: TRUE FALSE FALSE FALSE TRUE \n",
            "my_happysadset as numeric: 0 1 1 1 0 \n"
          ]
        }
      ]
    },
    {
      "cell_type": "markdown",
      "source": [
        "### Factors\n",
        "\n"
      ],
      "metadata": {
        "id": "2btz1GJbbTq0"
      }
    },
    {
      "cell_type": "markdown",
      "source": [
        "We can use **factors** to store categorical data numerically. Each catergory is given a numeric value from 1 to n (the number of distinct categories).  R will automatically order the data in to **levels**. This will be done alphabetically unless you specify an alternative. If your data is nominal (no discernable order) you wouldn't need to worry about the order of **levels** but if your data is ordinal (clear implied order) as in the following example you would.\n",
        "\n",
        "```{tip}\n",
        "Factors are useful because saving data numerically is more computationally efficient.\n",
        "```"
      ],
      "metadata": {
        "id": "lLLe466Zec8C"
      }
    },
    {
      "cell_type": "code",
      "source": [
        "# assign a set of responses {low, medium, high} to a factor my_factor\n",
        "my_factor<-factor(c(\"low\", \"medium\", \"high\"))\n",
        "# print my_factor as it is stored in R\n",
        "cat(\"my_factor is stored numerically as:\", my_factor, \"\\n\")\n",
        "# assign the same set of responses but tell R how to order the data\n",
        "my_factor<-factor(c(\"low\", \"medium\", \"high\"), levels=c(\"low\", \"medium\", \"high\"))\n",
        "# print my_factor as it is stored in R\n",
        "cat(\"my_factor is stored numerically as:\", my_factor, \"\\n\")"
      ],
      "metadata": {
        "colab": {
          "base_uri": "https://localhost:8080/"
        },
        "id": "uCLMxjEhiAuS",
        "outputId": "cbf72c00-68a7-4804-b475-48f46c22baf0"
      },
      "execution_count": null,
      "outputs": [
        {
          "output_type": "stream",
          "name": "stdout",
          "text": [
            "my_factor is stored numerically as: 2 3 1 \n",
            "my_factor is stored numerically as: 1 2 3 \n"
          ]
        }
      ]
    },
    {
      "cell_type": "markdown",
      "source": [
        "### Data Frames"
      ],
      "metadata": {
        "id": "u4WQC2Npzx1m"
      }
    },
    {
      "cell_type": "markdown",
      "source": [
        "If you are working with data you are almost certainly going to be using **data frames**. A data frame is essentially a table of observations for different variables of interest. Each column represents a variable and the rows are individual observations.\n",
        "\n",
        "```{note}\n",
        "Data frames can contain data of different types/class but each column/variable will be designated a single class. The length of each column must be the same, i.e. there must be an observation provided for each variable or a missing placeholder (NA) must be used.\n",
        "```"
      ],
      "metadata": {
        "id": "xp-wX9WZ1GqU"
      }
    },
    {
      "cell_type": "code",
      "source": [
        "# assign a table of data consisting of five observations to the object my_dataframe\n",
        "# each new observation - perhaps a person filling in a survey will be given a unique ID\n",
        "ID<-c(1:5)\n",
        "mood<-c(\"happy\", \"happy\", \"sad\", NA, \"sad\")\n",
        "score<-c(\"low\", \"medium\", \"high\", \"high\", \"low\")\n",
        "my_dataframe<-data.frame(ID, mood, score)\n",
        "# display my_dataframe\n",
        "my_dataframe"
      ],
      "metadata": {
        "colab": {
          "base_uri": "https://localhost:8080/",
          "height": 255
        },
        "id": "ni4JATMB1INP",
        "outputId": "a381e418-8138-4725-f608-9d1e2907ddf9"
      },
      "execution_count": null,
      "outputs": [
        {
          "output_type": "display_data",
          "data": {
            "text/html": [
              "<table class=\"dataframe\">\n",
              "<caption>A data.frame: 5 × 3</caption>\n",
              "<thead>\n",
              "\t<tr><th scope=col>ID</th><th scope=col>mood</th><th scope=col>score</th></tr>\n",
              "\t<tr><th scope=col>&lt;int&gt;</th><th scope=col>&lt;chr&gt;</th><th scope=col>&lt;chr&gt;</th></tr>\n",
              "</thead>\n",
              "<tbody>\n",
              "\t<tr><td>1</td><td>happy</td><td>low   </td></tr>\n",
              "\t<tr><td>2</td><td>happy</td><td>medium</td></tr>\n",
              "\t<tr><td>3</td><td>sad  </td><td>high  </td></tr>\n",
              "\t<tr><td>4</td><td>NA   </td><td>high  </td></tr>\n",
              "\t<tr><td>5</td><td>sad  </td><td>low   </td></tr>\n",
              "</tbody>\n",
              "</table>\n"
            ],
            "text/markdown": "\nA data.frame: 5 × 3\n\n| ID &lt;int&gt; | mood &lt;chr&gt; | score &lt;chr&gt; |\n|---|---|---|\n| 1 | happy | low    |\n| 2 | happy | medium |\n| 3 | sad   | high   |\n| 4 | NA    | high   |\n| 5 | sad   | low    |\n\n",
            "text/latex": "A data.frame: 5 × 3\n\\begin{tabular}{lll}\n ID & mood & score\\\\\n <int> & <chr> & <chr>\\\\\n\\hline\n\t 1 & happy & low   \\\\\n\t 2 & happy & medium\\\\\n\t 3 & sad   & high  \\\\\n\t 4 & NA    & high  \\\\\n\t 5 & sad   & low   \\\\\n\\end{tabular}\n",
            "text/plain": [
              "  ID mood  score \n",
              "1 1  happy low   \n",
              "2 2  happy medium\n",
              "3 3  sad   high  \n",
              "4 4  NA    high  \n",
              "5 5  sad   low   "
            ]
          },
          "metadata": {}
        }
      ]
    },
    {
      "cell_type": "markdown",
      "source": [
        "We could store all of this data numerically. We could convert each variable into a numeric variable, for example,"
      ],
      "metadata": {
        "id": "4jzIF7__7xLR"
      }
    },
    {
      "cell_type": "code",
      "source": [
        "# assign mood and score responses as numeric\n",
        "numeric_mood<-as.numeric(mood==\"happy\")\n",
        "score<-factor(score, levels=c(\"low\", \"medium\", \"high\"))\n",
        "numeric_score<-as.numeric(score)\n",
        "# assign the dataframe\n",
        "my_numeric_dataframe<-data.frame(ID, numeric_mood, numeric_score)\n",
        "# display my_numeric_dataframe\n",
        "my_numeric_dataframe"
      ],
      "metadata": {
        "colab": {
          "base_uri": "https://localhost:8080/",
          "height": 255
        },
        "id": "wLSzjoYO7-r6",
        "outputId": "6a9c28a2-e950-4d53-c94c-e884e8b95b92"
      },
      "execution_count": null,
      "outputs": [
        {
          "output_type": "display_data",
          "data": {
            "text/html": [
              "<table class=\"dataframe\">\n",
              "<caption>A data.frame: 5 × 3</caption>\n",
              "<thead>\n",
              "\t<tr><th scope=col>ID</th><th scope=col>numeric_mood</th><th scope=col>numeric_score</th></tr>\n",
              "\t<tr><th scope=col>&lt;int&gt;</th><th scope=col>&lt;dbl&gt;</th><th scope=col>&lt;dbl&gt;</th></tr>\n",
              "</thead>\n",
              "<tbody>\n",
              "\t<tr><td>1</td><td> 1</td><td>1</td></tr>\n",
              "\t<tr><td>2</td><td> 1</td><td>2</td></tr>\n",
              "\t<tr><td>3</td><td> 0</td><td>3</td></tr>\n",
              "\t<tr><td>4</td><td>NA</td><td>3</td></tr>\n",
              "\t<tr><td>5</td><td> 0</td><td>1</td></tr>\n",
              "</tbody>\n",
              "</table>\n"
            ],
            "text/markdown": "\nA data.frame: 5 × 3\n\n| ID &lt;int&gt; | numeric_mood &lt;dbl&gt; | numeric_score &lt;dbl&gt; |\n|---|---|---|\n| 1 |  1 | 1 |\n| 2 |  1 | 2 |\n| 3 |  0 | 3 |\n| 4 | NA | 3 |\n| 5 |  0 | 1 |\n\n",
            "text/latex": "A data.frame: 5 × 3\n\\begin{tabular}{lll}\n ID & numeric\\_mood & numeric\\_score\\\\\n <int> & <dbl> & <dbl>\\\\\n\\hline\n\t 1 &  1 & 1\\\\\n\t 2 &  1 & 2\\\\\n\t 3 &  0 & 3\\\\\n\t 4 & NA & 3\\\\\n\t 5 &  0 & 1\\\\\n\\end{tabular}\n",
            "text/plain": [
              "  ID numeric_mood numeric_score\n",
              "1 1   1           1            \n",
              "2 2   1           2            \n",
              "3 3   0           3            \n",
              "4 4  NA           3            \n",
              "5 5   0           1            "
            ]
          },
          "metadata": {}
        }
      ]
    },
    {
      "cell_type": "markdown",
      "source": [
        "or we could make use of the `stringasfactor` option,"
      ],
      "metadata": {
        "id": "KlM3jF7rscro"
      }
    },
    {
      "cell_type": "code",
      "source": [
        "# use the stringasfactor option in my_dataframe\n",
        "my_dataframe<-data.frame(ID, mood, score, stringsAsFactors = TRUE)\n",
        "# display my_dataframe\n",
        "my_dataframe"
      ],
      "metadata": {
        "colab": {
          "base_uri": "https://localhost:8080/",
          "height": 255
        },
        "id": "rXlfTqN9skgo",
        "outputId": "56e43148-0f95-495e-b2a6-f8abfaf6aace"
      },
      "execution_count": null,
      "outputs": [
        {
          "output_type": "display_data",
          "data": {
            "text/html": [
              "<table class=\"dataframe\">\n",
              "<caption>A data.frame: 5 × 3</caption>\n",
              "<thead>\n",
              "\t<tr><th scope=col>ID</th><th scope=col>mood</th><th scope=col>score</th></tr>\n",
              "\t<tr><th scope=col>&lt;int&gt;</th><th scope=col>&lt;fct&gt;</th><th scope=col>&lt;fct&gt;</th></tr>\n",
              "</thead>\n",
              "<tbody>\n",
              "\t<tr><td>1</td><td>happy</td><td>low   </td></tr>\n",
              "\t<tr><td>2</td><td>happy</td><td>medium</td></tr>\n",
              "\t<tr><td>3</td><td>sad  </td><td>high  </td></tr>\n",
              "\t<tr><td>4</td><td>NA   </td><td>high  </td></tr>\n",
              "\t<tr><td>5</td><td>sad  </td><td>low   </td></tr>\n",
              "</tbody>\n",
              "</table>\n"
            ],
            "text/markdown": "\nA data.frame: 5 × 3\n\n| ID &lt;int&gt; | mood &lt;fct&gt; | score &lt;fct&gt; |\n|---|---|---|\n| 1 | happy | low    |\n| 2 | happy | medium |\n| 3 | sad   | high   |\n| 4 | NA    | high   |\n| 5 | sad   | low    |\n\n",
            "text/latex": "A data.frame: 5 × 3\n\\begin{tabular}{lll}\n ID & mood & score\\\\\n <int> & <fct> & <fct>\\\\\n\\hline\n\t 1 & happy & low   \\\\\n\t 2 & happy & medium\\\\\n\t 3 & sad   & high  \\\\\n\t 4 & NA    & high  \\\\\n\t 5 & sad   & low   \\\\\n\\end{tabular}\n",
            "text/plain": [
              "  ID mood  score \n",
              "1 1  happy low   \n",
              "2 2  happy medium\n",
              "3 3  sad   high  \n",
              "4 4  NA    high  \n",
              "5 5  sad   low   "
            ]
          },
          "metadata": {}
        }
      ]
    },
    {
      "cell_type": "markdown",
      "source": [
        "```{tip}\n",
        "This second option allows us to see the raw data inputs but the computer stores them in a memory efficient way.\n",
        "```"
      ],
      "metadata": {
        "id": "2UqG8NIx96c0"
      }
    },
    {
      "cell_type": "markdown",
      "source": [
        "A quick way to see the variables (column headers) used in your dataframe is to use `names()`, for example:"
      ],
      "metadata": {
        "id": "SvGg8t_m-2gN"
      }
    },
    {
      "cell_type": "code",
      "source": [
        "# ask for the column/variable names from my_numeric_dataframe\n",
        "cat(\"The variables in my_dataframe are:\", names(my_numeric_dataframe), \"\\n\")"
      ],
      "metadata": {
        "colab": {
          "base_uri": "https://localhost:8080/"
        },
        "id": "8TrqnNMY-_Ia",
        "outputId": "b036a5c0-0061-416a-8337-5b0ec3679148"
      },
      "execution_count": null,
      "outputs": [
        {
          "output_type": "stream",
          "name": "stdout",
          "text": [
            "The variables in my_dataframe are: ID numeric_mood numeric_score \n"
          ]
        }
      ]
    },
    {
      "cell_type": "markdown",
      "source": [
        "```{note}\n",
        "You can also change the variable names using the `names()` function.\n",
        "```"
      ],
      "metadata": {
        "id": "PIR5nL-JqWJf"
      }
    },
    {
      "cell_type": "code",
      "source": [
        "# Rename numeric_mood to mood and numeric_score to score\n",
        "names(my_numeric_dataframe)[names(my_numeric_dataframe) == \"numeric_mood\"] <- \"mood\"\n",
        "names(my_numeric_dataframe)[names(my_numeric_dataframe) == \"numeric_score\"] <- \"score\"\n",
        "# display the dataframe\n",
        "my_numeric_dataframe"
      ],
      "metadata": {
        "colab": {
          "base_uri": "https://localhost:8080/",
          "height": 255
        },
        "id": "d8LftYycrEh_",
        "outputId": "e4631c43-3def-435d-ed65-db7ee85f940e"
      },
      "execution_count": null,
      "outputs": [
        {
          "output_type": "display_data",
          "data": {
            "text/html": [
              "<table class=\"dataframe\">\n",
              "<caption>A data.frame: 5 × 3</caption>\n",
              "<thead>\n",
              "\t<tr><th scope=col>ID</th><th scope=col>mood</th><th scope=col>score</th></tr>\n",
              "\t<tr><th scope=col>&lt;int&gt;</th><th scope=col>&lt;dbl&gt;</th><th scope=col>&lt;dbl&gt;</th></tr>\n",
              "</thead>\n",
              "<tbody>\n",
              "\t<tr><td>1</td><td> 1</td><td>1</td></tr>\n",
              "\t<tr><td>2</td><td> 1</td><td>2</td></tr>\n",
              "\t<tr><td>3</td><td> 0</td><td>3</td></tr>\n",
              "\t<tr><td>4</td><td>NA</td><td>3</td></tr>\n",
              "\t<tr><td>5</td><td> 0</td><td>1</td></tr>\n",
              "</tbody>\n",
              "</table>\n"
            ],
            "text/markdown": "\nA data.frame: 5 × 3\n\n| ID &lt;int&gt; | mood &lt;dbl&gt; | score &lt;dbl&gt; |\n|---|---|---|\n| 1 |  1 | 1 |\n| 2 |  1 | 2 |\n| 3 |  0 | 3 |\n| 4 | NA | 3 |\n| 5 |  0 | 1 |\n\n",
            "text/latex": "A data.frame: 5 × 3\n\\begin{tabular}{lll}\n ID & mood & score\\\\\n <int> & <dbl> & <dbl>\\\\\n\\hline\n\t 1 &  1 & 1\\\\\n\t 2 &  1 & 2\\\\\n\t 3 &  0 & 3\\\\\n\t 4 & NA & 3\\\\\n\t 5 &  0 & 1\\\\\n\\end{tabular}\n",
            "text/plain": [
              "  ID mood score\n",
              "1 1   1   1    \n",
              "2 2   1   2    \n",
              "3 3   0   3    \n",
              "4 4  NA   3    \n",
              "5 5   0   1    "
            ]
          },
          "metadata": {}
        }
      ]
    },
    {
      "cell_type": "markdown",
      "source": [
        "## Importing/Exporting Data"
      ],
      "metadata": {
        "id": "uzA9TEUDUCZG"
      }
    },
    {
      "cell_type": "markdown",
      "source": [
        "There are a variety of different ways to read data into R, since there are a variety of different ways to save and store data. One of the more common ways to save data is as a CSV (comma delimited file). We can read such into R using the `read_csv` function from the `tidyverse` package.\n",
        "\n",
        "It may be that you are creating your own data and storing this in an excel spreadsheet. You can easily create a CSV file from excel by going to File->Save As and selecting CSV from the File Format dropdown menu. If you are creating your own data use the first row to store sensible, short but informative column headings which will become the name of your variables in R."
      ],
      "metadata": {
        "id": "GqmtdhYrUIM9"
      }
    },
    {
      "cell_type": "markdown",
      "source": [
        "This is a very brief introduction to the basics of R. Carry on with Task 2 in the guided study to get some more hands on practise."
      ],
      "metadata": {
        "id": "mJe97v79YTNX"
      }
    }
  ]
}