{
  "nbformat": 4,
  "nbformat_minor": 0,
  "metadata": {
    "colab": {
      "provenance": []
    },
    "kernelspec": {
      "name": "ir",
      "display_name": "R"
    },
    "language_info": {
      "name": "R"
    }
  },
  "cells": [
    {
      "cell_type": "markdown",
      "source": [
        "# An Introduction to R"
      ],
      "metadata": {
        "id": "MJw3giiDNvqp"
      }
    },
    {
      "cell_type": "markdown",
      "source": [
        "R is a language and environment for statistical computing and graphics. You can read more about it [here](https://www.r-project.org/about.html).\n",
        "\n",
        "In this Notebook we will point out **some** useful basics of R to help you get started. If you want to learn more then there are a variety of resourses listed in the references section.\n",
        "\n",
        "We will be assuming you are following along using RStudio, but you can also interact with the code by clicking the rocket launch button to open this is Google Colab.\n",
        "\n",
        "To get started (having downloaded R and RStudio) open up RStudio and open a new R Script (e.g. File->New File->R Script) and save it (e.g. as **RBasics.R**)."
      ],
      "metadata": {
        "id": "3-1nfhWDN5c0"
      }
    },
    {
      "cell_type": "markdown",
      "source": [
        "## Getting to know R/RStudio"
      ],
      "metadata": {
        "id": "a_dbK-GS735s"
      }
    },
    {
      "cell_type": "markdown",
      "source": [
        "When you are working in R Studio you should see that the window is split into four panels. Commonly this will be:\n",
        "* top left - any current script(s) (e.g. our RBasics.R script)\n",
        "* bottom left - a console for experimental commands and any R output\n",
        "* top right - the working environment with any saved variables or data structures\n",
        "* bottom right - extras such as a files tab and R Help"
      ],
      "metadata": {
        "id": "-y4MnA868VvX"
      }
    },
    {
      "cell_type": "markdown",
      "source": [
        "![panels](./images/panels.png)"
      ],
      "metadata": {
        "id": "skM3l1wDDJhz"
      }
    },
    {
      "cell_type": "markdown",
      "source": [
        "### The Console"
      ],
      "metadata": {
        "id": "37SKKQWoEtrS"
      }
    },
    {
      "cell_type": "markdown",
      "source": [
        "If you want to test out a line of code (commands) you can run it in the console before copying it to your script. Some useful features:\n",
        "* You can use your keyboards up/down arrows to scroll back through previous commands.\n",
        "* You can use `^R` to search your command history.\n",
        "* You can clear the console using `^L`.\n",
        "\n",
        "```{tip}\n",
        "You can also use the console to access R's help guides (which will appear in the bottom right panel).\n",
        "\n",
        "You can search R's documentation for a keyword by typing `??keyword`. You can get help on a particular function or package by typing `?function`.\n",
        "```"
      ],
      "metadata": {
        "id": "TSQIs8adFOEq"
      }
    },
    {
      "cell_type": "code",
      "source": [
        "# asking R to search its documentation for the keyword \"mean\"\n",
        "??mean\n",
        "# asking R to provide help on the function mean\n",
        "?mean"
      ],
      "metadata": {
        "id": "Fn7LrfwDtNw-"
      },
      "execution_count": null,
      "outputs": []
    },
    {
      "cell_type": "markdown",
      "source": [
        "## Preamble"
      ],
      "metadata": {
        "id": "Jrfju1lFR1gO"
      }
    },
    {
      "cell_type": "markdown",
      "source": [
        "Our script is where we will write and execute our code. Lets start our script **RBasics.R** by adding some preamble.\n",
        "\n",
        "In RStudio you can create (collapsible) sections to keep your code organised. To create a section in R Studio go to Code->Insert Section, a pop up box will appear for you to name your section. We will start by creating a section called \"Preamble\". Once you click ok you should get something that looks like this:"
      ],
      "metadata": {
        "id": "_erRi0CzR4y-"
      }
    },
    {
      "cell_type": "code",
      "source": [
        "# Preamble ----------------------------------------------------------------"
      ],
      "metadata": {
        "id": "eKAdAeOKRrDk"
      },
      "execution_count": null,
      "outputs": []
    },
    {
      "cell_type": "markdown",
      "source": [
        "```{tip}\n",
        "The symbol # is used to indicate a comment in R. This is a line which R will skip over and not try to run as code. The best codes are well commented, so feel free to add your own comments to your code to help you understand it.\n",
        "```"
      ],
      "metadata": {
        "id": "YT6e_UOC9zK1"
      }
    },
    {
      "cell_type": "markdown",
      "source": [
        "### Documentation"
      ],
      "metadata": {
        "id": "iMou7aCf6gZX"
      }
    },
    {
      "cell_type": "markdown",
      "source": [
        "You may wish to start your code with some documentation. This could look something like:"
      ],
      "metadata": {
        "id": "AlwrvxvmSfHG"
      }
    },
    {
      "cell_type": "code",
      "source": [
        "# Author: [Your Name]\n",
        "# Date: [Date]\n",
        "# Description: [Brief description of what the script does]"
      ],
      "metadata": {
        "id": "PNlFW5KaTMvV"
      },
      "execution_count": null,
      "outputs": []
    },
    {
      "cell_type": "markdown",
      "source": [
        "### Install/Load Packages"
      ],
      "metadata": {
        "id": "dGbaAiFB6mfX"
      }
    },
    {
      "cell_type": "markdown",
      "source": [
        "Next you will need to install/load packages. We **install** packages in R once. We **load** packages we are going to use everytime we open/start R."
      ],
      "metadata": {
        "id": "1R8l7ozFNmK_"
      }
    },
    {
      "cell_type": "code",
      "source": [
        "# Install your packages (first use only)\n",
        "# install.packages(\"tidyverse\")\n",
        "\n",
        "# Load your packages (everytime you restart R)\n",
        "library(tidyverse)"
      ],
      "metadata": {
        "colab": {
          "base_uri": "https://localhost:8080/"
        },
        "id": "2UgGssr6NwTn",
        "outputId": "6b6fb3af-df52-43e8-852a-13f2aba80159"
      },
      "execution_count": null,
      "outputs": [
        {
          "output_type": "stream",
          "name": "stderr",
          "text": [
            "── \u001b[1mAttaching core tidyverse packages\u001b[22m ──────────────────────── tidyverse 2.0.0 ──\n",
            "\u001b[32m✔\u001b[39m \u001b[34mdplyr    \u001b[39m 1.1.4     \u001b[32m✔\u001b[39m \u001b[34mreadr    \u001b[39m 2.1.5\n",
            "\u001b[32m✔\u001b[39m \u001b[34mforcats  \u001b[39m 1.0.0     \u001b[32m✔\u001b[39m \u001b[34mstringr  \u001b[39m 1.5.1\n",
            "\u001b[32m✔\u001b[39m \u001b[34mggplot2  \u001b[39m 3.5.1     \u001b[32m✔\u001b[39m \u001b[34mtibble   \u001b[39m 3.2.1\n",
            "\u001b[32m✔\u001b[39m \u001b[34mlubridate\u001b[39m 1.9.4     \u001b[32m✔\u001b[39m \u001b[34mtidyr    \u001b[39m 1.3.1\n",
            "\u001b[32m✔\u001b[39m \u001b[34mpurrr    \u001b[39m 1.0.4     \n",
            "── \u001b[1mConflicts\u001b[22m ────────────────────────────────────────── tidyverse_conflicts() ──\n",
            "\u001b[31m✖\u001b[39m \u001b[34mdplyr\u001b[39m::\u001b[32mfilter()\u001b[39m masks \u001b[34mstats\u001b[39m::filter()\n",
            "\u001b[31m✖\u001b[39m \u001b[34mdplyr\u001b[39m::\u001b[32mlag()\u001b[39m    masks \u001b[34mstats\u001b[39m::lag()\n",
            "\u001b[36mℹ\u001b[39m Use the conflicted package (\u001b[3m\u001b[34m<http://conflicted.r-lib.org/>\u001b[39m\u001b[23m) to force all conflicts to become errors\n"
          ]
        }
      ]
    },
    {
      "cell_type": "markdown",
      "source": [
        "```{tip}\n",
        "There are thousands of R packages many of which you will never use and a handful of which you will use all the time. We will try to point you to the most relevant but you will also find more information in the references section.\n",
        "```"
      ],
      "metadata": {
        "id": "h9OUt2htYHPd"
      }
    },
    {
      "cell_type": "markdown",
      "source": [
        "### Clear R Environment"
      ],
      "metadata": {
        "id": "XWPtZdXZ6q_v"
      }
    },
    {
      "cell_type": "markdown",
      "source": [
        "A common line you will often see in the Preamble of R codes is one which will clear the current workspace/environment."
      ],
      "metadata": {
        "id": "bDhiedxlUaIc"
      }
    },
    {
      "cell_type": "code",
      "source": [
        "# Clear everything from the environment\n",
        "rm(list = ls())"
      ],
      "metadata": {
        "id": "zBofaWdWU5aX"
      },
      "execution_count": null,
      "outputs": []
    },
    {
      "cell_type": "markdown",
      "source": [
        "```{caution}\n",
        "This will delete/unassign all of the varaibles and data structures you have created so only use it if you wont lose something from the environment you will need.\n",
        "```"
      ],
      "metadata": {
        "id": "uTNa2ITk7Rg1"
      }
    },
    {
      "cell_type": "markdown",
      "source": [
        "### Set Working Directory"
      ],
      "metadata": {
        "id": "0qaZPpic6wvJ"
      }
    },
    {
      "cell_type": "markdown",
      "source": [
        "It may keep things streamlined if you set the path to your preferred working directory. Imagine you have a folder called **DataProject** sitting in your **Documents** folder. By setting the path to point to that folder automatically means that inputs will be taken from this folder and outputs will be put there."
      ],
      "metadata": {
        "id": "Ovz5y6WTURyM"
      }
    },
    {
      "cell_type": "code",
      "source": [
        "# Set working directory using setwd(\"path/to/your/directory\")\n",
        "# setwd(\"~/Documents/DataProject\")"
      ],
      "metadata": {
        "id": "0Deog-e-VsIC"
      },
      "execution_count": null,
      "outputs": []
    },
    {
      "cell_type": "markdown",
      "source": [
        "## Basic Operations and Print Statements"
      ],
      "metadata": {
        "id": "P9hbGRmKoZVu"
      }
    },
    {
      "cell_type": "markdown",
      "source": [
        "Lets set up another section within our R script and call it **The Basics**"
      ],
      "metadata": {
        "id": "O3mLXJTZ0lrw"
      }
    },
    {
      "cell_type": "code",
      "source": [
        "# The Basics --------------------------------------------------------------"
      ],
      "metadata": {
        "id": "GD7exy_o0wY6"
      },
      "execution_count": null,
      "outputs": []
    },
    {
      "cell_type": "markdown",
      "source": [
        "### Basic Operations"
      ],
      "metadata": {
        "id": "Gh9IOcZNMKkq"
      }
    },
    {
      "cell_type": "markdown",
      "source": [
        "Let's have a play with some very basic functions. Most of these are unremarkable:\n",
        "* to add numbers use `+`\n",
        "* to subtract numbers use `-`\n",
        "* to multiply numbers use `*`\n",
        "* to divide numbers use `/`\n",
        "* to find powers use `^`\n",
        "* to calculate the square root use `sqrt()`\n",
        "* to calculate the sum use `sum()`\n",
        "* to calculate the mean use `mean()`\n",
        "* to round numbers use `round()`\n",
        "\n",
        "There are many other simple functions such as the exponential function `exp()` and the natural logarithmic function `log()`."
      ],
      "metadata": {
        "id": "WEGJrqZyMOLZ"
      }
    },
    {
      "cell_type": "code",
      "source": [
        "# a simple mathematical calculation using basic operations\n",
        "1+2*2+3^2-4/2-sqrt(4)"
      ],
      "metadata": {
        "colab": {
          "base_uri": "https://localhost:8080/",
          "height": 0
        },
        "id": "IBCfO0XFMVEG",
        "outputId": "e91cdbf0-0ee7-4f82-a241-cee5a1c3b988"
      },
      "execution_count": 16,
      "outputs": [
        {
          "output_type": "display_data",
          "data": {
            "text/html": [
              "10"
            ],
            "text/markdown": "10",
            "text/latex": "10",
            "text/plain": [
              "[1] 10"
            ]
          },
          "metadata": {}
        }
      ]
    },
    {
      "cell_type": "markdown",
      "source": [
        "```{note}\n",
        "R, like most coding languages, follows the traditional mathematical rules of precedence, which are the same as [BIDMAS](https://www.bbc.co.uk/bitesize/articles/znm8cmn#:~:text=BIDMAS%20is%20an%20acronym%20used,%2C%20Multiplication%2C%20Addition%2C%20Subtraction.).\n",
        "```"
      ],
      "metadata": {
        "id": "gU9_k6FCxM0Y"
      }
    },
    {
      "cell_type": "markdown",
      "source": [
        "### Print Statements"
      ],
      "metadata": {
        "id": "ajPxqk4eNz-d"
      }
    },
    {
      "cell_type": "markdown",
      "source": [
        "Print statements, like comments, are very useful when coding. Although you can make use of the simple print function `print`, we would recommend the concatenate and print function `cat`. Here's how it works:"
      ],
      "metadata": {
        "id": "9X3KdioYocgL"
      }
    },
    {
      "cell_type": "code",
      "source": [
        "# an example of a simple print statement in R\n",
        "cat(\"The sum of the first ten numbers is:\", sum(1:10), \"\\n\")"
      ],
      "metadata": {
        "colab": {
          "base_uri": "https://localhost:8080/"
        },
        "id": "Kc1U0b0DpLcf",
        "outputId": "d1b7224e-0bdd-4639-b6a8-3d6da05c5363"
      },
      "execution_count": 18,
      "outputs": [
        {
          "output_type": "stream",
          "name": "stdout",
          "text": [
            "The sum of the first ten numbers is: 55 \n"
          ]
        }
      ]
    },
    {
      "cell_type": "markdown",
      "source": [
        "Anything you want R to print verbatim you put inside \"\" and anything else must either be an object or some function or operation which R can carry out. The final \"\\n\" tells are to start a new line on ending the statement."
      ],
      "metadata": {
        "id": "-byhhUpdqN2r"
      }
    },
    {
      "cell_type": "markdown",
      "source": [
        "## Objects in R"
      ],
      "metadata": {
        "id": "Wx4icDUbI_6x"
      }
    },
    {
      "cell_type": "markdown",
      "source": [
        "### Assigning Objects"
      ],
      "metadata": {
        "id": "v2tLVBIE9zDe"
      }
    },
    {
      "cell_type": "markdown",
      "source": [
        "Objects in R are essentially containers. They may contain single peices of data (e.g. a variable) or be more complex structures of data (e.g. lists and data frames). Objects are created by **assigning** the data to that object using `<-`.\n",
        "\n",
        "```{note}\n",
        "There are actually no less than five different assignment operators as per this [documentation](https://stat.ethz.ch/R-manual/R-patched/library/base/html/assignOps.html). However, at a basic level using `<-` will serve you well.    \n",
        "```\n",
        "\n",
        "Lets set up a section called **Objects in R** and look at some examples."
      ],
      "metadata": {
        "id": "zrvpyPgsJMvX"
      }
    },
    {
      "cell_type": "code",
      "source": [
        "# Objects in R ------------------------------------------------------------\n",
        "\n",
        "# assign the value 16 to the object my_variable\n",
        "my_variable<-16\n",
        "# assign a set of values {1,2,3} to the object my_set\n",
        "my_set<-c(1,2,3)\n",
        "# assign a set of values {1,2,3} to the object my_list\n",
        "my_list<-list(1,2,3)\n",
        "# assign a set of sets {1,2,3} and {\"A\", \"B\", \"C\", \"D\"} to the object my_listofsets(2)\n",
        "my_listofsets<-list(c(1,2,3),c(\"A\",\"B\",\"C\",\"D\"))\n",
        "my_listofsets2<-list(my_set1=c(1,2,3),my_set2=c(\"A\",\"B\",\"C\",\"D\"))\n",
        "# assign a table of data to the object my_dataframe\n",
        "my_dataframe<-data.frame(my_column1=c(1,2,3), my_column2=c(\"yes\",\"no\",\"maybe\"))"
      ],
      "metadata": {
        "id": "5Cy9FdfeX9V1"
      },
      "execution_count": 11,
      "outputs": []
    },
    {
      "cell_type": "markdown",
      "source": [
        "After doing this our environment panel should look like this:\n",
        "\n",
        "![environment](./images/environment.png)"
      ],
      "metadata": {
        "id": "RNbvh1IU3Rqu"
      }
    },
    {
      "cell_type": "markdown",
      "source": [
        "Alternatively you can get R to list all the currently assigned objects using `ls()`. We saw above that `rm(list = ls())` will remove (and de-assign) all of the objects in the current session. You can remove/deassign individual objects using, for example, `rm(my_variable)`."
      ],
      "metadata": {
        "id": "E2S5Y7-a9VRu"
      }
    },
    {
      "cell_type": "markdown",
      "source": [
        "Looking at the environment panel we first note the difference between `my_set` and `my_list`. We can explore the difference by trying to calculate the mean of each:"
      ],
      "metadata": {
        "id": "ZgPrFcqI3dC1"
      }
    },
    {
      "cell_type": "code",
      "source": [
        "# calculating the mean of the values given by my_set\n",
        "mean(my_set)\n",
        "# attempting to calculate the mean of the values given by my_list\n",
        "mean(my_list)"
      ],
      "metadata": {
        "colab": {
          "base_uri": "https://localhost:8080/",
          "height": 87
        },
        "id": "ELc6CcCM4iuE",
        "outputId": "c468a865-a078-4705-8255-172f55a3cf60"
      },
      "execution_count": 10,
      "outputs": [
        {
          "output_type": "display_data",
          "data": {
            "text/html": [
              "2"
            ],
            "text/markdown": "2",
            "text/latex": "2",
            "text/plain": [
              "[1] 2"
            ]
          },
          "metadata": {}
        },
        {
          "output_type": "stream",
          "name": "stderr",
          "text": [
            "Warning message in mean.default(my_list):\n",
            "“argument is not numeric or logical: returning NA”\n"
          ]
        },
        {
          "output_type": "display_data",
          "data": {
            "text/html": [
              "&lt;NA&gt;"
            ],
            "text/markdown": "&lt;NA&gt;",
            "text/latex": "<NA>",
            "text/plain": [
              "[1] NA"
            ]
          },
          "metadata": {}
        }
      ]
    },
    {
      "cell_type": "markdown",
      "source": [
        "Second we note the difference between `my_listofsets` and `my_listofsets2`. The following helps us to explore the differences:\n"
      ],
      "metadata": {
        "id": "zziUEMOQ6ccF"
      }
    },
    {
      "cell_type": "code",
      "source": [
        "# attempting to calculate the mean of the values given by my_listofsets\n",
        "mean(my_listofsets)\n",
        "# attempting to calculate the mean of the values given by my_listofsets2\n",
        "mean(my_listofsets2)\n",
        "# calculating the mean of the values given by the first set within my_listofsets2\n",
        "mean(my_listofsets2$my_set1)\n",
        "# attempting to calculate the mean of the values given by the second set within my_listofsets2\n",
        "mean(my_listofsets2$my_set2)"
      ],
      "metadata": {
        "colab": {
          "base_uri": "https://localhost:8080/",
          "height": 194
        },
        "id": "s6bwf4sF7Ony",
        "outputId": "1ef048b3-4323-4711-ec33-86c15c90b239"
      },
      "execution_count": 13,
      "outputs": [
        {
          "output_type": "stream",
          "name": "stderr",
          "text": [
            "Warning message in mean.default(my_listofsets):\n",
            "“argument is not numeric or logical: returning NA”\n"
          ]
        },
        {
          "output_type": "display_data",
          "data": {
            "text/html": [
              "&lt;NA&gt;"
            ],
            "text/markdown": "&lt;NA&gt;",
            "text/latex": "<NA>",
            "text/plain": [
              "[1] NA"
            ]
          },
          "metadata": {}
        },
        {
          "output_type": "stream",
          "name": "stderr",
          "text": [
            "Warning message in mean.default(my_listofsets2):\n",
            "“argument is not numeric or logical: returning NA”\n"
          ]
        },
        {
          "output_type": "display_data",
          "data": {
            "text/html": [
              "&lt;NA&gt;"
            ],
            "text/markdown": "&lt;NA&gt;",
            "text/latex": "<NA>",
            "text/plain": [
              "[1] NA"
            ]
          },
          "metadata": {}
        },
        {
          "output_type": "display_data",
          "data": {
            "text/html": [
              "2"
            ],
            "text/markdown": "2",
            "text/latex": "2",
            "text/plain": [
              "[1] 2"
            ]
          },
          "metadata": {}
        },
        {
          "output_type": "stream",
          "name": "stderr",
          "text": [
            "Warning message in mean.default(my_listofsets2$my_set2):\n",
            "“argument is not numeric or logical: returning NA”\n"
          ]
        },
        {
          "output_type": "display_data",
          "data": {
            "text/html": [
              "&lt;NA&gt;"
            ],
            "text/markdown": "&lt;NA&gt;",
            "text/latex": "<NA>",
            "text/plain": [
              "[1] NA"
            ]
          },
          "metadata": {}
        }
      ]
    },
    {
      "cell_type": "markdown",
      "source": [
        "```{note}\n",
        "A list can contain sets of different length as we can see above. In a dataframe every column must have the same length.\n",
        "```"
      ],
      "metadata": {
        "id": "hS9v-MWCnFwa"
      }
    },
    {
      "cell_type": "code",
      "source": [
        "#attempting to create a dataframe with different length columns\n",
        "my_dataframe<-data.frame(my_column1=c(1,2,3), my_column2=c(\"A\",\"B\",\"C\",\"D\"))"
      ],
      "metadata": {
        "id": "dlZpF8Tt8on_"
      },
      "execution_count": null,
      "outputs": []
    },
    {
      "cell_type": "markdown",
      "source": [
        "### Types of Objects"
      ],
      "metadata": {
        "id": "Pi9Ekdc2tRpp"
      }
    }
  ]
}