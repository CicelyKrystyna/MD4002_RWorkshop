{
  "cells": [
    {
      "cell_type": "markdown",
      "id": "050ee430-68fa-4f4b-ae7b-1f5051c05dc0",
      "metadata": {
        "jp-MarkdownHeadingCollapsed": true,
        "id": "050ee430-68fa-4f4b-ae7b-1f5051c05dc0"
      },
      "source": [
        "# Data Workflow"
      ]
    },
    {
      "cell_type": "markdown",
      "id": "ec2ad8fa-bc9d-4252-abaf-544aeb293958",
      "metadata": {
        "jp-MarkdownHeadingCollapsed": true,
        "id": "ec2ad8fa-bc9d-4252-abaf-544aeb293958"
      },
      "source": [
        "The main workflow for any data analysis project involves the following:\n",
        "\n",
        "* R Set-up (loading relevant packages and data)\n",
        "* Data Wrangling (cleaning and preparation)\n",
        "* Visualisations (tables and graphs)\n",
        "* Analysis (modelling or other technical analysis)\n",
        "* Assumption checking\n",
        "\n",
        "```{note}\n",
        "Advanced statistical analysis is beyond the scope of this workshop.\n",
        "```"
      ]
    },
    {
      "cell_type": "markdown",
      "id": "df433e83-40db-4c6b-9635-f8e4458606db",
      "metadata": {
        "id": "df433e83-40db-4c6b-9635-f8e4458606db"
      },
      "source": [
        "<a id=\"scenario\"></a>\n",
        "## Scenario"
      ]
    },
    {
      "cell_type": "markdown",
      "id": "4e5b191a-9371-4622-8e54-89ae927d3297",
      "metadata": {
        "id": "4e5b191a-9371-4622-8e54-89ae927d3297"
      },
      "source": [
        "We are a part of a research team conducting a study that aims to understand if there is an association between the average number of hours an individual sleeps each night `[sleep_hrs_night]` and the development of hypertension\n",
        "`[hypertension]` in adults aged 40 years `[age]` or older. The research team believes that the following factors could obscure such an association, and as such should be adjusted for:\n",
        "\n",
        "* Average daily alcohol consumption `[alcohol_day]`\n",
        "* Regular use of marijuana `[regular_marij]`\n",
        "* Is participant currently a smoker `[smoke_now]`\n",
        "* Is participant regularly physically active `[phys_active]`\n",
        "* BMI Group (underweight, healthy, overweight, obese) `[bmi]`\n",
        "\n",
        "To answer this research question, we will use the US National Health and Nutrition Examination Survey (NHANES) provided within the data file `sleep.csv.`\n",
        "\n",
        "\n",
        "```{note}\n",
        "The statistical methods for survey data are beyond the scope of this R workshop. As such we will treat this data as if it was collected from randomly selected individuals.\n",
        "```"
      ]
    },
    {
      "cell_type": "markdown",
      "id": "c3b4d7aa-2f7c-4b24-92f2-9dd3cbb12509",
      "metadata": {
        "id": "c3b4d7aa-2f7c-4b24-92f2-9dd3cbb12509"
      },
      "source": [
        "# R Set-up"
      ]
    },
    {
      "cell_type": "markdown",
      "id": "7afccdaf-4b29-491d-9bf4-a18d9b5cd476",
      "metadata": {
        "id": "7afccdaf-4b29-491d-9bf4-a18d9b5cd476"
      },
      "source": [
        "There are a few things you need to do every time you open R:\n",
        "\n",
        "* Install/Load packages\n",
        "* Read in data (import data into R)\n"
      ]
    },
    {
      "cell_type": "markdown",
      "source": [
        "## Install/Load Packages\n",
        "\n"
      ],
      "metadata": {
        "id": "WyOSqtDFdAld"
      },
      "id": "WyOSqtDFdAld"
    },
    {
      "cell_type": "markdown",
      "source": [
        "We **install** packages in R once. We **load** packages we are going to use everytime we open/start R. We recommended that you write the installation/load code at the top of your code script. This makes it easy to see what packages you used at a glance.\n",
        "\n",
        "```{tip}\n",
        "The symbol # is used to indicate a comment in R. This is a line which R will skip over and not try to run as code. The best codes are well commented.\n",
        "```"
      ],
      "metadata": {
        "id": "vAEc4IexdqI2"
      },
      "id": "vAEc4IexdqI2"
    },
    {
      "cell_type": "code",
      "execution_count": null,
      "id": "e69cddb8-6899-47cf-bf50-e6389dd432d4",
      "metadata": {
        "collapsed": true,
        "id": "e69cddb8-6899-47cf-bf50-e6389dd432d4"
      },
      "outputs": [],
      "source": [
        "# Install your packages (first use only)\n",
        "install.packages(\"tidyverse\")\n",
        "install.packages(\"janitor\")\n",
        "install.packages(\"gtsummary\")\n",
        "install.packages(\"broom.helpers\")\n",
        "\n",
        "# Load your packages (everytime you restart R)\n",
        "library(tidyverse)\n",
        "library(janitor)\n",
        "library(gtsummary)\n",
        "library(broom.helpers)"
      ]
    },
    {
      "cell_type": "markdown",
      "id": "cc9199be-a7d2-4964-a7a8-799df3736a70",
      "metadata": {
        "id": "cc9199be-a7d2-4964-a7a8-799df3736a70"
      },
      "source": [
        "## Load in your Data\n",
        "\n"
      ]
    },
    {
      "cell_type": "markdown",
      "source": [
        "There are a variety of different ways to read data into R, since there are a variety of different ways to save and store data. One of the more common ways to save data is as a CSV (comma delimited file).\n",
        "\n",
        "```{tip}\n",
        "You will need to know which directory (folder) you're working in and point correctly to the file sleep.csv. See [Path Setting](pathsetting.md) for additional information.\n",
        "```"
      ],
      "metadata": {
        "id": "r1eXAaxoixKQ"
      },
      "id": "r1eXAaxoixKQ"
    },
    {
      "cell_type": "code",
      "execution_count": null,
      "id": "56252157-ede8-4117-af38-2908388b8a17",
      "metadata": {
        "id": "56252157-ede8-4117-af38-2908388b8a17"
      },
      "outputs": [],
      "source": [
        "# Read in your data and assign this to a dataframe called sleep\n",
        "# A dataframe is the object R uses to store data sets\n",
        "sleep <- read_csv(\"sleep.csv\")"
      ]
    },
    {
      "cell_type": "markdown",
      "id": "bcc5ee1b-c23a-4add-9bcf-e7b908460972",
      "metadata": {
        "id": "bcc5ee1b-c23a-4add-9bcf-e7b908460972"
      },
      "source": [
        "```{note}\n",
        "Notice the message R prints out. It indicates the delimiter (,), the type of each column, and the row and column count.\n",
        "```\n",
        "\n",
        "```{tip}\n",
        "R automatically saves the first row from the .csv file as column names. Ensure only the first row and first row of your data file describe the variables.\n",
        "```"
      ]
    },
    {
      "cell_type": "markdown",
      "id": "e001c5bd-eb99-4b77-a76b-09d74baa4de2",
      "metadata": {
        "id": "e001c5bd-eb99-4b77-a76b-09d74baa4de2"
      },
      "source": [
        "# Data Wrangling"
      ]
    },
    {
      "cell_type": "markdown",
      "id": "415b3990-2a50-43aa-bf71-9738cecbc49b",
      "metadata": {
        "id": "415b3990-2a50-43aa-bf71-9738cecbc49b"
      },
      "source": [
        "## Viewing your data"
      ]
    },
    {
      "cell_type": "markdown",
      "id": "61c65cda-0692-43f7-8988-8cd6e194d1a1",
      "metadata": {
        "id": "61c65cda-0692-43f7-8988-8cd6e194d1a1"
      },
      "source": [
        "It is generally **good practice** to look at your data to scan for things that might need fixing, for example:\n",
        "\n",
        "* text in numerical cells (e.g. “six” vs 6)\n",
        "* odd characters (e.g. >, <, /, etc.)\n",
        "* inconsistent Date formats (e.g 01/16/2024, 16-1-24, Jan 16 2024, etc.)\n",
        "* coded variables (e.g. 99 = Missing)\n",
        "* typos (e.g. ys, yse)\n",
        "* inconsistent capitalisation or abbreviations (e.g. Yes, Y, yes)\n",
        "* misaligned/counterintuertive variable types\n",
        "\n",
        "```{note}\n",
        "Variables types include:\n",
        "* numeric: doubles (dbl) - decimals, or integers (int) - whole numbers\n",
        "* characters (chr) - text\n",
        "* logicals (lgl) - “TRUE” or “FALSE”\n",
        "* factors (fct) - categorical data stored as integers (e.g. Strongly Agree = 5)\n",
        "```\n",
        "\n",
        "```{Caution}\n",
        "It is **bad practice** to look at your data to determine patterns or to determine what research questions you should ask and test.\n",
        "```\n",
        "\n",
        "There are a couple of different ways you can look at your data:\n"
      ]
    },
    {
      "cell_type": "code",
      "source": [
        "# glimpse provides information on each column, it's name, type and the first few entries:\n",
        "glimpse(sleep)"
      ],
      "metadata": {
        "id": "n4avggPAfiCi"
      },
      "id": "n4avggPAfiCi",
      "execution_count": null,
      "outputs": []
    },
    {
      "cell_type": "code",
      "source": [
        "# head (tail) shows the first (last) n rows:\n",
        "# head(sleep, n=2)\n",
        "# tail(sleep, n=3)"
      ],
      "metadata": {
        "id": "HtdGx982gimB"
      },
      "id": "HtdGx982gimB",
      "execution_count": null,
      "outputs": []
    },
    {
      "cell_type": "code",
      "source": [
        "# View will open the whole dataframe\n",
        "# We will comment this out here to save space\n",
        "# View(sleep) # alternatively in RStudio click on sleep in the environment panel"
      ],
      "metadata": {
        "id": "ha5O0dOvMxMl"
      },
      "id": "ha5O0dOvMxMl",
      "execution_count": null,
      "outputs": []
    },
    {
      "cell_type": "markdown",
      "source": [
        "## Data Cleaning and Preparation"
      ],
      "metadata": {
        "id": "HZnFB_aGhNPM"
      },
      "id": "HZnFB_aGhNPM"
    },
    {
      "cell_type": "markdown",
      "source": [
        "### Cleaning column names"
      ],
      "metadata": {
        "id": "nk070xd3iBvP"
      },
      "id": "nk070xd3iBvP"
    },
    {
      "cell_type": "markdown",
      "id": "35fca2f4-2c18-42b6-899d-d80c03f8acd0",
      "metadata": {
        "id": "35fca2f4-2c18-42b6-899d-d80c03f8acd0"
      },
      "source": [
        "A good first step is to clean column names, in case there are any odd symbols or mixed cases. The quickest way to do this is with the clean_names function from the `janitor` package."
      ]
    },
    {
      "cell_type": "code",
      "execution_count": null,
      "id": "c31648a2-1f2b-44da-b86e-aa296a414b9b",
      "metadata": {
        "id": "c31648a2-1f2b-44da-b86e-aa296a414b9b"
      },
      "outputs": [],
      "source": [
        "# fix column names reassigning this to the dataframe sleep\n",
        "sleep <- clean_names(sleep)\n",
        "\n",
        "# glimpse the dataframe to see the changes that have been made\n",
        "glimpse(sleep)"
      ]
    },
    {
      "cell_type": "markdown",
      "source": [
        "### Trimming the data"
      ],
      "metadata": {
        "id": "LIFCZsGciIXV"
      },
      "id": "LIFCZsGciIXV"
    },
    {
      "cell_type": "markdown",
      "source": [
        "It is often practical to trim your data set down to only the\n",
        "necessary columns (variables). We can easily do this using the `select` function. We will keep the variables mentioned in the [Scenario](#scenario). We will also keep the gender variable `[gender]` too as there may be interesting sex-stratified differences in the data. It is also important to keep the identifier `[id]` for each data entry.\n",
        "\n",
        "```{tip}\n",
        "It is best practise to preserve the original dataframe so when we trim we assign this to a new dataframe.\n",
        "```"
      ],
      "metadata": {
        "id": "G84TcL9NhxL8"
      },
      "id": "G84TcL9NhxL8"
    },
    {
      "cell_type": "code",
      "execution_count": null,
      "id": "d0efd14a-cb31-49c9-8f54-d4dbab0d0dd3",
      "metadata": {
        "id": "d0efd14a-cb31-49c9-8f54-d4dbab0d0dd3"
      },
      "outputs": [],
      "source": [
        "# trim sleep to select columns only and assign this to a new dataframe sleep_trim\n",
        "sleep_trim <- sleep %>%\n",
        "  select(id,\n",
        "    gender,\n",
        "    age,\n",
        "    hypertension,\n",
        "    sleep_hrs_night,\n",
        "    phys_active,\n",
        "    smoke_now,\n",
        "    alcohol_day,\n",
        "    regular_marij,\n",
        "    bmi)\n",
        "\n",
        "# glimpse the new dataframe\n",
        "glimpse(sleep_trim)"
      ]
    },
    {
      "cell_type": "markdown",
      "source": [
        "### Filtering the data"
      ],
      "metadata": {
        "id": "j4rN8mEtla8q"
      },
      "id": "j4rN8mEtla8q"
    },
    {
      "cell_type": "markdown",
      "source": [
        "We also want to filter the data down to our cohort of interest. In this case, we are interested in adults 40\n",
        "years or older. We can use the `filter` function to remove participants who are younger than 40 from our data set, or rather only keep participants who are onlder than 40.\n",
        "\n",
        "```{warning}\n",
        "It would be a good idea check a numerical summary of the age variable to make sure there are no extreme or impossible values before we filter\n",
        "```"
      ],
      "metadata": {
        "id": "VNenkbChOKdU"
      },
      "id": "VNenkbChOKdU"
    },
    {
      "cell_type": "code",
      "source": [
        "# generate a summary of the age variable belonging to the sleep_trim dataframe\n",
        "summary(sleep_trim$age)"
      ],
      "metadata": {
        "id": "R2w2E-1qOZph"
      },
      "id": "R2w2E-1qOZph",
      "execution_count": null,
      "outputs": []
    },
    {
      "cell_type": "markdown",
      "source": [
        "This looks reasonbale and so we can proceed to filter."
      ],
      "metadata": {
        "id": "FW8mID1ErysH"
      },
      "id": "FW8mID1ErysH"
    },
    {
      "cell_type": "code",
      "source": [
        "# filter sleep_trim to select entries we want to keep assigned to a new dataframe\n",
        "sleep_40 <- sleep_trim %>%\n",
        "filter(age >= 40) #only those rows with age>=40\n",
        "\n",
        "# add a check that the filter worked\n",
        "cat(\"The minimum age of our data set is:\", min(sleep_40$age), \"\\n\")"
      ],
      "metadata": {
        "id": "KkuLp2GmPRKZ"
      },
      "id": "KkuLp2GmPRKZ",
      "execution_count": null,
      "outputs": []
    },
    {
      "cell_type": "markdown",
      "source": [
        "```{tip}\n",
        "Print statements are a valuable tool when coding (in R or otherwise). Here we make use of the `cat` function so it is clear what the R output is telling us.\n",
        "```"
      ],
      "metadata": {
        "id": "dFAOa_Bjqbpv"
      },
      "id": "dFAOa_Bjqbpv"
    },
    {
      "cell_type": "markdown",
      "source": [
        "### Variable checking"
      ],
      "metadata": {
        "id": "fVs7DTVCQOHT"
      },
      "id": "fVs7DTVCQOHT"
    },
    {
      "cell_type": "markdown",
      "source": [
        "We will go through each of our variables in turn and check for required fixes.\n",
        "\n",
        "```{tip}\n",
        "As a rule of thumb:\n",
        "* if we are checking a continuous variable we can use `summary` which tells you about the distribution of values for that variable.\n",
        "* if we are checking a discrete or catergorical variable we can use the `table` function which tabulates counts of each response.\n",
        "```"
      ],
      "metadata": {
        "id": "Ksan6dIGQS7C"
      },
      "id": "Ksan6dIGQS7C"
    },
    {
      "cell_type": "markdown",
      "source": [
        "We will first consider our exposure variable, in this case, the number of hours a participant sleeps each night `[sleep_hrs_night]`. This is a continuous variable so we will check to see if the summary values look reasonable."
      ],
      "metadata": {
        "id": "gptCvJ4As_G9"
      },
      "id": "gptCvJ4As_G9"
    },
    {
      "cell_type": "code",
      "source": [
        "# generate a summary of sleep_hrs_night variable\n",
        "summary(sleep_40$sleep_hrs_night)"
      ],
      "metadata": {
        "id": "O_1YHF_PQwgf"
      },
      "id": "O_1YHF_PQwgf",
      "execution_count": null,
      "outputs": []
    },
    {
      "cell_type": "markdown",
      "source": [
        "```{tip}\n",
        "Although the values look reasonable, 4 hours is not a lot of sleep. In practice, it might be worth checking with the data provider to make sure that there is not a typo somewhere.\n",
        "```"
      ],
      "metadata": {
        "id": "p6XdAKSAQ_5x"
      },
      "id": "p6XdAKSAQ_5x"
    },
    {
      "cell_type": "markdown",
      "source": [
        "Next we will check our outcome variable, in this case whether a participant has hypertension or not `[hypertension]`. This is a catergorical variable so we can tabulate the responses."
      ],
      "metadata": {
        "id": "Hwiu2EpvsGwg"
      },
      "id": "Hwiu2EpvsGwg"
    },
    {
      "cell_type": "code",
      "source": [
        "# create a table of values for hypertension\n",
        "table(sleep_40$hypertension)"
      ],
      "metadata": {
        "id": "gLK_7bResdWA"
      },
      "id": "gLK_7bResdWA",
      "execution_count": null,
      "outputs": []
    },
    {
      "cell_type": "markdown",
      "source": [
        "This is good there are two possible responses as we would expect."
      ],
      "metadata": {
        "id": "QbZfATQxvR0z"
      },
      "id": "QbZfATQxvR0z"
    },
    {
      "cell_type": "markdown",
      "source": [
        "Now let's fix the `[alcohol_day]` variable, which we saw earlier was classed a character variable. We will tabulate the variable to see what is going on."
      ],
      "metadata": {
        "id": "bfKMtBHNR6Gr"
      },
      "id": "bfKMtBHNR6Gr"
    },
    {
      "cell_type": "code",
      "source": [
        "# create a table of values for alcohol_day\n",
        "table(sleep_40$alcohol_day)"
      ],
      "metadata": {
        "id": "DrZGW0NQShnT"
      },
      "id": "DrZGW0NQShnT",
      "execution_count": null,
      "outputs": []
    },
    {
      "cell_type": "markdown",
      "source": [
        "We can see each response (e.g 1 drink a day) is listed with the respective count (e.g. 1007 have 1 drink a day). We notice that some values were written as text. We need to replace the values written as text and reclassify the variable as numeric.\n",
        "\n",
        "```{tip}\n",
        "Since best practice is to maintain the original data we will create a new variable using the `mutate` function.\n",
        "```"
      ],
      "metadata": {
        "id": "MgX-iAxipdz2"
      },
      "id": "MgX-iAxipdz2"
    },
    {
      "cell_type": "code",
      "source": [
        "# create a numeric alcohol drink count variable called alcohol_day_num\n",
        "sleep_40 <- sleep_40 %>%\n",
        "mutate(alcohol_day_num = case_when(alcohol_day == \"one\" ~ 1, # if alcohol_day is one replace with 1\n",
        "                                   alcohol_day == \"One\" ~ 1,\n",
        "                                   alcohol_day == \"three\" ~ 3,\n",
        "                                   alcohol_day == \"Three\" ~ 3,\n",
        "                                   alcohol_day == \"thre\" ~ 3,\n",
        "                                   alcohol_day == \"Six\" ~ 6,\n",
        "                                   TRUE ~ as.numeric(alcohol_day)))"
      ],
      "metadata": {
        "id": "7PNYSXpiqbpB"
      },
      "id": "7PNYSXpiqbpB",
      "execution_count": null,
      "outputs": []
    },
    {
      "cell_type": "markdown",
      "source": [
        "```{warning}\n",
        "R warns us that since we classified `[alcohol_day_num]` as a numeric variable any remaining text values will be replaced with missing values (NA) so we should check to see if we missed anything by tabulating this new variable.\n",
        "```"
      ],
      "metadata": {
        "id": "uJswdqicsvhI"
      },
      "id": "uJswdqicsvhI"
    },
    {
      "cell_type": "markdown",
      "source": [
        "A slightly tidier version of this code makes use of the `%in%` and `c()` functions"
      ],
      "metadata": {
        "id": "l1E89zvRr00R"
      },
      "id": "l1E89zvRr00R"
    },
    {
      "cell_type": "code",
      "source": [
        "# create a numeric alcohol drink count variable called alcohol_day_num\n",
        "sleep_40 <- sleep_40 %>%\n",
        "mutate(alcohol_day_num = case_when(alcohol_day %in% c(\"one\", \"One\") ~ 1, #replace one or One with 1\n",
        "                                   alcohol_day %in% c(\"three\", \"Three\", \"thre\") ~ 3,\n",
        "                                   alcohol_day == \"six\" ~ 6,\n",
        "                                   TRUE ~ as.numeric(alcohol_day)))"
      ],
      "metadata": {
        "id": "pO4luR71sKin"
      },
      "id": "pO4luR71sKin",
      "execution_count": null,
      "outputs": []
    },
    {
      "cell_type": "code",
      "source": [
        "# create a table of values for alcohol_day_num\n",
        "table(sleep_40$alcohol_day_num)\n",
        "\n",
        "# check the class of alcohol_day_num\n",
        "cat(\"alcohol_day_num is of type:\", class(sleep_40$alcohol_day_num), \"\\n\")"
      ],
      "metadata": {
        "id": "yLYN67uDtqpx"
      },
      "id": "yLYN67uDtqpx",
      "execution_count": null,
      "outputs": []
    },
    {
      "cell_type": "markdown",
      "source": [
        "```{tip}\n",
        "It would be a good idea to check the counts of `[alcohol_day_num]` correctly align with those from `[alcohol_day]`\n",
        "```"
      ],
      "metadata": {
        "id": "1IaW1xgYubSt"
      },
      "id": "1IaW1xgYubSt"
    },
    {
      "cell_type": "markdown",
      "source": [
        "Now let us check the remaining variables"
      ],
      "metadata": {
        "id": "quLW8qRkviRK"
      },
      "id": "quLW8qRkviRK"
    },
    {
      "cell_type": "code",
      "source": [
        "# check marijuana indicator variable\n",
        "table(sleep_40$regular_marij)"
      ],
      "metadata": {
        "id": "7T7gKTnHvneP"
      },
      "id": "7T7gKTnHvneP",
      "execution_count": null,
      "outputs": []
    },
    {
      "cell_type": "code",
      "source": [
        "# check smoker indicator variable\n",
        "table(sleep_40$smoke_now)"
      ],
      "metadata": {
        "id": "iWB6_0OuvrAh"
      },
      "id": "iWB6_0OuvrAh",
      "execution_count": null,
      "outputs": []
    },
    {
      "cell_type": "code",
      "source": [
        "# check physical activity indicator variable\n",
        "table(sleep_40$phys_active)"
      ],
      "metadata": {
        "id": "xqxy95-kvyj5"
      },
      "id": "xqxy95-kvyj5",
      "execution_count": null,
      "outputs": []
    },
    {
      "cell_type": "markdown",
      "source": [
        "All three of these variables are binary variables with only yes and no responses (with no typos!).\n",
        "\n",
        "```{note}\n",
        "Such data could equally be stored as a logical variable where for example, `smoke_now==True` was equivalent to `smoke_now==Yes`.\n",
        "```"
      ],
      "metadata": {
        "id": "PS_g6883v7C4"
      },
      "id": "PS_g6883v7C4"
    },
    {
      "cell_type": "markdown",
      "source": [
        "Moving onto the `[bmi]` data. As this data is likely to take continuous rather than discrete values we would use the `summary` function rather than tabulating all values."
      ],
      "metadata": {
        "id": "jo6X9YrkxBQ8"
      },
      "id": "jo6X9YrkxBQ8"
    },
    {
      "cell_type": "code",
      "source": [
        "# generate a summary of bmi variable\n",
        "summary(sleep_40$bmi)"
      ],
      "metadata": {
        "id": "LQHoGlG9wviV"
      },
      "id": "LQHoGlG9wviV",
      "execution_count": null,
      "outputs": []
    },
    {
      "cell_type": "markdown",
      "source": [
        "This seems reasonable, but the [Scenario](#scenario) listed BMI groups (e.g. underweight, healthy, overweight, obese) rather than the BMI. Let us create a new bmi variable to aggregate participants into their BMI group."
      ],
      "metadata": {
        "id": "VMge7zj5zWyd"
      },
      "id": "VMge7zj5zWyd"
    },
    {
      "cell_type": "code",
      "source": [
        "# create a discrete BMI variable called bmi_group\n",
        "sleep_40 <- sleep_40 %>%\n",
        "mutate(bmi_group = case_when(bmi < 18.5 ~ \"Underweight\",\n",
        "                             bmi >= 18.5 & bmi < 25 ~ \"Healthy\",\n",
        "                             bmi >= 25 & bmi < 30 ~ \"Overweight\",\n",
        "                             bmi >= 30 ~ \"Obese\",\n",
        "                             TRUE ~ NA)) # any values that are not captured by the conditions are set as missing"
      ],
      "metadata": {
        "id": "2Nv9vZLoz6Lk"
      },
      "id": "2Nv9vZLoz6Lk",
      "execution_count": null,
      "outputs": []
    },
    {
      "cell_type": "markdown",
      "source": [
        "Now that we have a discrete variable `[bmi_group]` we can check this using the `table` function and check we don't have any missing values."
      ],
      "metadata": {
        "id": "Z9fNpbej0gS8"
      },
      "id": "Z9fNpbej0gS8"
    },
    {
      "cell_type": "code",
      "source": [
        "# create a table of values for bmi_group\n",
        "table(sleep_40$bmi_group)"
      ],
      "metadata": {
        "id": "lq5mq4fd0uLz"
      },
      "id": "lq5mq4fd0uLz",
      "execution_count": null,
      "outputs": []
    },
    {
      "cell_type": "markdown",
      "source": [
        "We can also check that we got our groupings correct. The following lines of code show that our minimum and maximum values all line up with the correct BMI groupings.\n",
        "\n"
      ],
      "metadata": {
        "id": "-idos55p1Qif"
      },
      "id": "-idos55p1Qif"
    },
    {
      "cell_type": "code",
      "source": [
        "sleep_40 %>%\n",
        "group_by(bmi_group) %>%\n",
        "summarise(min_bmi = min(bmi),\n",
        "          max_bmi = max(bmi)) %>%\n",
        "            arrange(min_bmi) # arrange in ascending min_bmi order (default alphabetical)"
      ],
      "metadata": {
        "id": "pzFlPPuG05sV"
      },
      "id": "pzFlPPuG05sV",
      "execution_count": null,
      "outputs": []
    },
    {
      "cell_type": "markdown",
      "source": [
        "# Visualisations"
      ],
      "metadata": {
        "id": "uojcM9VXdn5y"
      },
      "id": "uojcM9VXdn5y"
    },
    {
      "cell_type": "markdown",
      "source": [
        "Now that the data is cleaned and ready to go we can start creating our data summaries and visuals."
      ],
      "metadata": {
        "id": "9Zj5xN6RdxPe"
      },
      "id": "9Zj5xN6RdxPe"
    },
    {
      "cell_type": "markdown",
      "source": [
        "## Tables"
      ],
      "metadata": {
        "id": "rDxXHA8zd1vK"
      },
      "id": "rDxXHA8zd1vK"
    },
    {
      "cell_type": "markdown",
      "source": [
        "Let’s create a table for the research project. A table should include all the variables of interest in the study and thus, describes the sample.\n",
        "We will use the `select` function to pick the variables to include in the table and the `tbl_summary` function from the `gtsummary` package to create the table.\n",
        "\n",
        "\n",
        "```{tip}\n",
        "It is not uncommon to miss something in the initial data cleaning, so carefully examine all the tables and graphs you make. If you do notice some data cleaning step that you missed, it’s a good idea to add the missed step to the original data cleaningcode, if possible, to keep your code organised.\n",
        "```"
      ],
      "metadata": {
        "id": "xXSVIXIWd3kP"
      },
      "id": "xXSVIXIWd3kP"
    },
    {
      "cell_type": "code",
      "source": [
        "# create a table and assign it to the object table_1\n",
        "table_1 <- sleep_40 %>%\n",
        "  # select the variables to include\n",
        "  select(gender,\n",
        "         age,\n",
        "         phys_active,\n",
        "         smoke_now,\n",
        "         alcohol_day_num,\n",
        "         regular_marij,\n",
        "         bmi_group,\n",
        "         hypertension,\n",
        "         sleep_hrs_night) %>%\n",
        "           display_html(tbl_summary(missing_text = \"(Missing)\",\n",
        "                # define clear labels for each variable\n",
        "                label = list(gender ~ \"Gender\",\n",
        "                age ~ \"Age\",\n",
        "                phys_active ~ \"Regularly Physically Activity\",\n",
        "                smoke_now ~ \"Current Smoker\",\n",
        "                alcohol_day_num ~ \"Alcohol Drinks per Day\",\n",
        "                regular_marij ~ \"Regular Marijuana User\",\n",
        "                bmi_group ~ \"BMI\",\n",
        "                hypertension ~ \"Hypertension\",\n",
        "                sleep_hrs_night ~ \"Sleep (hrs/night)\")))\n",
        "\n",
        "# display the table\n",
        "table_1"
      ],
      "metadata": {
        "id": "w9etrzeXeYDn"
      },
      "id": "w9etrzeXeYDn",
      "execution_count": null,
      "outputs": []
    },
    {
      "cell_type": "markdown",
      "source": [
        "## Graphs"
      ],
      "metadata": {
        "id": "wezeRX6cfRv3"
      },
      "id": "wezeRX6cfRv3"
    },
    {
      "cell_type": "markdown",
      "source": [
        "We will create a simple graph of the average number of hours a participant slept per night grouped by the participants hypertension status. We will create a box plot, where separate boxes are used for participants with and without hypertension.\n",
        "Let’s start with a basic box plot of hours of sleep per night and then build out graph up bit by bit from there.\n",
        "We will use the `ggplot` function and `geom_boxplot`."
      ],
      "metadata": {
        "id": "6u4Fxkf9fTsg"
      },
      "id": "6u4Fxkf9fTsg"
    },
    {
      "cell_type": "code",
      "source": [
        "# a simple boxplot of all the data\n",
        "sleep_40 %>%\n",
        "  ggplot(aes(x = hypertension, y = sleep_hrs_night)) +\n",
        "  geom_boxplot()"
      ],
      "metadata": {
        "id": "IE9BToscfk26"
      },
      "id": "IE9BToscfk26",
      "execution_count": null,
      "outputs": []
    },
    {
      "cell_type": "markdown",
      "source": [
        "This is a great start but we could make the graph more aesthetically pleasing. We could:\n",
        "\n",
        "* make the axis labels clear\n",
        "* change the font size\n",
        "* add colour based on hypertension status\n",
        "* change the background by updating the plot theme"
      ],
      "metadata": {
        "id": "7xc0RuCXgawO"
      },
      "id": "7xc0RuCXgawO"
    },
    {
      "cell_type": "code",
      "source": [
        "sleep_40 %>%\n",
        "  ggplot(aes(x = hypertension, y = sleep_hrs_night, group = hypertension,\n",
        "             colour = hypertension, fill = hypertension)) + # add colour\n",
        "  geom_boxplot() +\n",
        "  scale_colour_manual(values = c(\"#7c3b37\", \"#004c4e\")) + # add defined outlines to boxes\n",
        "  labs(x = \"Hypertension Status\", y = \"Hours of Sleep/Night\") + # fix labels\n",
        "  guides(fill = \"none\", colour = \"none\") + # remove legend\n",
        "  theme_bw() + # change background\n",
        "  theme(text = element_text(size = 20)) # increase the font size"
      ],
      "metadata": {
        "id": "HGxrOfGMhHXQ"
      },
      "id": "HGxrOfGMhHXQ",
      "execution_count": null,
      "outputs": []
    }
  ],
  "metadata": {
    "kernelspec": {
      "display_name": "R",
      "language": "R",
      "name": "ir"
    },
    "language_info": {
      "codemirror_mode": "r",
      "file_extension": ".r",
      "mimetype": "text/x-r-source",
      "name": "R",
      "pygments_lexer": "r",
      "version": "4.4.2"
    },
    "colab": {
      "provenance": [],
      "toc_visible": true
    }
  },
  "nbformat": 4,
  "nbformat_minor": 5
}